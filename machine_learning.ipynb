{
 "cells": [
  {
   "cell_type": "code",
   "execution_count": 1,
   "metadata": {},
   "outputs": [
    {
     "name": "stderr",
     "output_type": "stream",
     "text": [
      "/Users/hamsterlord/miniforge3/lib/python3.11/site-packages/tqdm/auto.py:22: TqdmWarning: IProgress not found. Please update jupyter and ipywidgets. See https://ipywidgets.readthedocs.io/en/stable/user_install.html\n",
      "  from .autonotebook import tqdm as notebook_tqdm\n"
     ]
    }
   ],
   "source": [
    "import os\n",
    "import numpy as np\n",
    "import pandas as pd\n",
    "from sklearn.model_selection import train_test_split\n",
    "import optuna"
   ]
  },
  {
   "cell_type": "code",
   "execution_count": 2,
   "metadata": {},
   "outputs": [],
   "source": [
    "df = pd.read_csv(\"data/final/final.csv\")\n",
    "df = df[df['pot_doc'] != '[]']\n",
    "\n",
    "y = np.array(df['documentid'])\n",
    "X = np.array(df)\n",
    "\n",
    "# df[\"pot_doc\"].astype(\"O\")\n",
    "# df[\"pot_date\"].astype(\"O\")\n",
    "# df[\"pot_price\"].astype(\"O\")\n",
    "# df[\"pot_name\"].astype(\"O\")\n",
    "# df[\"pot_address\"].astype(\"O\")\n",
    "\n",
    "X_train, X_test, y_train, y_test = train_test_split(X, y, test_size=0.20)\n",
    "x_column = list(df.columns)\n",
    "x_column.remove('documentid')\n",
    "\n",
    "X_train_df = pd.DataFrame(data = X_train, columns = df.columns)\n",
    "X_test_df = pd.DataFrame(data = X_test, columns = df.columns)\n",
    "y_train_df = pd.DataFrame(data = y_train, columns = ['documentid'])\n",
    "y_test_df = pd.DataFrame(data = y_test, columns = ['documentid'])\n",
    "\n",
    "X_train_df= X_train_df.drop(columns=\"documentid\")\n",
    "X_test_df= X_test_df.drop(columns=\"documentid\")"
   ]
  },
  {
   "cell_type": "code",
   "execution_count": 8,
   "metadata": {},
   "outputs": [],
   "source": [
    "def compute_accuracy(x, y, z,a):\n",
    "    results = []\n",
    "    for row in X_train_df.iterrows():\n",
    "        if (len(eval(row[1]['pot_doc']))==0):\n",
    "            continue\n",
    "        dists = []\n",
    "        \n",
    "        for idx in range(len(eval(row[1]['pot_doc']))):\n",
    "            dists.append((x*eval(row[1]['pot_price'])[idx])**2 \n",
    "            + (y*(100-eval(row[1]['pot_date'])[idx])/30)**2\n",
    "            + (z*(100-eval(row[1]['pot_address'])[idx])/30)**2\n",
    "            #+ (a*eval(row[1]['pot_name'])[idx])**2\n",
    "            )\n",
    "        dists = np.array(dists)\n",
    "        results.append(eval(row[1]['pot_doc'])[dists.argmin()])\n",
    "    results = np.array(results)\n",
    "    return np.sum(results == np.array(y_train_df['documentid']))/len(X_train_df)\n",
    "    \n",
    "def compute_accuracy2(x, y, z, a):\n",
    "    results = []\n",
    "    for row in X_train_df.iterrows():\n",
    "        if (len(eval(row[1]['pot_doc']))==0):\n",
    "            continue\n",
    "        dists = []\n",
    "        \n",
    "        for idx in range(len(eval(row[1]['pot_doc']))):\n",
    "            dists.append((x*eval(row[1]['pot_price'])[idx])**2 \n",
    "            + (y*(100-eval(row[1]['pot_date'])[idx])/30)**2\n",
    "            + (z*(100-eval(row[1]['pot_address'])[idx])/30)**2\n",
    "            #+ (a*eval(row[1]['pot_name'])[idx])**2\n",
    "            )\n",
    "        dists = np.array(dists)\n",
    "        results.append(eval(row[1]['pot_doc'])[dists.argmin()])\n",
    "    results = np.array(results)\n",
    "    return results"
   ]
  },
  {
   "cell_type": "code",
   "execution_count": 6,
   "metadata": {},
   "outputs": [
    {
     "name": "stderr",
     "output_type": "stream",
     "text": [
      "\u001b[32m[I 2023-01-29 01:46:03,562]\u001b[0m A new study created in memory with name: no-name-7105dab5-5100-4a86-8461-a96c1ad972e9\u001b[0m\n",
      "\u001b[32m[I 2023-01-29 01:46:04,286]\u001b[0m Trial 0 finished with value: 0.41755319148936165 and parameters: {'x': 8.883180866218025, 'z': 8.931660834393423}. Best is trial 0 with value: 0.41755319148936165.\u001b[0m\n",
      "\u001b[32m[I 2023-01-29 01:46:05,089]\u001b[0m Trial 1 finished with value: 0.574468085106383 and parameters: {'x': 1.1507959668166312, 'z': 43.70892684136092}. Best is trial 0 with value: 0.41755319148936165.\u001b[0m\n",
      "\u001b[32m[I 2023-01-29 01:46:05,904]\u001b[0m Trial 2 finished with value: 0.40691489361702127 and parameters: {'x': 3.8262894825577423, 'z': 23.484526851359693}. Best is trial 2 with value: 0.40691489361702127.\u001b[0m\n",
      "\u001b[32m[I 2023-01-29 01:46:06,718]\u001b[0m Trial 3 finished with value: 0.401595744680851 and parameters: {'x': 6.138463109316238, 'z': 31.28466242148575}. Best is trial 3 with value: 0.401595744680851.\u001b[0m\n",
      "\u001b[32m[I 2023-01-29 01:46:07,498]\u001b[0m Trial 4 finished with value: 0.39893617021276595 and parameters: {'x': 7.766993080909396, 'z': 27.161816130797224}. Best is trial 4 with value: 0.39893617021276595.\u001b[0m\n",
      "\u001b[32m[I 2023-01-29 01:46:08,211]\u001b[0m Trial 5 finished with value: 0.5638297872340425 and parameters: {'x': 1.1681823140545633, 'z': 31.36196611198955}. Best is trial 4 with value: 0.39893617021276595.\u001b[0m\n",
      "\u001b[32m[I 2023-01-29 01:46:08,931]\u001b[0m Trial 6 finished with value: 0.401595744680851 and parameters: {'x': 5.467849389564259, 'z': 26.047287011546942}. Best is trial 4 with value: 0.39893617021276595.\u001b[0m\n",
      "\u001b[32m[I 2023-01-29 01:46:09,652]\u001b[0m Trial 7 finished with value: 0.401595744680851 and parameters: {'x': 8.892138471805078, 'z': 48.48080271540242}. Best is trial 4 with value: 0.39893617021276595.\u001b[0m\n",
      "\u001b[32m[I 2023-01-29 01:46:10,359]\u001b[0m Trial 8 finished with value: 0.42021276595744683 and parameters: {'x': 8.546703915843537, 'z': 4.553344919091362}. Best is trial 4 with value: 0.39893617021276595.\u001b[0m\n",
      "\u001b[32m[I 2023-01-29 01:46:11,070]\u001b[0m Trial 9 finished with value: 0.401595744680851 and parameters: {'x': 7.946793871498684, 'z': 42.70643088965897}. Best is trial 4 with value: 0.39893617021276595.\u001b[0m\n",
      "\u001b[32m[I 2023-01-29 01:46:11,797]\u001b[0m Trial 10 finished with value: 0.401595744680851 and parameters: {'x': 6.933496622860247, 'z': 13.373146871176885}. Best is trial 4 with value: 0.39893617021276595.\u001b[0m\n",
      "\u001b[32m[I 2023-01-29 01:46:12,509]\u001b[0m Trial 11 finished with value: 0.401595744680851 and parameters: {'x': 6.309022196892186, 'z': 31.427332395877343}. Best is trial 4 with value: 0.39893617021276595.\u001b[0m\n",
      "\u001b[32m[I 2023-01-29 01:46:13,216]\u001b[0m Trial 12 finished with value: 0.4042553191489362 and parameters: {'x': 9.976492977887766, 'z': 17.002477934098927}. Best is trial 4 with value: 0.39893617021276595.\u001b[0m\n",
      "\u001b[32m[I 2023-01-29 01:46:13,924]\u001b[0m Trial 13 finished with value: 0.4122340425531915 and parameters: {'x': 5.128884015421143, 'z': 35.01577611522005}. Best is trial 4 with value: 0.39893617021276595.\u001b[0m\n",
      "\u001b[32m[I 2023-01-29 01:46:14,634]\u001b[0m Trial 14 finished with value: 0.39893617021276595 and parameters: {'x': 6.798074074924283, 'z': 21.96506207787548}. Best is trial 4 with value: 0.39893617021276595.\u001b[0m\n",
      "\u001b[32m[I 2023-01-29 01:46:15,342]\u001b[0m Trial 15 finished with value: 0.39893617021276595 and parameters: {'x': 7.499234315404186, 'z': 19.027878732792665}. Best is trial 4 with value: 0.39893617021276595.\u001b[0m\n",
      "\u001b[32m[I 2023-01-29 01:46:16,049]\u001b[0m Trial 16 finished with value: 0.4228723404255319 and parameters: {'x': 7.089592674467921, 'z': 1.7331598865228166}. Best is trial 4 with value: 0.39893617021276595.\u001b[0m\n",
      "\u001b[32m[I 2023-01-29 01:46:16,758]\u001b[0m Trial 17 finished with value: 0.401595744680851 and parameters: {'x': 4.031557265287168, 'z': 22.208469338298684}. Best is trial 4 with value: 0.39893617021276595.\u001b[0m\n",
      "\u001b[32m[I 2023-01-29 01:46:17,470]\u001b[0m Trial 18 finished with value: 0.4042553191489362 and parameters: {'x': 9.661552628996615, 'z': 16.021306824440046}. Best is trial 4 with value: 0.39893617021276595.\u001b[0m\n",
      "\u001b[32m[I 2023-01-29 01:46:18,185]\u001b[0m Trial 19 finished with value: 0.40691489361702127 and parameters: {'x': 7.2531055682290555, 'z': 10.409698266597484}. Best is trial 4 with value: 0.39893617021276595.\u001b[0m\n",
      "\u001b[32m[I 2023-01-29 01:46:18,892]\u001b[0m Trial 20 finished with value: 0.39893617021276595 and parameters: {'x': 8.274955770833, 'z': 26.32508343142407}. Best is trial 4 with value: 0.39893617021276595.\u001b[0m\n",
      "\u001b[32m[I 2023-01-29 01:46:19,603]\u001b[0m Trial 21 finished with value: 0.39893617021276595 and parameters: {'x': 7.584150706745769, 'z': 19.393351349269107}. Best is trial 4 with value: 0.39893617021276595.\u001b[0m\n",
      "\u001b[32m[I 2023-01-29 01:46:20,314]\u001b[0m Trial 22 finished with value: 0.39893617021276595 and parameters: {'x': 6.466419471154017, 'z': 19.882529845156686}. Best is trial 4 with value: 0.39893617021276595.\u001b[0m\n",
      "\u001b[32m[I 2023-01-29 01:46:21,047]\u001b[0m Trial 23 finished with value: 0.4042553191489362 and parameters: {'x': 8.072553389764524, 'z': 14.932104199152079}. Best is trial 4 with value: 0.39893617021276595.\u001b[0m\n",
      "\u001b[32m[I 2023-01-29 01:46:21,777]\u001b[0m Trial 24 finished with value: 0.39893617021276595 and parameters: {'x': 7.519097250911754, 'z': 21.103113370827785}. Best is trial 4 with value: 0.39893617021276595.\u001b[0m\n",
      "\u001b[32m[I 2023-01-29 01:46:22,489]\u001b[0m Trial 25 finished with value: 0.401595744680851 and parameters: {'x': 5.67161117302534, 'z': 26.622198113687222}. Best is trial 4 with value: 0.39893617021276595.\u001b[0m\n",
      "\u001b[32m[I 2023-01-29 01:46:23,217]\u001b[0m Trial 26 finished with value: 0.39893617021276595 and parameters: {'x': 6.576030099128295, 'z': 18.701109935614816}. Best is trial 4 with value: 0.39893617021276595.\u001b[0m\n",
      "\u001b[32m[I 2023-01-29 01:46:23,940]\u001b[0m Trial 27 finished with value: 0.39893617021276595 and parameters: {'x': 9.222381709822507, 'z': 23.980870570506248}. Best is trial 4 with value: 0.39893617021276595.\u001b[0m\n",
      "\u001b[32m[I 2023-01-29 01:46:24,656]\u001b[0m Trial 28 finished with value: 0.4042553191489362 and parameters: {'x': 8.231483115141822, 'z': 12.953670725247829}. Best is trial 4 with value: 0.39893617021276595.\u001b[0m\n",
      "\u001b[32m[I 2023-01-29 01:46:25,372]\u001b[0m Trial 29 finished with value: 0.41755319148936165 and parameters: {'x': 9.01667099123944, 'z': 8.04999497063745}. Best is trial 4 with value: 0.39893617021276595.\u001b[0m\n",
      "\u001b[32m[I 2023-01-29 01:46:26,089]\u001b[0m Trial 30 finished with value: 0.39893617021276595 and parameters: {'x': 7.7304875351592495, 'z': 18.03144384590688}. Best is trial 4 with value: 0.39893617021276595.\u001b[0m\n",
      "\u001b[32m[I 2023-01-29 01:46:26,810]\u001b[0m Trial 31 finished with value: 0.39893617021276595 and parameters: {'x': 8.495266202191983, 'z': 27.712008187914325}. Best is trial 4 with value: 0.39893617021276595.\u001b[0m\n",
      "\u001b[32m[I 2023-01-29 01:46:27,534]\u001b[0m Trial 32 finished with value: 0.39893617021276595 and parameters: {'x': 7.221107494493145, 'z': 22.822536171246465}. Best is trial 4 with value: 0.39893617021276595.\u001b[0m\n",
      "\u001b[32m[I 2023-01-29 01:46:28,249]\u001b[0m Trial 33 finished with value: 0.39893617021276595 and parameters: {'x': 8.329216344980887, 'z': 25.18391176813653}. Best is trial 4 with value: 0.39893617021276595.\u001b[0m\n",
      "\u001b[32m[I 2023-01-29 01:46:28,958]\u001b[0m Trial 34 finished with value: 0.39893617021276595 and parameters: {'x': 6.83111932820197, 'z': 28.227366152740814}. Best is trial 4 with value: 0.39893617021276595.\u001b[0m\n",
      "\u001b[32m[I 2023-01-29 01:46:29,666]\u001b[0m Trial 35 finished with value: 0.39893617021276595 and parameters: {'x': 6.133013800652682, 'z': 21.585314795493915}. Best is trial 4 with value: 0.39893617021276595.\u001b[0m\n",
      "\u001b[32m[I 2023-01-29 01:46:30,373]\u001b[0m Trial 36 finished with value: 0.39893617021276595 and parameters: {'x': 9.469062264921195, 'z': 28.990115401265257}. Best is trial 4 with value: 0.39893617021276595.\u001b[0m\n",
      "\u001b[32m[I 2023-01-29 01:46:31,091]\u001b[0m Trial 37 finished with value: 0.39893617021276595 and parameters: {'x': 8.658810346764538, 'z': 24.12269820746952}. Best is trial 4 with value: 0.39893617021276595.\u001b[0m\n",
      "\u001b[32m[I 2023-01-29 01:46:31,802]\u001b[0m Trial 38 finished with value: 0.401595744680851 and parameters: {'x': 7.856189756883672, 'z': 33.756268206404314}. Best is trial 4 with value: 0.39893617021276595.\u001b[0m\n",
      "\u001b[32m[I 2023-01-29 01:46:32,508]\u001b[0m Trial 39 finished with value: 0.39893617021276595 and parameters: {'x': 8.823246034941333, 'z': 25.192703046486898}. Best is trial 4 with value: 0.39893617021276595.\u001b[0m\n",
      "\u001b[32m[I 2023-01-29 01:46:33,218]\u001b[0m Trial 40 finished with value: 0.39893617021276595 and parameters: {'x': 5.938988448531072, 'z': 20.37275509313831}. Best is trial 4 with value: 0.39893617021276595.\u001b[0m\n",
      "\u001b[32m[I 2023-01-29 01:46:33,926]\u001b[0m Trial 41 finished with value: 0.39893617021276595 and parameters: {'x': 7.4628928773706145, 'z': 17.49265905286575}. Best is trial 4 with value: 0.39893617021276595.\u001b[0m\n",
      "\u001b[32m[I 2023-01-29 01:46:34,634]\u001b[0m Trial 42 finished with value: 0.39893617021276595 and parameters: {'x': 7.5852873460622545, 'z': 19.850116237063908}. Best is trial 4 with value: 0.39893617021276595.\u001b[0m\n",
      "\u001b[32m[I 2023-01-29 01:46:35,339]\u001b[0m Trial 43 finished with value: 0.39893617021276595 and parameters: {'x': 6.822308855829637, 'z': 22.885068546841392}. Best is trial 4 with value: 0.39893617021276595.\u001b[0m\n",
      "\u001b[32m[I 2023-01-29 01:46:36,044]\u001b[0m Trial 44 finished with value: 0.39893617021276595 and parameters: {'x': 8.145470090551681, 'z': 29.77231139289498}. Best is trial 4 with value: 0.39893617021276595.\u001b[0m\n",
      "\u001b[32m[I 2023-01-29 01:46:36,749]\u001b[0m Trial 45 finished with value: 0.39893617021276595 and parameters: {'x': 7.829327739460022, 'z': 25.97884655586509}. Best is trial 4 with value: 0.39893617021276595.\u001b[0m\n",
      "\u001b[32m[I 2023-01-29 01:46:37,454]\u001b[0m Trial 46 finished with value: 0.39893617021276595 and parameters: {'x': 6.995327185064636, 'z': 18.69217844800917}. Best is trial 4 with value: 0.39893617021276595.\u001b[0m\n",
      "\u001b[32m[I 2023-01-29 01:46:38,161]\u001b[0m Trial 47 finished with value: 0.4042553191489362 and parameters: {'x': 8.93637964955095, 'z': 14.349561815905204}. Best is trial 4 with value: 0.39893617021276595.\u001b[0m\n",
      "\u001b[32m[I 2023-01-29 01:46:38,873]\u001b[0m Trial 48 finished with value: 0.39893617021276595 and parameters: {'x': 6.631154262116993, 'z': 22.333730698331735}. Best is trial 4 with value: 0.39893617021276595.\u001b[0m\n",
      "\u001b[32m[I 2023-01-29 01:46:39,583]\u001b[0m Trial 49 finished with value: 0.401595744680851 and parameters: {'x': 8.518574944139694, 'z': 16.09357259050884}. Best is trial 4 with value: 0.39893617021276595.\u001b[0m\n",
      "\u001b[32m[I 2023-01-29 01:46:40,298]\u001b[0m Trial 50 finished with value: 0.401595744680851 and parameters: {'x': 7.397327004424795, 'z': 31.70480996532688}. Best is trial 4 with value: 0.39893617021276595.\u001b[0m\n",
      "\u001b[32m[I 2023-01-29 01:46:41,006]\u001b[0m Trial 51 finished with value: 0.39893617021276595 and parameters: {'x': 6.674823650387484, 'z': 19.981387545473517}. Best is trial 4 with value: 0.39893617021276595.\u001b[0m\n",
      "\u001b[32m[I 2023-01-29 01:46:41,714]\u001b[0m Trial 52 finished with value: 0.401595744680851 and parameters: {'x': 6.358509649795725, 'z': 26.561237818436975}. Best is trial 4 with value: 0.39893617021276595.\u001b[0m\n",
      "\u001b[32m[I 2023-01-29 01:46:42,423]\u001b[0m Trial 53 finished with value: 0.401595744680851 and parameters: {'x': 5.421429963544833, 'z': 23.808476772133368}. Best is trial 4 with value: 0.39893617021276595.\u001b[0m\n",
      "\u001b[32m[I 2023-01-29 01:46:43,134]\u001b[0m Trial 54 finished with value: 0.39893617021276595 and parameters: {'x': 7.141971573699548, 'z': 21.085917925355147}. Best is trial 4 with value: 0.39893617021276595.\u001b[0m\n",
      "\u001b[32m[I 2023-01-29 01:46:43,852]\u001b[0m Trial 55 finished with value: 0.39893617021276595 and parameters: {'x': 6.268641681036765, 'z': 18.923392817654825}. Best is trial 4 with value: 0.39893617021276595.\u001b[0m\n",
      "\u001b[32m[I 2023-01-29 01:46:44,582]\u001b[0m Trial 56 finished with value: 0.401595744680851 and parameters: {'x': 8.006419329665249, 'z': 17.4391876782849}. Best is trial 4 with value: 0.39893617021276595.\u001b[0m\n",
      "\u001b[32m[I 2023-01-29 01:46:45,305]\u001b[0m Trial 57 finished with value: 0.401595744680851 and parameters: {'x': 7.600163421625722, 'z': 16.219609463267123}. Best is trial 4 with value: 0.39893617021276595.\u001b[0m\n",
      "\u001b[32m[I 2023-01-29 01:46:46,024]\u001b[0m Trial 58 finished with value: 0.39893617021276595 and parameters: {'x': 5.763436377452979, 'z': 21.328638525302402}. Best is trial 4 with value: 0.39893617021276595.\u001b[0m\n",
      "\u001b[32m[I 2023-01-29 01:46:46,740]\u001b[0m Trial 59 finished with value: 0.4042553191489362 and parameters: {'x': 7.176866803459559, 'z': 12.242983519647954}. Best is trial 4 with value: 0.39893617021276595.\u001b[0m\n",
      "\u001b[32m[I 2023-01-29 01:46:47,461]\u001b[0m Trial 60 finished with value: 0.39893617021276595 and parameters: {'x': 8.328697912045287, 'z': 24.737153605391118}. Best is trial 4 with value: 0.39893617021276595.\u001b[0m\n",
      "\u001b[32m[I 2023-01-29 01:46:48,170]\u001b[0m Trial 61 finished with value: 0.39893617021276595 and parameters: {'x': 7.5990009065863795, 'z': 20.273856689516318}. Best is trial 4 with value: 0.39893617021276595.\u001b[0m\n",
      "\u001b[32m[I 2023-01-29 01:46:48,889]\u001b[0m Trial 62 finished with value: 0.39893617021276595 and parameters: {'x': 8.016887855277131, 'z': 22.41634980838656}. Best is trial 4 with value: 0.39893617021276595.\u001b[0m\n",
      "\u001b[32m[I 2023-01-29 01:46:49,604]\u001b[0m Trial 63 finished with value: 0.401595744680851 and parameters: {'x': 6.450938654223992, 'z': 27.288802693159536}. Best is trial 4 with value: 0.39893617021276595.\u001b[0m\n",
      "\u001b[32m[I 2023-01-29 01:46:50,313]\u001b[0m Trial 64 finished with value: 0.39893617021276595 and parameters: {'x': 7.016826070475184, 'z': 23.650397385441156}. Best is trial 4 with value: 0.39893617021276595.\u001b[0m\n",
      "\u001b[32m[I 2023-01-29 01:46:51,019]\u001b[0m Trial 65 finished with value: 0.39893617021276595 and parameters: {'x': 7.404015412977217, 'z': 19.052713626182978}. Best is trial 4 with value: 0.39893617021276595.\u001b[0m\n",
      "\u001b[32m[I 2023-01-29 01:46:51,727]\u001b[0m Trial 66 finished with value: 0.401595744680851 and parameters: {'x': 7.755808104426253, 'z': 15.228254061518365}. Best is trial 4 with value: 0.39893617021276595.\u001b[0m\n",
      "\u001b[32m[I 2023-01-29 01:46:52,434]\u001b[0m Trial 67 finished with value: 0.39893617021276595 and parameters: {'x': 8.549603575192036, 'z': 25.505819423852873}. Best is trial 4 with value: 0.39893617021276595.\u001b[0m\n",
      "\u001b[32m[I 2023-01-29 01:46:53,140]\u001b[0m Trial 68 finished with value: 0.39893617021276595 and parameters: {'x': 6.804418168204275, 'z': 21.445136932971586}. Best is trial 4 with value: 0.39893617021276595.\u001b[0m\n",
      "\u001b[32m[I 2023-01-29 01:46:53,847]\u001b[0m Trial 69 finished with value: 0.401595744680851 and parameters: {'x': 8.269194194090772, 'z': 17.494437501996117}. Best is trial 4 with value: 0.39893617021276595.\u001b[0m\n",
      "\u001b[32m[I 2023-01-29 01:46:54,554]\u001b[0m Trial 70 finished with value: 0.39893617021276595 and parameters: {'x': 7.307618134312344, 'z': 27.57016488742893}. Best is trial 4 with value: 0.39893617021276595.\u001b[0m\n",
      "\u001b[32m[I 2023-01-29 01:46:55,258]\u001b[0m Trial 71 finished with value: 0.39893617021276595 and parameters: {'x': 6.5365295776074746, 'z': 18.964525517199196}. Best is trial 4 with value: 0.39893617021276595.\u001b[0m\n",
      "\u001b[32m[I 2023-01-29 01:46:55,973]\u001b[0m Trial 72 finished with value: 0.39893617021276595 and parameters: {'x': 7.943160232726399, 'z': 23.487654602536338}. Best is trial 4 with value: 0.39893617021276595.\u001b[0m\n",
      "\u001b[32m[I 2023-01-29 01:46:56,693]\u001b[0m Trial 73 finished with value: 0.39893617021276595 and parameters: {'x': 6.089973060472434, 'z': 20.571904339127414}. Best is trial 4 with value: 0.39893617021276595.\u001b[0m\n",
      "\u001b[32m[I 2023-01-29 01:46:57,413]\u001b[0m Trial 74 finished with value: 0.39893617021276595 and parameters: {'x': 6.940368315882294, 'z': 17.59098770818073}. Best is trial 4 with value: 0.39893617021276595.\u001b[0m\n",
      "\u001b[32m[I 2023-01-29 01:46:58,131]\u001b[0m Trial 75 finished with value: 0.39893617021276595 and parameters: {'x': 6.552604383487543, 'z': 25.306130637037235}. Best is trial 4 with value: 0.39893617021276595.\u001b[0m\n",
      "\u001b[32m[I 2023-01-29 01:46:58,838]\u001b[0m Trial 76 finished with value: 0.39893617021276595 and parameters: {'x': 7.605378859304797, 'z': 22.347862833861647}. Best is trial 4 with value: 0.39893617021276595.\u001b[0m\n",
      "\u001b[32m[I 2023-01-29 01:46:59,546]\u001b[0m Trial 77 finished with value: 0.39893617021276595 and parameters: {'x': 7.245379290976383, 'z': 16.75589373449202}. Best is trial 4 with value: 0.39893617021276595.\u001b[0m\n",
      "\u001b[32m[I 2023-01-29 01:47:00,254]\u001b[0m Trial 78 finished with value: 0.39893617021276595 and parameters: {'x': 5.971454359817265, 'z': 19.332344300507227}. Best is trial 4 with value: 0.39893617021276595.\u001b[0m\n",
      "\u001b[32m[I 2023-01-29 01:47:00,960]\u001b[0m Trial 79 finished with value: 0.4042553191489362 and parameters: {'x': 9.221007758553412, 'z': 14.614360723342436}. Best is trial 4 with value: 0.39893617021276595.\u001b[0m\n",
      "\u001b[32m[I 2023-01-29 01:47:01,668]\u001b[0m Trial 80 finished with value: 0.39893617021276595 and parameters: {'x': 8.749286674238219, 'z': 28.761753464916463}. Best is trial 4 with value: 0.39893617021276595.\u001b[0m\n",
      "\u001b[32m[I 2023-01-29 01:47:02,376]\u001b[0m Trial 81 finished with value: 0.39893617021276595 and parameters: {'x': 9.079637876558744, 'z': 23.583998569348886}. Best is trial 4 with value: 0.39893617021276595.\u001b[0m\n",
      "\u001b[32m[I 2023-01-29 01:47:03,084]\u001b[0m Trial 82 finished with value: 0.39893617021276595 and parameters: {'x': 8.346847712052927, 'z': 21.401464887255575}. Best is trial 4 with value: 0.39893617021276595.\u001b[0m\n",
      "\u001b[32m[I 2023-01-29 01:47:03,791]\u001b[0m Trial 83 finished with value: 0.39893617021276595 and parameters: {'x': 7.9087977728923615, 'z': 24.772628423596576}. Best is trial 4 with value: 0.39893617021276595.\u001b[0m\n",
      "\u001b[32m[I 2023-01-29 01:47:04,509]\u001b[0m Trial 84 finished with value: 0.39893617021276595 and parameters: {'x': 9.445231272393134, 'z': 26.328588738905253}. Best is trial 4 with value: 0.39893617021276595.\u001b[0m\n",
      "\u001b[32m[I 2023-01-29 01:47:05,233]\u001b[0m Trial 85 finished with value: 0.39893617021276595 and parameters: {'x': 6.814659910906347, 'z': 18.223034491359076}. Best is trial 4 with value: 0.39893617021276595.\u001b[0m\n",
      "\u001b[32m[I 2023-01-29 01:47:05,956]\u001b[0m Trial 86 finished with value: 0.39893617021276595 and parameters: {'x': 8.786449858846723, 'z': 22.629582776131222}. Best is trial 4 with value: 0.39893617021276595.\u001b[0m\n",
      "\u001b[32m[I 2023-01-29 01:47:06,682]\u001b[0m Trial 87 finished with value: 0.39893617021276595 and parameters: {'x': 7.478673082821693, 'z': 20.201101235215138}. Best is trial 4 with value: 0.39893617021276595.\u001b[0m\n",
      "\u001b[32m[I 2023-01-29 01:47:07,396]\u001b[0m Trial 88 finished with value: 0.39893617021276595 and parameters: {'x': 8.161502751303848, 'z': 24.04852068955433}. Best is trial 4 with value: 0.39893617021276595.\u001b[0m\n",
      "\u001b[32m[I 2023-01-29 01:47:08,106]\u001b[0m Trial 89 finished with value: 0.39893617021276595 and parameters: {'x': 7.109883445769609, 'z': 21.1327867224583}. Best is trial 4 with value: 0.39893617021276595.\u001b[0m\n",
      "\u001b[32m[I 2023-01-29 01:47:08,814]\u001b[0m Trial 90 finished with value: 0.39893617021276595 and parameters: {'x': 6.312839581806455, 'z': 18.429676877737904}. Best is trial 4 with value: 0.39893617021276595.\u001b[0m\n",
      "\u001b[32m[I 2023-01-29 01:47:09,522]\u001b[0m Trial 91 finished with value: 0.401595744680851 and parameters: {'x': 7.601598625818978, 'z': 16.26632795039843}. Best is trial 4 with value: 0.39893617021276595.\u001b[0m\n",
      "\u001b[32m[I 2023-01-29 01:47:10,231]\u001b[0m Trial 92 finished with value: 0.39893617021276595 and parameters: {'x': 7.821746302099277, 'z': 19.70393759142682}. Best is trial 4 with value: 0.39893617021276595.\u001b[0m\n",
      "\u001b[32m[I 2023-01-29 01:47:10,940]\u001b[0m Trial 93 finished with value: 0.39893617021276595 and parameters: {'x': 8.506358479110164, 'z': 21.516873165571702}. Best is trial 4 with value: 0.39893617021276595.\u001b[0m\n",
      "\u001b[32m[I 2023-01-29 01:47:11,652]\u001b[0m Trial 94 finished with value: 0.39893617021276595 and parameters: {'x': 8.084798384776255, 'z': 22.769868687815677}. Best is trial 4 with value: 0.39893617021276595.\u001b[0m\n",
      "\u001b[32m[I 2023-01-29 01:47:12,360]\u001b[0m Trial 95 finished with value: 0.39893617021276595 and parameters: {'x': 7.7545965679018565, 'z': 17.933798373561054}. Best is trial 4 with value: 0.39893617021276595.\u001b[0m\n",
      "\u001b[32m[I 2023-01-29 01:47:13,069]\u001b[0m Trial 96 finished with value: 0.39893617021276595 and parameters: {'x': 7.266463843834731, 'z': 26.95423727442363}. Best is trial 4 with value: 0.39893617021276595.\u001b[0m\n",
      "\u001b[32m[I 2023-01-29 01:47:13,777]\u001b[0m Trial 97 finished with value: 0.39893617021276595 and parameters: {'x': 6.74139063458624, 'z': 15.497307642822443}. Best is trial 4 with value: 0.39893617021276595.\u001b[0m\n",
      "\u001b[32m[I 2023-01-29 01:47:14,486]\u001b[0m Trial 98 finished with value: 0.39893617021276595 and parameters: {'x': 7.043671019145282, 'z': 24.50924707984147}. Best is trial 4 with value: 0.39893617021276595.\u001b[0m\n",
      "\u001b[32m[I 2023-01-29 01:47:15,199]\u001b[0m Trial 99 finished with value: 0.39893617021276595 and parameters: {'x': 7.367811546152223, 'z': 20.315202516273818}. Best is trial 4 with value: 0.39893617021276595.\u001b[0m\n"
     ]
    },
    {
     "data": {
      "text/plain": [
       "{'x': 7.766993080909396, 'z': 27.161816130797224}"
      ]
     },
     "execution_count": 6,
     "metadata": {},
     "output_type": "execute_result"
    }
   ],
   "source": [
    "\n",
    "# dfs = pd.DataFrame()\n",
    "# ss = pd.DataFrame()\n",
    "\n",
    "# dfs['result'] = ss.apply(lambda row: (row['documentid'] in row['pot_doc']), axis=1)\n",
    "# print(dfs)\n",
    "# num_trues = dfs['result'].value_counts()[True]\n",
    "# print(num_trues)\n",
    "def objective(trial):\n",
    "    x = trial.suggest_float('x', 0, 10)\n",
    "    #y = trial.suggest_float('y', 0, 10)\n",
    "    z = trial.suggest_float('z', 0, 50)\n",
    "    #a = trial.suggest_float('a', 0, 10)\n",
    "    return 1-compute_accuracy(x,1.0,z,0)\n",
    "\n",
    "study = optuna.create_study()\n",
    "study.optimize(objective, n_trials=100)\n",
    "\n",
    "study.best_params  # E.g. {'x': 2.002108042}"
   ]
  },
  {
   "cell_type": "code",
   "execution_count": 11,
   "metadata": {},
   "outputs": [
    {
     "name": "stdout",
     "output_type": "stream",
     "text": [
      "376 376\n"
     ]
    }
   ],
   "source": [
    "res = compute_accuracy2(study.best_params['x'], 1, study.best_params['z'], 0)\n",
    "real = list(X_train_df['pot_doc'])\n",
    "print(len(res), len(real))"
   ]
  },
  {
   "cell_type": "code",
   "execution_count": null,
   "metadata": {},
   "outputs": [],
   "source": [
    "for i in range(len(res)):\n",
    "    if res[i] != real[i]:\n",
    "        print(res[i], real[i])"
   ]
  }
 ],
 "metadata": {
  "kernelspec": {
   "display_name": "base",
   "language": "python",
   "name": "python3"
  },
  "language_info": {
   "codemirror_mode": {
    "name": "ipython",
    "version": 3
   },
   "file_extension": ".py",
   "mimetype": "text/x-python",
   "name": "python",
   "nbconvert_exporter": "python",
   "pygments_lexer": "ipython3",
   "version": "3.11.0"
  },
  "orig_nbformat": 4,
  "vscode": {
   "interpreter": {
    "hash": "9aec51e42af8da0c7c30aaf57f0f757435da4e088540033f4f1cafd61d7c10ec"
   }
  }
 },
 "nbformat": 4,
 "nbformat_minor": 2
}
