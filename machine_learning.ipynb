{
 "cells": [
  {
   "cell_type": "code",
   "execution_count": 100,
   "metadata": {},
   "outputs": [],
   "source": [
    "import os\n",
    "import numpy as np\n",
    "import pandas as pd\n",
    "from sklearn.model_selection import train_test_split\n",
    "import optuna"
   ]
  },
  {
   "cell_type": "code",
   "execution_count": 101,
   "metadata": {},
   "outputs": [],
   "source": [
    "#creates the training dataset\n",
    "df_train = pd.read_csv(\"data/final/final_training.csv\")\n",
    "df_train = df_train[df_train['pot_doc'] != '[]']\n",
    "X_train_df=pd.DataFrame(data = np.array(df), columns = df.columns).drop(columns=\"documentid\").drop(columns=\"Unnamed: 0\")\n",
    "y_train_df = pd.DataFrame(data = np.array(df['documentid']), columns = ['documentid'])\n",
    "\n",
    "#creates the testing dataset\n",
    "df_train = pd.read_csv(\"data/final/final_test.csv\")\n",
    "X_test_df=pd.DataFrame(data = np.array(df), columns = df.columns).drop(columns=\"documentid\").drop(columns=\"Unnamed: 0\")\n",
    "y_test_df = pd.DataFrame(data = np.array(df['documentid']), columns = ['documentid'])\n"
   ]
  },
  {
   "cell_type": "code",
   "execution_count": 102,
   "metadata": {},
   "outputs": [],
   "source": [
    "def compute_accuracy(x, y, z,a):\n",
    "    results = []\n",
    "    for row in X_train_df.iterrows():\n",
    "        if (len(eval(row[1]['pot_doc']))==0):\n",
    "            continue\n",
    "        dists = []\n",
    "        \n",
    "        for idx in range(len(eval(row[1]['pot_doc']))):\n",
    "            dists.append((x*(100-eval(row[1]['pot_price'])[idx])/100)**2 \n",
    "            + (y*(1-eval(row[1]['pot_date'])[idx]))**2)\n",
    "            + (z*(100-eval(row[1]['pot_address'])[idx])/100)**2\n",
    "            #+ (a*eval(row[1]['pot_name'])[idx])**2\n",
    "            \n",
    "        dists = np.array(dists)\n",
    "        results.append(eval(row[1]['pot_doc'])[dists.argmin()])\n",
    "    results = np.array(results)\n",
    "    return np.sum(results == np.array(y_train_df['documentid']))/len(X_train_df)\n",
    "    \n",
    "def compute_accuracy2(x, y, z, a):\n",
    "    results = []\n",
    "    for row in X_test_df.iterrows():\n",
    "        if (len(eval(row[1]['pot_doc']))==0):\n",
    "            continue\n",
    "        dists = []\n",
    "        \n",
    "        for idx in range(len(eval(row[1]['pot_doc']))):\n",
    "            dists.append((x*(100-eval(row[1]['pot_price'])[idx])/100)**2 \n",
    "            + (y*(1-eval(row[1]['pot_date'])[idx]))**2\n",
    "            + (z*(100-eval(row[1]['pot_address'])[idx])/100)**2\n",
    "            #+ (a*eval(row[1]['pot_name'])[idx])**2\n",
    "            )\n",
    "        dists = np.array(dists)\n",
    "        results.append(eval(row[1]['pot_doc'])[dists.argmin()])\n",
    "    results = np.array(results)\n",
    "    return results"
   ]
  },
  {
   "cell_type": "code",
   "execution_count": 103,
   "metadata": {},
   "outputs": [
    {
     "name": "stderr",
     "output_type": "stream",
     "text": [
      "\u001b[32m[I 2023-01-29 07:40:32,362]\u001b[0m A new study created in memory with name: no-name-e0a767c4-af09-4c02-ac5b-2e1913ae27eb\u001b[0m\n",
      "\u001b[32m[I 2023-01-29 07:40:32,612]\u001b[0m Trial 0 finished with value: 0.16801619433198378 and parameters: {'x': 6.570318854726422, 'y': 7.781333003394635, 'z': 2.000563672773532}. Best is trial 0 with value: 0.16801619433198378.\u001b[0m\n",
      "\u001b[32m[I 2023-01-29 07:40:32,844]\u001b[0m Trial 1 finished with value: 0.16801619433198378 and parameters: {'x': 1.527916338738975, 'y': 0.42560099262255013, 'z': 6.403317704718856}. Best is trial 0 with value: 0.16801619433198378.\u001b[0m\n",
      "\u001b[32m[I 2023-01-29 07:40:33,098]\u001b[0m Trial 2 finished with value: 0.16801619433198378 and parameters: {'x': 4.375325172990934, 'y': 7.689626739724722, 'z': 0.4035831063603301}. Best is trial 0 with value: 0.16801619433198378.\u001b[0m\n",
      "\u001b[32m[I 2023-01-29 07:40:33,334]\u001b[0m Trial 3 finished with value: 0.16801619433198378 and parameters: {'x': 5.734738042264006, 'y': 6.442943356214837, 'z': 6.976713609007506}. Best is trial 0 with value: 0.16801619433198378.\u001b[0m\n",
      "\u001b[32m[I 2023-01-29 07:40:33,583]\u001b[0m Trial 4 finished with value: 0.16801619433198378 and parameters: {'x': 4.596171518287495, 'y': 2.0055167736846427, 'z': 6.894304111650746}. Best is trial 0 with value: 0.16801619433198378.\u001b[0m\n",
      "\u001b[32m[I 2023-01-29 07:40:33,826]\u001b[0m Trial 5 finished with value: 0.16801619433198378 and parameters: {'x': 2.8449345741938803, 'y': 7.657273440378499, 'z': 6.660174749522941}. Best is trial 0 with value: 0.16801619433198378.\u001b[0m\n",
      "\u001b[32m[I 2023-01-29 07:40:34,074]\u001b[0m Trial 6 finished with value: 0.16801619433198378 and parameters: {'x': 1.0689396185686229, 'y': 1.9538360544272215, 'z': 5.21795297361339}. Best is trial 0 with value: 0.16801619433198378.\u001b[0m\n",
      "\u001b[32m[I 2023-01-29 07:40:34,307]\u001b[0m Trial 7 finished with value: 0.16801619433198378 and parameters: {'x': 8.95497981879721, 'y': 7.484611578227725, 'z': 1.0752343460284552}. Best is trial 0 with value: 0.16801619433198378.\u001b[0m\n",
      "\u001b[32m[I 2023-01-29 07:40:34,536]\u001b[0m Trial 8 finished with value: 0.16801619433198378 and parameters: {'x': 1.3567488930649696, 'y': 8.372491385567663, 'z': 1.7295073176880438}. Best is trial 0 with value: 0.16801619433198378.\u001b[0m\n",
      "\u001b[32m[I 2023-01-29 07:40:34,764]\u001b[0m Trial 9 finished with value: 0.16801619433198378 and parameters: {'x': 9.224757672424701, 'y': 2.5002167947173524, 'z': 5.851829978609821}. Best is trial 0 with value: 0.16801619433198378.\u001b[0m\n",
      "\u001b[32m[I 2023-01-29 07:40:35,000]\u001b[0m Trial 10 finished with value: 0.16801619433198378 and parameters: {'x': 7.030800383934381, 'y': 9.8627835143882, 'z': 9.618691590674242}. Best is trial 0 with value: 0.16801619433198378.\u001b[0m\n",
      "\u001b[32m[I 2023-01-29 07:40:35,237]\u001b[0m Trial 11 finished with value: 0.16801619433198378 and parameters: {'x': 0.3826941703338349, 'y': 0.08646823917216123, 'z': 2.138053101857371}. Best is trial 0 with value: 0.16801619433198378.\u001b[0m\n",
      "\u001b[32m[I 2023-01-29 07:40:35,473]\u001b[0m Trial 12 finished with value: 0.16801619433198378 and parameters: {'x': 3.027435474634317, 'y': 4.762837908452725, 'z': 3.1992010163886837}. Best is trial 0 with value: 0.16801619433198378.\u001b[0m\n",
      "\u001b[32m[I 2023-01-29 07:40:35,712]\u001b[0m Trial 13 finished with value: 0.16801619433198378 and parameters: {'x': 6.592799817642994, 'y': 5.005089760111844, 'z': 3.654615879133309}. Best is trial 0 with value: 0.16801619433198378.\u001b[0m\n",
      "\u001b[32m[I 2023-01-29 07:40:35,951]\u001b[0m Trial 14 finished with value: 0.16801619433198378 and parameters: {'x': 2.59819603587107, 'y': 4.538072977482457, 'z': 4.7090040314762085}. Best is trial 0 with value: 0.16801619433198378.\u001b[0m\n",
      "\u001b[32m[I 2023-01-29 07:40:36,206]\u001b[0m Trial 15 finished with value: 0.16801619433198378 and parameters: {'x': 7.5156198905982325, 'y': 0.03772319980209671, 'z': 0.11534618245720996}. Best is trial 0 with value: 0.16801619433198378.\u001b[0m\n",
      "\u001b[32m[I 2023-01-29 07:40:36,447]\u001b[0m Trial 16 finished with value: 0.16801619433198378 and parameters: {'x': 5.203590263391774, 'y': 6.034781241654487, 'z': 3.3439413396666993}. Best is trial 0 with value: 0.16801619433198378.\u001b[0m\n",
      "\u001b[32m[I 2023-01-29 07:40:36,691]\u001b[0m Trial 17 finished with value: 0.16801619433198378 and parameters: {'x': 0.03233325497637507, 'y': 3.322066414070309, 'z': 2.422476862985461}. Best is trial 0 with value: 0.16801619433198378.\u001b[0m\n",
      "\u001b[32m[I 2023-01-29 07:40:36,927]\u001b[0m Trial 18 finished with value: 0.16801619433198378 and parameters: {'x': 3.636120292969924, 'y': 1.0233715350898667, 'z': 4.665025199338522}. Best is trial 0 with value: 0.16801619433198378.\u001b[0m\n",
      "\u001b[32m[I 2023-01-29 07:40:37,174]\u001b[0m Trial 19 finished with value: 0.16801619433198378 and parameters: {'x': 1.8644906931179897, 'y': 4.060799119544445, 'z': 1.1672237387506104}. Best is trial 0 with value: 0.16801619433198378.\u001b[0m\n",
      "\u001b[32m[I 2023-01-29 07:40:37,414]\u001b[0m Trial 20 finished with value: 0.16801619433198378 and parameters: {'x': 5.603300535563956, 'y': 3.640937361856032, 'z': 7.967800037268985}. Best is trial 0 with value: 0.16801619433198378.\u001b[0m\n",
      "\u001b[32m[I 2023-01-29 07:40:37,664]\u001b[0m Trial 21 finished with value: 0.16801619433198378 and parameters: {'x': 4.097042364669108, 'y': 5.831273876085255, 'z': 0.01125216450417732}. Best is trial 0 with value: 0.16801619433198378.\u001b[0m\n",
      "\u001b[32m[I 2023-01-29 07:40:37,908]\u001b[0m Trial 22 finished with value: 0.16801619433198378 and parameters: {'x': 4.130944682250124, 'y': 9.293220908008037, 'z': 1.1879809368522745}. Best is trial 0 with value: 0.16801619433198378.\u001b[0m\n",
      "\u001b[32m[I 2023-01-29 07:40:38,156]\u001b[0m Trial 23 finished with value: 0.16801619433198378 and parameters: {'x': 2.2260300169029894, 'y': 7.282131160561203, 'z': 2.8860050776850676}. Best is trial 0 with value: 0.16801619433198378.\u001b[0m\n",
      "\u001b[32m[I 2023-01-29 07:40:38,403]\u001b[0m Trial 24 finished with value: 0.16801619433198378 and parameters: {'x': 4.815708060332988, 'y': 8.7709461333008, 'z': 0.6254063847320113}. Best is trial 0 with value: 0.16801619433198378.\u001b[0m\n",
      "\u001b[32m[I 2023-01-29 07:40:38,656]\u001b[0m Trial 25 finished with value: 0.16801619433198378 and parameters: {'x': 3.336993677297685, 'y': 6.640741935997469, 'z': 3.9993194417649414}. Best is trial 0 with value: 0.16801619433198378.\u001b[0m\n",
      "\u001b[32m[I 2023-01-29 07:40:38,897]\u001b[0m Trial 26 finished with value: 0.16801619433198378 and parameters: {'x': 1.7178850964694128, 'y': 8.23657455293244, 'z': 2.3474860960437622}. Best is trial 0 with value: 0.16801619433198378.\u001b[0m\n",
      "\u001b[32m[I 2023-01-29 07:40:39,140]\u001b[0m Trial 27 finished with value: 0.16801619433198378 and parameters: {'x': 3.640447295677744, 'y': 5.1311427213602325, 'z': 1.335990363348449}. Best is trial 0 with value: 0.16801619433198378.\u001b[0m\n",
      "\u001b[32m[I 2023-01-29 07:40:39,380]\u001b[0m Trial 28 finished with value: 0.16801619433198378 and parameters: {'x': 0.8644105887962323, 'y': 6.9734391141388965, 'z': 0.5841418976318913}. Best is trial 0 with value: 0.16801619433198378.\u001b[0m\n",
      "\u001b[32m[I 2023-01-29 07:40:39,623]\u001b[0m Trial 29 finished with value: 0.16801619433198378 and parameters: {'x': 6.271903580736059, 'y': 5.852458881502969, 'z': 2.594369294020077}. Best is trial 0 with value: 0.16801619433198378.\u001b[0m\n",
      "\u001b[32m[I 2023-01-29 07:40:39,861]\u001b[0m Trial 30 finished with value: 0.16801619433198378 and parameters: {'x': 5.856438735532497, 'y': 6.30513107224067, 'z': 1.8045115642061291}. Best is trial 0 with value: 0.16801619433198378.\u001b[0m\n",
      "\u001b[32m[I 2023-01-29 07:40:40,099]\u001b[0m Trial 31 finished with value: 0.16801619433198378 and parameters: {'x': 4.726024536433502, 'y': 7.852623486282234, 'z': 7.020160095119715}. Best is trial 0 with value: 0.16801619433198378.\u001b[0m\n",
      "\u001b[32m[I 2023-01-29 07:40:40,344]\u001b[0m Trial 32 finished with value: 0.16801619433198378 and parameters: {'x': 5.144292713969444, 'y': 6.824924334451234, 'z': 6.108924446351168}. Best is trial 0 with value: 0.16801619433198378.\u001b[0m\n",
      "\u001b[32m[I 2023-01-29 07:40:40,589]\u001b[0m Trial 33 finished with value: 0.16801619433198378 and parameters: {'x': 4.261815405185768, 'y': 7.867203764015146, 'z': 7.502040557038911}. Best is trial 0 with value: 0.16801619433198378.\u001b[0m\n",
      "\u001b[32m[I 2023-01-29 07:40:40,826]\u001b[0m Trial 34 finished with value: 0.16801619433198378 and parameters: {'x': 7.987391295095005, 'y': 7.144413034237276, 'z': 5.47131768063368}. Best is trial 0 with value: 0.16801619433198378.\u001b[0m\n",
      "\u001b[32m[I 2023-01-29 07:40:41,064]\u001b[0m Trial 35 finished with value: 0.16801619433198378 and parameters: {'x': 5.764000971644857, 'y': 5.521295784691485, 'z': 6.29043468424311}. Best is trial 0 with value: 0.16801619433198378.\u001b[0m\n",
      "\u001b[32m[I 2023-01-29 07:40:41,306]\u001b[0m Trial 36 finished with value: 0.16801619433198378 and parameters: {'x': 3.0208744170612976, 'y': 6.486970487642013, 'z': 5.305837397755974}. Best is trial 0 with value: 0.16801619433198378.\u001b[0m\n",
      "\u001b[32m[I 2023-01-29 07:40:41,547]\u001b[0m Trial 37 finished with value: 0.16801619433198378 and parameters: {'x': 6.653545961226435, 'y': 7.551643362658285, 'z': 6.740099597725071}. Best is trial 0 with value: 0.16801619433198378.\u001b[0m\n",
      "\u001b[32m[I 2023-01-29 07:40:41,787]\u001b[0m Trial 38 finished with value: 0.16801619433198378 and parameters: {'x': 2.4704071159201115, 'y': 1.6135257325034615, 'z': 1.7745215793960911}. Best is trial 0 with value: 0.16801619433198378.\u001b[0m\n",
      "\u001b[32m[I 2023-01-29 07:40:42,024]\u001b[0m Trial 39 finished with value: 0.16801619433198378 and parameters: {'x': 5.384589295959836, 'y': 2.6573780071517077, 'z': 8.131127870138336}. Best is trial 0 with value: 0.16801619433198378.\u001b[0m\n",
      "\u001b[32m[I 2023-01-29 07:40:42,261]\u001b[0m Trial 40 finished with value: 0.16801619433198378 and parameters: {'x': 6.141786185083353, 'y': 8.579557799500975, 'z': 5.844904618617704}. Best is trial 0 with value: 0.16801619433198378.\u001b[0m\n",
      "\u001b[32m[I 2023-01-29 07:40:42,499]\u001b[0m Trial 41 finished with value: 0.16801619433198378 and parameters: {'x': 4.629272936224064, 'y': 0.5578756148539473, 'z': 6.972527527989262}. Best is trial 0 with value: 0.16801619433198378.\u001b[0m\n",
      "\u001b[32m[I 2023-01-29 07:40:42,733]\u001b[0m Trial 42 finished with value: 0.16801619433198378 and parameters: {'x': 7.18871532737079, 'y': 1.3853209870621601, 'z': 4.023493876406887}. Best is trial 0 with value: 0.16801619433198378.\u001b[0m\n",
      "\u001b[32m[I 2023-01-29 07:40:42,967]\u001b[0m Trial 43 finished with value: 0.16801619433198378 and parameters: {'x': 5.529975512443572, 'y': 2.38765682884864, 'z': 6.46942388502166}. Best is trial 0 with value: 0.16801619433198378.\u001b[0m\n",
      "\u001b[32m[I 2023-01-29 07:40:43,201]\u001b[0m Trial 44 finished with value: 0.16801619433198378 and parameters: {'x': 0.8925388662303484, 'y': 0.3507977115104083, 'z': 5.68718650342843}. Best is trial 0 with value: 0.16801619433198378.\u001b[0m\n",
      "\u001b[32m[I 2023-01-29 07:40:43,436]\u001b[0m Trial 45 finished with value: 0.16801619433198378 and parameters: {'x': 5.065930163060535, 'y': 0.7232441714442455, 'z': 4.9221224740349445}. Best is trial 0 with value: 0.16801619433198378.\u001b[0m\n",
      "\u001b[32m[I 2023-01-29 07:40:43,669]\u001b[0m Trial 46 finished with value: 0.16801619433198378 and parameters: {'x': 2.865144998603254, 'y': 1.0701543863169434, 'z': 0.6175678069662858}. Best is trial 0 with value: 0.16801619433198378.\u001b[0m\n",
      "\u001b[32m[I 2023-01-29 07:40:43,903]\u001b[0m Trial 47 finished with value: 0.16801619433198378 and parameters: {'x': 6.274972172408169, 'y': 1.8478287789498116, 'z': 6.046107841932264}. Best is trial 0 with value: 0.16801619433198378.\u001b[0m\n",
      "\u001b[32m[I 2023-01-29 07:40:44,137]\u001b[0m Trial 48 finished with value: 0.16801619433198378 and parameters: {'x': 4.492236800737661, 'y': 0.13800334637188116, 'z': 7.395686313468477}. Best is trial 0 with value: 0.16801619433198378.\u001b[0m\n",
      "\u001b[32m[I 2023-01-29 07:40:44,379]\u001b[0m Trial 49 finished with value: 0.16801619433198378 and parameters: {'x': 3.3811009216319814, 'y': 7.523383584676855, 'z': 5.152706043250808}. Best is trial 0 with value: 0.16801619433198378.\u001b[0m\n",
      "\u001b[32m[I 2023-01-29 07:40:44,614]\u001b[0m Trial 50 finished with value: 0.16801619433198378 and parameters: {'x': 3.8857514960954895, 'y': 1.1223213279528679, 'z': 8.548072177108565}. Best is trial 0 with value: 0.16801619433198378.\u001b[0m\n",
      "\u001b[32m[I 2023-01-29 07:40:44,849]\u001b[0m Trial 51 finished with value: 0.16801619433198378 and parameters: {'x': 1.3533991776957701, 'y': 6.964054394634024, 'z': 6.450199373120058}. Best is trial 0 with value: 0.16801619433198378.\u001b[0m\n",
      "\u001b[32m[I 2023-01-29 07:40:45,085]\u001b[0m Trial 52 finished with value: 0.16801619433198378 and parameters: {'x': 4.306122153025243, 'y': 8.083691110027283, 'z': 5.634096450423389}. Best is trial 0 with value: 0.16801619433198378.\u001b[0m\n",
      "\u001b[32m[I 2023-01-29 07:40:45,321]\u001b[0m Trial 53 finished with value: 0.16801619433198378 and parameters: {'x': 4.950756693425672, 'y': 8.911449904146163, 'z': 6.597831645136804}. Best is trial 0 with value: 0.16801619433198378.\u001b[0m\n",
      "\u001b[32m[I 2023-01-29 07:40:45,558]\u001b[0m Trial 54 finished with value: 0.16801619433198378 and parameters: {'x': 2.113320399440374, 'y': 7.7074927881933375, 'z': 6.0256044327702565}. Best is trial 0 with value: 0.16801619433198378.\u001b[0m\n",
      "\u001b[32m[I 2023-01-29 07:40:45,797]\u001b[0m Trial 55 finished with value: 0.16801619433198378 and parameters: {'x': 5.31495202952193, 'y': 7.306925569608994, 'z': 6.94337065835186}. Best is trial 0 with value: 0.16801619433198378.\u001b[0m\n",
      "\u001b[32m[I 2023-01-29 07:40:46,035]\u001b[0m Trial 56 finished with value: 0.16801619433198378 and parameters: {'x': 4.049207913201011, 'y': 6.339697602439628, 'z': 0.3546317806648747}. Best is trial 0 with value: 0.16801619433198378.\u001b[0m\n",
      "\u001b[32m[I 2023-01-29 07:40:46,274]\u001b[0m Trial 57 finished with value: 0.16801619433198378 and parameters: {'x': 2.7137622919154243, 'y': 8.03653920384374, 'z': 2.083982924399704}. Best is trial 0 with value: 0.16801619433198378.\u001b[0m\n",
      "\u001b[32m[I 2023-01-29 07:40:46,508]\u001b[0m Trial 58 finished with value: 0.16801619433198378 and parameters: {'x': 3.6319330158872476, 'y': 8.454092922878159, 'z': 0.023989452265971156}. Best is trial 0 with value: 0.16801619433198378.\u001b[0m\n",
      "\u001b[32m[I 2023-01-29 07:40:46,747]\u001b[0m Trial 59 finished with value: 0.16801619433198378 and parameters: {'x': 1.7959288559452389, 'y': 4.2086310019614706, 'z': 0.9067079622950511}. Best is trial 0 with value: 0.16801619433198378.\u001b[0m\n",
      "\u001b[32m[I 2023-01-29 07:40:46,987]\u001b[0m Trial 60 finished with value: 0.16801619433198378 and parameters: {'x': 3.1511409553764604, 'y': 6.687134876136303, 'z': 1.0706110882247972}. Best is trial 0 with value: 0.16801619433198378.\u001b[0m\n",
      "\u001b[32m[I 2023-01-29 07:40:47,229]\u001b[0m Trial 61 finished with value: 0.16801619433198378 and parameters: {'x': 2.464222010149741, 'y': 3.4309695932991238, 'z': 4.5260549321939445}. Best is trial 0 with value: 0.16801619433198378.\u001b[0m\n",
      "\u001b[32m[I 2023-01-29 07:40:47,474]\u001b[0m Trial 62 finished with value: 0.16801619433198378 and parameters: {'x': 1.4491387387939623, 'y': 0.6976206333113927, 'z': 5.563195208630968}. Best is trial 0 with value: 0.16801619433198378.\u001b[0m\n",
      "\u001b[32m[I 2023-01-29 07:40:47,716]\u001b[0m Trial 63 finished with value: 0.16801619433198378 and parameters: {'x': 0.8231120724371243, 'y': 1.923411947743381, 'z': 2.721480251929126}. Best is trial 0 with value: 0.16801619433198378.\u001b[0m\n",
      "\u001b[32m[I 2023-01-29 07:40:47,953]\u001b[0m Trial 64 finished with value: 0.16801619433198378 and parameters: {'x': 0.27577509367716435, 'y': 0.05728548745803924, 'z': 6.235975863830498}. Best is trial 0 with value: 0.16801619433198378.\u001b[0m\n",
      "\u001b[32m[I 2023-01-29 07:40:48,189]\u001b[0m Trial 65 finished with value: 0.16801619433198378 and parameters: {'x': 2.1169956730022905, 'y': 7.329966881653348, 'z': 3.1902053530645675}. Best is trial 0 with value: 0.16801619433198378.\u001b[0m\n",
      "\u001b[32m[I 2023-01-29 07:40:48,426]\u001b[0m Trial 66 finished with value: 0.16801619433198378 and parameters: {'x': 5.87297677506681, 'y': 5.427776710064066, 'z': 5.262142745343438}. Best is trial 0 with value: 0.16801619433198378.\u001b[0m\n",
      "\u001b[32m[I 2023-01-29 07:40:48,667]\u001b[0m Trial 67 finished with value: 0.16801619433198378 and parameters: {'x': 4.846464292336991, 'y': 2.8902224899207143, 'z': 1.3523578327867807}. Best is trial 0 with value: 0.16801619433198378.\u001b[0m\n",
      "\u001b[32m[I 2023-01-29 07:40:48,907]\u001b[0m Trial 68 finished with value: 0.16801619433198378 and parameters: {'x': 4.617244884296633, 'y': 2.2601734880776725, 'z': 7.322225016961296}. Best is trial 0 with value: 0.16801619433198378.\u001b[0m\n",
      "\u001b[32m[I 2023-01-29 07:40:49,145]\u001b[0m Trial 69 finished with value: 0.16801619433198378 and parameters: {'x': 5.136124900336645, 'y': 1.3861207575524497, 'z': 6.767140857347662}. Best is trial 0 with value: 0.16801619433198378.\u001b[0m\n",
      "\u001b[32m[I 2023-01-29 07:40:49,380]\u001b[0m Trial 70 finished with value: 0.16801619433198378 and parameters: {'x': 3.806529898105706, 'y': 6.118999832158854, 'z': 5.909036840312394}. Best is trial 0 with value: 0.16801619433198378.\u001b[0m\n",
      "\u001b[32m[I 2023-01-29 07:40:49,616]\u001b[0m Trial 71 finished with value: 0.16801619433198378 and parameters: {'x': 9.084660646589846, 'y': 8.193122562489574, 'z': 1.547457031396298}. Best is trial 0 with value: 0.16801619433198378.\u001b[0m\n",
      "\u001b[32m[I 2023-01-29 07:40:49,857]\u001b[0m Trial 72 finished with value: 0.16801619433198378 and parameters: {'x': 5.431140390161713, 'y': 7.113160381569139, 'z': 0.6205756643652105}. Best is trial 0 with value: 0.16801619433198378.\u001b[0m\n",
      "\u001b[32m[I 2023-01-29 07:40:50,112]\u001b[0m Trial 73 finished with value: 0.16801619433198378 and parameters: {'x': 7.706067796841275, 'y': 7.797572033888185, 'z': 6.417666528054643}. Best is trial 0 with value: 0.16801619433198378.\u001b[0m\n",
      "\u001b[32m[I 2023-01-29 07:40:50,374]\u001b[0m Trial 74 finished with value: 0.16801619433198378 and parameters: {'x': 9.953005778885942, 'y': 6.772242737200889, 'z': 0.23811204102680628}. Best is trial 0 with value: 0.16801619433198378.\u001b[0m\n",
      "\u001b[32m[I 2023-01-29 07:40:50,621]\u001b[0m Trial 75 finished with value: 0.16801619433198378 and parameters: {'x': 6.895032448124567, 'y': 7.516734275297036, 'z': 1.053305873633049}. Best is trial 0 with value: 0.16801619433198378.\u001b[0m\n",
      "\u001b[32m[I 2023-01-29 07:40:50,857]\u001b[0m Trial 76 finished with value: 0.16801619433198378 and parameters: {'x': 6.48616305969379, 'y': 4.639735087256138, 'z': 0.8098699037575507}. Best is trial 0 with value: 0.16801619433198378.\u001b[0m\n",
      "\u001b[32m[I 2023-01-29 07:40:51,094]\u001b[0m Trial 77 finished with value: 0.16801619433198378 and parameters: {'x': 4.42623415487614, 'y': 8.34386736426732, 'z': 1.526745269889238}. Best is trial 0 with value: 0.16801619433198378.\u001b[0m\n",
      "\u001b[32m[I 2023-01-29 07:40:51,332]\u001b[0m Trial 78 finished with value: 0.16801619433198378 and parameters: {'x': 5.705611361833058, 'y': 2.9342081244154348, 'z': 5.851306448903323}. Best is trial 0 with value: 0.16801619433198378.\u001b[0m\n",
      "\u001b[32m[I 2023-01-29 07:40:51,568]\u001b[0m Trial 79 finished with value: 0.16801619433198378 and parameters: {'x': 4.159825405174525, 'y': 7.004243099646112, 'z': 7.108768442921869}. Best is trial 0 with value: 0.16801619433198378.\u001b[0m\n",
      "\u001b[32m[I 2023-01-29 07:40:51,808]\u001b[0m Trial 80 finished with value: 0.16801619433198378 and parameters: {'x': 6.0726296061425336, 'y': 0.8506253921960967, 'z': 2.187700839321091}. Best is trial 0 with value: 0.16801619433198378.\u001b[0m\n",
      "\u001b[32m[I 2023-01-29 07:40:52,044]\u001b[0m Trial 81 finished with value: 0.16801619433198378 and parameters: {'x': 1.444238099213413, 'y': 7.910638289792221, 'z': 0.34516410203371334}. Best is trial 0 with value: 0.16801619433198378.\u001b[0m\n",
      "\u001b[32m[I 2023-01-29 07:40:52,277]\u001b[0m Trial 82 finished with value: 0.16801619433198378 and parameters: {'x': 4.796773336210281, 'y': 7.501090026154933, 'z': 1.948408549185003}. Best is trial 0 with value: 0.16801619433198378.\u001b[0m\n",
      "\u001b[32m[I 2023-01-29 07:40:52,512]\u001b[0m Trial 83 finished with value: 0.16801619433198378 and parameters: {'x': 2.3729257589786035, 'y': 8.670780729463186, 'z': 2.4521237837857934}. Best is trial 0 with value: 0.16801619433198378.\u001b[0m\n",
      "\u001b[32m[I 2023-01-29 07:40:52,748]\u001b[0m Trial 84 finished with value: 0.16801619433198378 and parameters: {'x': 1.9344404593347562, 'y': 8.993956159372868, 'z': 6.197055298836449}. Best is trial 0 with value: 0.16801619433198378.\u001b[0m\n",
      "\u001b[32m[I 2023-01-29 07:40:52,984]\u001b[0m Trial 85 finished with value: 0.16801619433198378 and parameters: {'x': 5.1465679389048535, 'y': 8.170544297031597, 'z': 1.643135412821642}. Best is trial 0 with value: 0.16801619433198378.\u001b[0m\n",
      "\u001b[32m[I 2023-01-29 07:40:53,219]\u001b[0m Trial 86 finished with value: 0.16801619433198378 and parameters: {'x': 1.0458315352659586, 'y': 6.565756882955838, 'z': 1.2324842103986076}. Best is trial 0 with value: 0.16801619433198378.\u001b[0m\n",
      "\u001b[32m[I 2023-01-29 07:40:53,454]\u001b[0m Trial 87 finished with value: 0.16801619433198378 and parameters: {'x': 0.6643825780989359, 'y': 0.40909979116692585, 'z': 6.768456321124198}. Best is trial 0 with value: 0.16801619433198378.\u001b[0m\n",
      "\u001b[32m[I 2023-01-29 07:40:53,691]\u001b[0m Trial 88 finished with value: 0.16801619433198378 and parameters: {'x': 2.721137018072003, 'y': 8.37048804122516, 'z': 7.647833003186429}. Best is trial 0 with value: 0.16801619433198378.\u001b[0m\n",
      "\u001b[32m[I 2023-01-29 07:40:53,928]\u001b[0m Trial 89 finished with value: 0.16801619433198378 and parameters: {'x': 1.7042545462171197, 'y': 7.694423854575608, 'z': 1.8184203318956624}. Best is trial 0 with value: 0.16801619433198378.\u001b[0m\n",
      "\u001b[32m[I 2023-01-29 07:40:54,164]\u001b[0m Trial 90 finished with value: 0.16801619433198378 and parameters: {'x': 5.502302359035911, 'y': 7.958524282331334, 'z': 6.568383438407794}. Best is trial 0 with value: 0.16801619433198378.\u001b[0m\n",
      "\u001b[32m[I 2023-01-29 07:40:54,399]\u001b[0m Trial 91 finished with value: 0.16801619433198378 and parameters: {'x': 8.147527211996582, 'y': 1.9604881263665943, 'z': 5.483174138208645}. Best is trial 0 with value: 0.16801619433198378.\u001b[0m\n",
      "\u001b[32m[I 2023-01-29 07:40:54,635]\u001b[0m Trial 92 finished with value: 0.16801619433198378 and parameters: {'x': 4.412489710814114, 'y': 1.739105757637, 'z': 6.111545427977532}. Best is trial 0 with value: 0.16801619433198378.\u001b[0m\n",
      "\u001b[32m[I 2023-01-29 07:40:54,871]\u001b[0m Trial 93 finished with value: 0.16801619433198378 and parameters: {'x': 1.220075049358678, 'y': 1.2299455395220757, 'z': 0.8709066510765268}. Best is trial 0 with value: 0.16801619433198378.\u001b[0m\n",
      "\u001b[32m[I 2023-01-29 07:40:55,108]\u001b[0m Trial 94 finished with value: 0.16801619433198378 and parameters: {'x': 3.4282671611571436, 'y': 1.5747437268399131, 'z': 5.040859293877788}. Best is trial 0 with value: 0.16801619433198378.\u001b[0m\n",
      "\u001b[32m[I 2023-01-29 07:40:55,344]\u001b[0m Trial 95 finished with value: 0.16801619433198378 and parameters: {'x': 3.0276674290129693, 'y': 2.1940252686840305, 'z': 6.305553553254382}. Best is trial 0 with value: 0.16801619433198378.\u001b[0m\n",
      "\u001b[32m[I 2023-01-29 07:40:55,580]\u001b[0m Trial 96 finished with value: 0.16801619433198378 and parameters: {'x': 1.6773598409323194, 'y': 7.232164821979619, 'z': 4.775242903018384}. Best is trial 0 with value: 0.16801619433198378.\u001b[0m\n",
      "\u001b[32m[I 2023-01-29 07:40:55,817]\u001b[0m Trial 97 finished with value: 0.16801619433198378 and parameters: {'x': 0.4739525099143669, 'y': 2.500287803533805, 'z': 5.742845875233589}. Best is trial 0 with value: 0.16801619433198378.\u001b[0m\n",
      "\u001b[32m[I 2023-01-29 07:40:56,052]\u001b[0m Trial 98 finished with value: 0.16801619433198378 and parameters: {'x': 1.139278101398351, 'y': 0.8723731623011102, 'z': 6.6423443479541815}. Best is trial 0 with value: 0.16801619433198378.\u001b[0m\n",
      "\u001b[32m[I 2023-01-29 07:40:56,287]\u001b[0m Trial 99 finished with value: 0.16801619433198378 and parameters: {'x': 4.914524047450102, 'y': 3.8373898231800867, 'z': 0.42453367729089164}. Best is trial 0 with value: 0.16801619433198378.\u001b[0m\n"
     ]
    },
    {
     "data": {
      "text/plain": [
       "{'x': 6.570318854726422, 'y': 7.781333003394635, 'z': 2.000563672773532}"
      ]
     },
     "execution_count": 103,
     "metadata": {},
     "output_type": "execute_result"
    }
   ],
   "source": [
    "\n",
    "def objective(trial):\n",
    "    x = trial.suggest_float('x', 0, 10)\n",
    "    y = trial.suggest_float('y', 0, 10)\n",
    "    z = trial.suggest_float('z', 0, 10)\n",
    "    #a = trial.suggest_float('a', 0, 10)\n",
    "    return 1-compute_accuracy(x,y,z,0)\n",
    "\n",
    "study = optuna.create_study()\n",
    "study.optimize(objective, n_trials=100)\n",
    "\n",
    "study.best_params  # E.g. {'x': 2.002108042}\n",
    "\n"
   ]
  },
  {
   "cell_type": "code",
   "execution_count": 106,
   "metadata": {},
   "outputs": [],
   "source": [
    "res = compute_accuracy2(study.best_params['x'], 1, study.best_params['y'], 0)\n",
    "\n",
    "real = list(y_test_df['documentid'])\n"
   ]
  },
  {
   "cell_type": "code",
   "execution_count": 105,
   "metadata": {},
   "outputs": [
    {
     "name": "stdout",
     "output_type": "stream",
     "text": [
      "84.21052631578947\n"
     ]
    }
   ],
   "source": [
    "'''\n",
    "calculates the percentage where our predicted data conforms to our acutal data\n",
    "'''\n",
    "def calculate_percentage(list_a, list_b):\n",
    "    common_elements = set(list_a) & set(list_b)\n",
    "    percentage = (len(common_elements) / len(list_a)) * 100\n",
    "    return percentage\n",
    "    \n",
    "#from our model, we have a predicted accuracy of 84.21052631578947\n",
    "print(calculate_percentage(res,real))"
   ]
  }
 ],
 "metadata": {
  "kernelspec": {
   "display_name": "base",
   "language": "python",
   "name": "python3"
  },
  "language_info": {
   "codemirror_mode": {
    "name": "ipython",
    "version": 3
   },
   "file_extension": ".py",
   "mimetype": "text/x-python",
   "name": "python",
   "nbconvert_exporter": "python",
   "pygments_lexer": "ipython3",
   "version": "3.11.0"
  },
  "orig_nbformat": 4,
  "vscode": {
   "interpreter": {
    "hash": "9aec51e42af8da0c7c30aaf57f0f757435da4e088540033f4f1cafd61d7c10ec"
   }
  }
 },
 "nbformat": 4,
 "nbformat_minor": 2
}
