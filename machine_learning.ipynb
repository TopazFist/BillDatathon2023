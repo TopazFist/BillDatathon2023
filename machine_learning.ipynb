{
 "cells": [
  {
   "cell_type": "code",
   "execution_count": 47,
   "metadata": {},
   "outputs": [],
   "source": [
    "import os\n",
    "import numpy as np\n",
    "import pandas as pd\n",
    "from sklearn.model_selection import train_test_split\n",
    "import optuna"
   ]
  },
  {
   "cell_type": "code",
   "execution_count": 69,
   "metadata": {},
   "outputs": [],
   "source": [
    "df_train = pd.read_csv(\"data/final/final_training.csv\")\n",
    "df_train = df_train[df_train['pot_doc'] != '[]']\n",
    "X_train_df=pd.DataFrame(data = np.array(df), columns = df.columns).drop(columns=\"documentid\").drop(columns=\"Unnamed: 0\")\n",
    "y_train_df = pd.DataFrame(data = np.array(df['documentid']), columns = ['documentid'])\n",
    "X_train_df\n",
    "\n",
    "df_train = pd.read_csv(\"data/final/final_test.csv\")\n",
    "X_test_df=pd.DataFrame(data = np.array(df), columns = df.columns).drop(columns=\"documentid\").drop(columns=\"Unnamed: 0\")\n",
    "y_test_df = pd.DataFrame(data = np.array(df['documentid']), columns = ['documentid'])\n"
   ]
  },
  {
   "cell_type": "code",
   "execution_count": 86,
   "metadata": {},
   "outputs": [],
   "source": [
    "def compute_accuracy(x, y, z,a):\n",
    "    results = []\n",
    "    for row in X_train_df.iterrows():\n",
    "        if (len(eval(row[1]['pot_doc']))==0):\n",
    "            continue\n",
    "        dists = []\n",
    "        \n",
    "        for idx in range(len(eval(row[1]['pot_doc']))):\n",
    "            dists.append((x*(100-eval(row[1]['pot_price'])[idx])/100)**2 \n",
    "            + (y*(1-eval(row[1]['pot_date'])[idx]))**2)\n",
    "\n",
    "            #+ (z*(100-eval(row[1]['pot_address'])[idx])/100)**2\n",
    "            #+ (a*eval(row[1]['pot_name'])[idx])**2\n",
    "            \n",
    "        dists = np.array(dists)\n",
    "        results.append(eval(row[1]['pot_doc'])[dists.argmin()])\n",
    "    results = np.array(results)\n",
    "    return np.sum(results == np.array(y_train_df['documentid']))/len(X_train_df)\n",
    "    \n",
    "def compute_accuracy2(x, y, z, a):\n",
    "    results = []\n",
    "    for row in X_test_df.iterrows():\n",
    "        if (len(eval(row[1]['pot_doc']))==0):\n",
    "            continue\n",
    "        dists = []\n",
    "        \n",
    "        for idx in range(len(eval(row[1]['pot_doc']))):\n",
    "            dists.append((x*(100-eval(row[1]['pot_price'])[idx])/100)**2 \n",
    "            + (y*(1-eval(row[1]['pot_date'])[idx]))**2\n",
    "            + (z*(100-eval(row[1]['pot_address'])[idx])/100)**2\n",
    "            #+ (a*eval(row[1]['pot_name'])[idx])**2\n",
    "            )\n",
    "        dists = np.array(dists)\n",
    "        results.append(eval(row[1]['pot_doc'])[dists.argmin()])\n",
    "    results = np.array(results)\n",
    "    return results"
   ]
  },
  {
   "cell_type": "code",
   "execution_count": 87,
   "metadata": {},
   "outputs": [
    {
     "name": "stderr",
     "output_type": "stream",
     "text": [
      "\u001b[32m[I 2023-01-29 07:17:09,814]\u001b[0m A new study created in memory with name: no-name-7b622970-115e-479f-a9fb-df62c9461029\u001b[0m\n",
      "\u001b[32m[I 2023-01-29 07:17:10,011]\u001b[0m Trial 0 finished with value: 0.16801619433198378 and parameters: {'x': 1.9157405090737178, 'y': 2.3110454523936683, 'z': 0.09760513623840483}. Best is trial 0 with value: 0.16801619433198378.\u001b[0m\n",
      "\u001b[32m[I 2023-01-29 07:17:10,208]\u001b[0m Trial 1 finished with value: 0.16801619433198378 and parameters: {'x': 2.1758086894997106, 'y': 5.103961274643098, 'z': 0.6819490860624772}. Best is trial 0 with value: 0.16801619433198378.\u001b[0m\n",
      "\u001b[32m[I 2023-01-29 07:17:10,413]\u001b[0m Trial 2 finished with value: 0.16801619433198378 and parameters: {'x': 3.357929782695578, 'y': 0.6204379311787345, 'z': 0.5228266781609568}. Best is trial 0 with value: 0.16801619433198378.\u001b[0m\n",
      "\u001b[32m[I 2023-01-29 07:17:10,617]\u001b[0m Trial 3 finished with value: 0.16801619433198378 and parameters: {'x': 5.779616915185361, 'y': 3.1910921116166167, 'z': 0.9177136138253703}. Best is trial 0 with value: 0.16801619433198378.\u001b[0m\n",
      "\u001b[32m[I 2023-01-29 07:17:10,815]\u001b[0m Trial 4 finished with value: 0.16801619433198378 and parameters: {'x': 6.8872706305088185, 'y': 9.174823721167728, 'z': 0.38272581849297127}. Best is trial 0 with value: 0.16801619433198378.\u001b[0m\n",
      "\u001b[32m[I 2023-01-29 07:17:11,015]\u001b[0m Trial 5 finished with value: 0.16801619433198378 and parameters: {'x': 4.621444751425248, 'y': 4.133074048852224, 'z': 0.2970767075494194}. Best is trial 0 with value: 0.16801619433198378.\u001b[0m\n",
      "\u001b[32m[I 2023-01-29 07:17:11,215]\u001b[0m Trial 6 finished with value: 0.16801619433198378 and parameters: {'x': 8.973373162105602, 'y': 4.619763023246656, 'z': 0.8822995639500985}. Best is trial 0 with value: 0.16801619433198378.\u001b[0m\n",
      "\u001b[32m[I 2023-01-29 07:17:11,417]\u001b[0m Trial 7 finished with value: 0.16801619433198378 and parameters: {'x': 6.894528843729591, 'y': 7.453146241424213, 'z': 0.5771687376208529}. Best is trial 0 with value: 0.16801619433198378.\u001b[0m\n",
      "\u001b[32m[I 2023-01-29 07:17:11,620]\u001b[0m Trial 8 finished with value: 0.16801619433198378 and parameters: {'x': 3.7638057792474022, 'y': 4.52747711673272, 'z': 0.35147620413624536}. Best is trial 0 with value: 0.16801619433198378.\u001b[0m\n",
      "\u001b[32m[I 2023-01-29 07:17:11,817]\u001b[0m Trial 9 finished with value: 0.16801619433198378 and parameters: {'x': 8.28325557134315, 'y': 9.422532883833659, 'z': 0.8175577718050708}. Best is trial 0 with value: 0.16801619433198378.\u001b[0m\n",
      "\u001b[32m[I 2023-01-29 07:17:12,026]\u001b[0m Trial 10 finished with value: 0.16801619433198378 and parameters: {'x': 0.34408658247440504, 'y': 0.780022963603547, 'z': 0.013222904304343724}. Best is trial 0 with value: 0.16801619433198378.\u001b[0m\n",
      "\u001b[32m[I 2023-01-29 07:17:12,230]\u001b[0m Trial 11 finished with value: 0.16801619433198378 and parameters: {'x': 1.52729433696544, 'y': 2.5215476789578135, 'z': 0.08819716675721677}. Best is trial 0 with value: 0.16801619433198378.\u001b[0m\n",
      "\u001b[32m[I 2023-01-29 07:17:12,432]\u001b[0m Trial 12 finished with value: 0.16801619433198378 and parameters: {'x': 2.292581186027621, 'y': 6.285530916143275, 'z': 0.6932162869850181}. Best is trial 0 with value: 0.16801619433198378.\u001b[0m\n",
      "\u001b[32m[I 2023-01-29 07:17:12,637]\u001b[0m Trial 13 finished with value: 0.16801619433198378 and parameters: {'x': 0.23001538197584193, 'y': 2.1341577633371824, 'z': 0.20275542949346212}. Best is trial 0 with value: 0.16801619433198378.\u001b[0m\n",
      "\u001b[32m[I 2023-01-29 07:17:12,842]\u001b[0m Trial 14 finished with value: 0.16801619433198378 and parameters: {'x': 2.437670335909601, 'y': 5.981320722754413, 'z': 0.6680564698645122}. Best is trial 0 with value: 0.16801619433198378.\u001b[0m\n",
      "\u001b[32m[I 2023-01-29 07:17:13,044]\u001b[0m Trial 15 finished with value: 0.16801619433198378 and parameters: {'x': 1.6002662407842703, 'y': 3.399749181157458, 'z': 0.48565595434610503}. Best is trial 0 with value: 0.16801619433198378.\u001b[0m\n",
      "\u001b[32m[I 2023-01-29 07:17:13,245]\u001b[0m Trial 16 finished with value: 0.16801619433198378 and parameters: {'x': 3.622215949292223, 'y': 1.7583724382891983, 'z': 0.15929975057182394}. Best is trial 0 with value: 0.16801619433198378.\u001b[0m\n",
      "\u001b[32m[I 2023-01-29 07:17:13,448]\u001b[0m Trial 17 finished with value: 0.16801619433198378 and parameters: {'x': 1.086318103383588, 'y': 0.05918734326016217, 'z': 0.9824891776279143}. Best is trial 0 with value: 0.16801619433198378.\u001b[0m\n",
      "\u001b[32m[I 2023-01-29 07:17:13,649]\u001b[0m Trial 18 finished with value: 0.16801619433198378 and parameters: {'x': 2.82028714253196, 'y': 5.772725704913796, 'z': 0.24885885887496073}. Best is trial 0 with value: 0.16801619433198378.\u001b[0m\n",
      "\u001b[32m[I 2023-01-29 07:17:13,850]\u001b[0m Trial 19 finished with value: 0.16801619433198378 and parameters: {'x': 4.656419613361587, 'y': 3.7119336355049906, 'z': 0.006529738676156804}. Best is trial 0 with value: 0.16801619433198378.\u001b[0m\n",
      "\u001b[32m[I 2023-01-29 07:17:14,052]\u001b[0m Trial 20 finished with value: 0.16801619433198378 and parameters: {'x': 2.059507996307418, 'y': 5.1080798023560785, 'z': 0.4340537066334281}. Best is trial 0 with value: 0.16801619433198378.\u001b[0m\n",
      "\u001b[32m[I 2023-01-29 07:17:14,257]\u001b[0m Trial 21 finished with value: 0.16801619433198378 and parameters: {'x': 2.906888436512904, 'y': 1.351004222218143, 'z': 0.5394897392363883}. Best is trial 0 with value: 0.16801619433198378.\u001b[0m\n",
      "\u001b[32m[I 2023-01-29 07:17:14,463]\u001b[0m Trial 22 finished with value: 0.16801619433198378 and parameters: {'x': 3.523289650573886, 'y': 0.12383843696872854, 'z': 0.4501280875543343}. Best is trial 0 with value: 0.16801619433198378.\u001b[0m\n",
      "\u001b[32m[I 2023-01-29 07:17:14,665]\u001b[0m Trial 23 finished with value: 0.16801619433198378 and parameters: {'x': 0.9845237941935097, 'y': 2.642143504878455, 'z': 0.5852158404421526}. Best is trial 0 with value: 0.16801619433198378.\u001b[0m\n",
      "\u001b[32m[I 2023-01-29 07:17:14,866]\u001b[0m Trial 24 finished with value: 0.16801619433198378 and parameters: {'x': 2.981082127511483, 'y': 1.3080760077457572, 'z': 0.3753969209611132}. Best is trial 0 with value: 0.16801619433198378.\u001b[0m\n",
      "\u001b[32m[I 2023-01-29 07:17:15,066]\u001b[0m Trial 25 finished with value: 0.16801619433198378 and parameters: {'x': 1.94078182754204, 'y': 2.8284653170717933, 'z': 0.6744064106352781}. Best is trial 0 with value: 0.16801619433198378.\u001b[0m\n",
      "\u001b[32m[I 2023-01-29 07:17:15,267]\u001b[0m Trial 26 finished with value: 0.16801619433198378 and parameters: {'x': 0.9806572247304377, 'y': 1.9122758061523362, 'z': 0.2871504371867446}. Best is trial 0 with value: 0.16801619433198378.\u001b[0m\n",
      "\u001b[32m[I 2023-01-29 07:17:15,475]\u001b[0m Trial 27 finished with value: 0.16801619433198378 and parameters: {'x': 3.8669990943589867, 'y': 0.9617500252231135, 'z': 0.48573225160801536}. Best is trial 0 with value: 0.16801619433198378.\u001b[0m\n",
      "\u001b[32m[I 2023-01-29 07:17:15,676]\u001b[0m Trial 28 finished with value: 0.16801619433198378 and parameters: {'x': 2.623506735668494, 'y': 3.2820672278067873, 'z': 0.7665181984510685}. Best is trial 0 with value: 0.16801619433198378.\u001b[0m\n",
      "\u001b[32m[I 2023-01-29 07:17:15,877]\u001b[0m Trial 29 finished with value: 0.16801619433198378 and parameters: {'x': 5.216407447048703, 'y': 3.8962079916144328, 'z': 0.5794988515021751}. Best is trial 0 with value: 0.16801619433198378.\u001b[0m\n",
      "\u001b[32m[I 2023-01-29 07:17:16,078]\u001b[0m Trial 30 finished with value: 0.16801619433198378 and parameters: {'x': 4.258212725722091, 'y': 2.762505984247304, 'z': 0.13645789113835782}. Best is trial 0 with value: 0.16801619433198378.\u001b[0m\n",
      "\u001b[32m[I 2023-01-29 07:17:16,278]\u001b[0m Trial 31 finished with value: 0.16801619433198378 and parameters: {'x': 6.009351241357882, 'y': 1.8542480427555232, 'z': 0.39445140124579886}. Best is trial 0 with value: 0.16801619433198378.\u001b[0m\n",
      "\u001b[32m[I 2023-01-29 07:17:16,484]\u001b[0m Trial 32 finished with value: 0.16801619433198378 and parameters: {'x': 3.215438553041841, 'y': 3.1367794146067443, 'z': 0.9796311822374576}. Best is trial 0 with value: 0.16801619433198378.\u001b[0m\n",
      "\u001b[32m[I 2023-01-29 07:17:16,685]\u001b[0m Trial 33 finished with value: 0.16801619433198378 and parameters: {'x': 5.415264036874824, 'y': 3.9058511294912455, 'z': 0.7730342524116484}. Best is trial 0 with value: 0.16801619433198378.\u001b[0m\n",
      "\u001b[32m[I 2023-01-29 07:17:16,885]\u001b[0m Trial 34 finished with value: 0.16801619433198378 and parameters: {'x': 4.144869900088703, 'y': 4.317332370396463, 'z': 0.8773933566675084}. Best is trial 0 with value: 0.16801619433198378.\u001b[0m\n",
      "\u001b[32m[I 2023-01-29 07:17:17,084]\u001b[0m Trial 35 finished with value: 0.16801619433198378 and parameters: {'x': 3.3131025829046528, 'y': 2.2937490335384374, 'z': 0.31364291073060646}. Best is trial 0 with value: 0.16801619433198378.\u001b[0m\n",
      "\u001b[32m[I 2023-01-29 07:17:17,283]\u001b[0m Trial 36 finished with value: 0.16801619433198378 and parameters: {'x': 4.60554249496445, 'y': 5.075890564281447, 'z': 0.5277674772254846}. Best is trial 0 with value: 0.16801619433198378.\u001b[0m\n",
      "\u001b[32m[I 2023-01-29 07:17:17,482]\u001b[0m Trial 37 finished with value: 0.16801619433198378 and parameters: {'x': 6.836269362798417, 'y': 0.7634406912454939, 'z': 0.40815980094095305}. Best is trial 0 with value: 0.16801619433198378.\u001b[0m\n",
      "\u001b[32m[I 2023-01-29 07:17:17,685]\u001b[0m Trial 38 finished with value: 0.16801619433198378 and parameters: {'x': 2.4762444285949243, 'y': 8.043652384310594, 'z': 0.620568336915835}. Best is trial 0 with value: 0.16801619433198378.\u001b[0m\n",
      "\u001b[32m[I 2023-01-29 07:17:17,885]\u001b[0m Trial 39 finished with value: 0.16801619433198378 and parameters: {'x': 9.703585712135927, 'y': 4.54689089737957, 'z': 0.33042103399920375}. Best is trial 0 with value: 0.16801619433198378.\u001b[0m\n",
      "\u001b[32m[I 2023-01-29 07:17:18,086]\u001b[0m Trial 40 finished with value: 0.16801619433198378 and parameters: {'x': 1.867033751181241, 'y': 3.517052175555239, 'z': 0.7201374489661329}. Best is trial 0 with value: 0.16801619433198378.\u001b[0m\n",
      "\u001b[32m[I 2023-01-29 07:17:18,286]\u001b[0m Trial 41 finished with value: 0.16801619433198378 and parameters: {'x': 7.859171672538006, 'y': 9.714336172130292, 'z': 0.6144122546954445}. Best is trial 0 with value: 0.16801619433198378.\u001b[0m\n",
      "\u001b[32m[I 2023-01-29 07:17:18,487]\u001b[0m Trial 42 finished with value: 0.16801619433198378 and parameters: {'x': 5.9220541642834155, 'y': 8.018419593350439, 'z': 0.37110173977094496}. Best is trial 0 with value: 0.16801619433198378.\u001b[0m\n",
      "\u001b[32m[I 2023-01-29 07:17:18,688]\u001b[0m Trial 43 finished with value: 0.16801619433198378 and parameters: {'x': 6.794881952953011, 'y': 9.065143406846229, 'z': 0.5191585756979384}. Best is trial 0 with value: 0.16801619433198378.\u001b[0m\n",
      "\u001b[32m[I 2023-01-29 07:17:18,888]\u001b[0m Trial 44 finished with value: 0.16801619433198378 and parameters: {'x': 3.8547030098770607, 'y': 6.797635226011761, 'z': 0.06428974874053019}. Best is trial 0 with value: 0.16801619433198378.\u001b[0m\n",
      "\u001b[32m[I 2023-01-29 07:17:19,089]\u001b[0m Trial 45 finished with value: 0.16801619433198378 and parameters: {'x': 1.5996856258451249, 'y': 2.356541312752769, 'z': 0.22894094713440696}. Best is trial 0 with value: 0.16801619433198378.\u001b[0m\n",
      "\u001b[32m[I 2023-01-29 07:17:19,289]\u001b[0m Trial 46 finished with value: 0.16801619433198378 and parameters: {'x': 2.429487930093992, 'y': 4.141179963584254, 'z': 0.459264755759032}. Best is trial 0 with value: 0.16801619433198378.\u001b[0m\n",
      "\u001b[32m[I 2023-01-29 07:17:19,490]\u001b[0m Trial 47 finished with value: 0.16801619433198378 and parameters: {'x': 0.3782810162933943, 'y': 5.422518557678632, 'z': 0.272629145611326}. Best is trial 0 with value: 0.16801619433198378.\u001b[0m\n",
      "\u001b[32m[I 2023-01-29 07:17:19,691]\u001b[0m Trial 48 finished with value: 0.16801619433198378 and parameters: {'x': 7.372187590082671, 'y': 4.640506351825604, 'z': 0.34405214296848874}. Best is trial 0 with value: 0.16801619433198378.\u001b[0m\n",
      "\u001b[32m[I 2023-01-29 07:17:19,891]\u001b[0m Trial 49 finished with value: 0.16801619433198378 and parameters: {'x': 3.1177630759843833, 'y': 3.1084793685709355, 'z': 0.19688657428107792}. Best is trial 0 with value: 0.16801619433198378.\u001b[0m\n",
      "\u001b[32m[I 2023-01-29 07:17:20,095]\u001b[0m Trial 50 finished with value: 0.16801619433198378 and parameters: {'x': 2.213462365283891, 'y': 6.554466207352482, 'z': 0.6471443219510709}. Best is trial 0 with value: 0.16801619433198378.\u001b[0m\n",
      "\u001b[32m[I 2023-01-29 07:17:20,303]\u001b[0m Trial 51 finished with value: 0.16801619433198378 and parameters: {'x': 4.910376676626742, 'y': 3.6363125320576244, 'z': 0.40461668077621504}. Best is trial 0 with value: 0.16801619433198378.\u001b[0m\n",
      "\u001b[32m[I 2023-01-29 07:17:20,512]\u001b[0m Trial 52 finished with value: 0.16801619433198378 and parameters: {'x': 3.538237218181337, 'y': 5.774917304326241, 'z': 0.4888719308016769}. Best is trial 0 with value: 0.16801619433198378.\u001b[0m\n",
      "\u001b[32m[I 2023-01-29 07:17:20,717]\u001b[0m Trial 53 finished with value: 0.16801619433198378 and parameters: {'x': 2.806028049446371, 'y': 4.755673038109612, 'z': 0.5536440562483422}. Best is trial 0 with value: 0.16801619433198378.\u001b[0m\n",
      "\u001b[32m[I 2023-01-29 07:17:20,923]\u001b[0m Trial 54 finished with value: 0.16801619433198378 and parameters: {'x': 4.424427685665731, 'y': 2.865461483650696, 'z': 0.4467792438455387}. Best is trial 0 with value: 0.16801619433198378.\u001b[0m\n",
      "\u001b[32m[I 2023-01-29 07:17:21,129]\u001b[0m Trial 55 finished with value: 0.16801619433198378 and parameters: {'x': 4.828932056602623, 'y': 4.285097955581675, 'z': 0.29321076566590476}. Best is trial 0 with value: 0.16801619433198378.\u001b[0m\n",
      "\u001b[32m[I 2023-01-29 07:17:21,336]\u001b[0m Trial 56 finished with value: 0.16801619433198378 and parameters: {'x': 5.487208134275621, 'y': 2.49541704865002, 'z': 0.3483603316283041}. Best is trial 0 with value: 0.16801619433198378.\u001b[0m\n",
      "\u001b[32m[I 2023-01-29 07:17:21,541]\u001b[0m Trial 57 finished with value: 0.16801619433198378 and parameters: {'x': 4.15785865892131, 'y': 1.5472470801162364, 'z': 0.7088415735839018}. Best is trial 0 with value: 0.16801619433198378.\u001b[0m\n",
      "\u001b[32m[I 2023-01-29 07:17:21,779]\u001b[0m Trial 58 finished with value: 0.16801619433198378 and parameters: {'x': 1.2672576087901324, 'y': 2.055897681040924, 'z': 0.24434267056426823}. Best is trial 0 with value: 0.16801619433198378.\u001b[0m\n",
      "\u001b[32m[I 2023-01-29 07:17:22,030]\u001b[0m Trial 59 finished with value: 0.16801619433198378 and parameters: {'x': 6.437612332387504, 'y': 3.9400961253034223, 'z': 0.17173084363911723}. Best is trial 0 with value: 0.16801619433198378.\u001b[0m\n",
      "\u001b[32m[I 2023-01-29 07:17:22,269]\u001b[0m Trial 60 finished with value: 0.16801619433198378 and parameters: {'x': 5.0522473045951735, 'y': 3.4395367722539953, 'z': 0.08971913686910737}. Best is trial 0 with value: 0.16801619433198378.\u001b[0m\n",
      "\u001b[32m[I 2023-01-29 07:17:22,492]\u001b[0m Trial 61 finished with value: 0.16801619433198378 and parameters: {'x': 9.232737288673816, 'y': 5.347054981662337, 'z': 0.846666463912271}. Best is trial 0 with value: 0.16801619433198378.\u001b[0m\n",
      "\u001b[32m[I 2023-01-29 07:17:22,706]\u001b[0m Trial 62 finished with value: 0.16801619433198378 and parameters: {'x': 8.129147626898634, 'y': 4.881081668537165, 'z': 0.9097707999958262}. Best is trial 0 with value: 0.16801619433198378.\u001b[0m\n",
      "\u001b[32m[I 2023-01-29 07:17:22,915]\u001b[0m Trial 63 finished with value: 0.16801619433198378 and parameters: {'x': 5.877018793508493, 'y': 3.005565759927884, 'z': 0.8058603158171894}. Best is trial 0 with value: 0.16801619433198378.\u001b[0m\n",
      "\u001b[32m[I 2023-01-29 07:17:23,126]\u001b[0m Trial 64 finished with value: 0.16801619433198378 and parameters: {'x': 3.766650010388512, 'y': 4.352774355895173, 'z': 0.9193743917410789}. Best is trial 0 with value: 0.16801619433198378.\u001b[0m\n",
      "\u001b[32m[I 2023-01-29 07:17:23,340]\u001b[0m Trial 65 finished with value: 0.16801619433198378 and parameters: {'x': 8.671422166781808, 'y': 3.3440280574156933, 'z': 0.5685208058673497}. Best is trial 0 with value: 0.16801619433198378.\u001b[0m\n",
      "\u001b[32m[I 2023-01-29 07:17:23,547]\u001b[0m Trial 66 finished with value: 0.16801619433198378 and parameters: {'x': 2.699739562732514, 'y': 2.525492646650031, 'z': 0.43155714203336265}. Best is trial 0 with value: 0.16801619433198378.\u001b[0m\n",
      "\u001b[32m[I 2023-01-29 07:17:23,751]\u001b[0m Trial 67 finished with value: 0.16801619433198378 and parameters: {'x': 7.357376012475228, 'y': 3.8156838026679205, 'z': 0.3106405644636272}. Best is trial 0 with value: 0.16801619433198378.\u001b[0m\n",
      "\u001b[32m[I 2023-01-29 07:17:23,956]\u001b[0m Trial 68 finished with value: 0.16801619433198378 and parameters: {'x': 1.9338980379182562, 'y': 2.147331716091232, 'z': 0.7355882138000203}. Best is trial 0 with value: 0.16801619433198378.\u001b[0m\n",
      "\u001b[32m[I 2023-01-29 07:17:24,161]\u001b[0m Trial 69 finished with value: 0.16801619433198378 and parameters: {'x': 4.527948699455044, 'y': 0.4015561921189299, 'z': 0.6742856946665708}. Best is trial 0 with value: 0.16801619433198378.\u001b[0m\n",
      "\u001b[32m[I 2023-01-29 07:17:24,367]\u001b[0m Trial 70 finished with value: 0.16801619433198378 and parameters: {'x': 3.3481275114225006, 'y': 1.7588603969995191, 'z': 0.5043679626699022}. Best is trial 0 with value: 0.16801619433198378.\u001b[0m\n",
      "\u001b[32m[I 2023-01-29 07:17:24,576]\u001b[0m Trial 71 finished with value: 0.16801619433198378 and parameters: {'x': 6.501081189004653, 'y': 1.273072875127892, 'z': 0.518099145589557}. Best is trial 0 with value: 0.16801619433198378.\u001b[0m\n",
      "\u001b[32m[I 2023-01-29 07:17:24,779]\u001b[0m Trial 72 finished with value: 0.16801619433198378 and parameters: {'x': 5.576099791799159, 'y': 2.719733881729407, 'z': 0.4714560540589926}. Best is trial 0 with value: 0.16801619433198378.\u001b[0m\n",
      "\u001b[32m[I 2023-01-29 07:17:24,980]\u001b[0m Trial 73 finished with value: 0.16801619433198378 and parameters: {'x': 6.2346673609852985, 'y': 4.0381536001698715, 'z': 0.5968380578389968}. Best is trial 0 with value: 0.16801619433198378.\u001b[0m\n",
      "\u001b[32m[I 2023-01-29 07:17:25,195]\u001b[0m Trial 74 finished with value: 0.16801619433198378 and parameters: {'x': 5.717287213313497, 'y': 4.547156050586685, 'z': 0.5757775505284285}. Best is trial 0 with value: 0.16801619433198378.\u001b[0m\n",
      "\u001b[32m[I 2023-01-29 07:17:25,396]\u001b[0m Trial 75 finished with value: 0.16801619433198378 and parameters: {'x': 5.279519973456388, 'y': 3.5681707380642242, 'z': 0.5336654558618419}. Best is trial 0 with value: 0.16801619433198378.\u001b[0m\n",
      "\u001b[32m[I 2023-01-29 07:17:25,599]\u001b[0m Trial 76 finished with value: 0.16801619433198378 and parameters: {'x': 5.309400472510766, 'y': 3.1447692514614998, 'z': 0.3707456881774622}. Best is trial 0 with value: 0.16801619433198378.\u001b[0m\n",
      "\u001b[32m[I 2023-01-29 07:17:25,799]\u001b[0m Trial 77 finished with value: 0.16801619433198378 and parameters: {'x': 6.1858084153663135, 'y': 6.093868274647573, 'z': 0.6582052694643201}. Best is trial 0 with value: 0.16801619433198378.\u001b[0m\n",
      "\u001b[32m[I 2023-01-29 07:17:25,999]\u001b[0m Trial 78 finished with value: 0.16801619433198378 and parameters: {'x': 3.013007632733648, 'y': 5.002546798308312, 'z': 0.549164105450818}. Best is trial 0 with value: 0.16801619433198378.\u001b[0m\n",
      "\u001b[32m[I 2023-01-29 07:17:26,200]\u001b[0m Trial 79 finished with value: 0.16801619433198378 and parameters: {'x': 3.97670839668843, 'y': 4.117169917171829, 'z': 0.6359625236853484}. Best is trial 0 with value: 0.16801619433198378.\u001b[0m\n",
      "\u001b[32m[I 2023-01-29 07:17:26,400]\u001b[0m Trial 80 finished with value: 0.16801619433198378 and parameters: {'x': 4.758572515195738, 'y': 3.5945648070392986, 'z': 0.9918977842834955}. Best is trial 0 with value: 0.16801619433198378.\u001b[0m\n",
      "\u001b[32m[I 2023-01-29 07:17:26,601]\u001b[0m Trial 81 finished with value: 0.16801619433198378 and parameters: {'x': 2.2190964184363438, 'y': 5.347938307734034, 'z': 0.49512828366331274}. Best is trial 0 with value: 0.16801619433198378.\u001b[0m\n",
      "\u001b[32m[I 2023-01-29 07:17:26,801]\u001b[0m Trial 82 finished with value: 0.16801619433198378 and parameters: {'x': 4.351905852809944, 'y': 4.35194243104882, 'z': 0.42786010230862814}. Best is trial 0 with value: 0.16801619433198378.\u001b[0m\n",
      "\u001b[32m[I 2023-01-29 07:17:27,002]\u001b[0m Trial 83 finished with value: 0.16801619433198378 and parameters: {'x': 5.037866843161592, 'y': 4.707414811248294, 'z': 0.2700975042441155}. Best is trial 0 with value: 0.16801619433198378.\u001b[0m\n",
      "\u001b[32m[I 2023-01-29 07:17:27,202]\u001b[0m Trial 84 finished with value: 0.16801619433198378 and parameters: {'x': 3.4635212357721508, 'y': 3.820175503892015, 'z': 0.4599163875714177}. Best is trial 0 with value: 0.16801619433198378.\u001b[0m\n",
      "\u001b[32m[I 2023-01-29 07:17:27,402]\u001b[0m Trial 85 finished with value: 0.16801619433198378 and parameters: {'x': 3.9915892128789388, 'y': 5.095837082265458, 'z': 0.40740833318923314}. Best is trial 0 with value: 0.16801619433198378.\u001b[0m\n",
      "\u001b[32m[I 2023-01-29 07:17:27,602]\u001b[0m Trial 86 finished with value: 0.16801619433198378 and parameters: {'x': 3.668560229187259, 'y': 8.925826903791592, 'z': 0.6251755948961513}. Best is trial 0 with value: 0.16801619433198378.\u001b[0m\n",
      "\u001b[32m[I 2023-01-29 07:17:27,802]\u001b[0m Trial 87 finished with value: 0.16801619433198378 and parameters: {'x': 2.542810058133547, 'y': 3.3526095844980492, 'z': 0.5960275275314132}. Best is trial 0 with value: 0.16801619433198378.\u001b[0m\n",
      "\u001b[32m[I 2023-01-29 07:17:28,001]\u001b[0m Trial 88 finished with value: 0.16801619433198378 and parameters: {'x': 3.0769699312151966, 'y': 2.8369572098372755, 'z': 0.47779685439413166}. Best is trial 0 with value: 0.16801619433198378.\u001b[0m\n",
      "\u001b[32m[I 2023-01-29 07:17:28,202]\u001b[0m Trial 89 finished with value: 0.16801619433198378 and parameters: {'x': 4.280180110477747, 'y': 4.526894565207098, 'z': 0.21327719709562604}. Best is trial 0 with value: 0.16801619433198378.\u001b[0m\n",
      "\u001b[32m[I 2023-01-29 07:17:28,402]\u001b[0m Trial 90 finished with value: 0.16801619433198378 and parameters: {'x': 4.589157251967164, 'y': 7.03494904243498, 'z': 0.38454557578191695}. Best is trial 0 with value: 0.16801619433198378.\u001b[0m\n",
      "\u001b[32m[I 2023-01-29 07:17:28,602]\u001b[0m Trial 91 finished with value: 0.16801619433198378 and parameters: {'x': 7.145469719599034, 'y': 9.594233776925858, 'z': 0.007254555030415888}. Best is trial 0 with value: 0.16801619433198378.\u001b[0m\n",
      "\u001b[32m[I 2023-01-29 07:17:28,804]\u001b[0m Trial 92 finished with value: 0.16801619433198378 and parameters: {'x': 7.747629969198229, 'y': 2.265292314829406, 'z': 0.6870896560406186}. Best is trial 0 with value: 0.16801619433198378.\u001b[0m\n",
      "\u001b[32m[I 2023-01-29 07:17:29,003]\u001b[0m Trial 93 finished with value: 0.16801619433198378 and parameters: {'x': 8.335459909997104, 'y': 5.6227673885866185, 'z': 0.3553617194218883}. Best is trial 0 with value: 0.16801619433198378.\u001b[0m\n",
      "\u001b[32m[I 2023-01-29 07:17:29,203]\u001b[0m Trial 94 finished with value: 0.16801619433198378 and parameters: {'x': 1.703139644437961, 'y': 4.933237261008325, 'z': 0.32485549256945834}. Best is trial 0 with value: 0.16801619433198378.\u001b[0m\n",
      "\u001b[32m[I 2023-01-29 07:17:29,404]\u001b[0m Trial 95 finished with value: 0.16801619433198378 and parameters: {'x': 6.757795293334335, 'y': 1.9520956036408528, 'z': 0.1386432342709535}. Best is trial 0 with value: 0.16801619433198378.\u001b[0m\n",
      "\u001b[32m[I 2023-01-29 07:17:29,604]\u001b[0m Trial 96 finished with value: 0.16801619433198378 and parameters: {'x': 2.3518365465897064, 'y': 9.94201003912674, 'z': 0.8279862534651592}. Best is trial 0 with value: 0.16801619433198378.\u001b[0m\n",
      "\u001b[32m[I 2023-01-29 07:17:29,806]\u001b[0m Trial 97 finished with value: 0.16801619433198378 and parameters: {'x': 2.907826274080681, 'y': 3.774432459254273, 'z': 0.30518770694259806}. Best is trial 0 with value: 0.16801619433198378.\u001b[0m\n",
      "\u001b[32m[I 2023-01-29 07:17:30,008]\u001b[0m Trial 98 finished with value: 0.16801619433198378 and parameters: {'x': 8.86070263109797, 'y': 4.1498906042913735, 'z': 0.9529274081120679}. Best is trial 0 with value: 0.16801619433198378.\u001b[0m\n",
      "\u001b[32m[I 2023-01-29 07:17:30,208]\u001b[0m Trial 99 finished with value: 0.16801619433198378 and parameters: {'x': 2.714996848830509, 'y': 2.4953772398349923, 'z': 0.8876332474690769}. Best is trial 0 with value: 0.16801619433198378.\u001b[0m\n"
     ]
    },
    {
     "data": {
      "text/plain": [
       "{'x': 1.9157405090737178, 'y': 2.3110454523936683, 'z': 0.09760513623840483}"
      ]
     },
     "execution_count": 87,
     "metadata": {},
     "output_type": "execute_result"
    }
   ],
   "source": [
    "\n",
    "# dfs = pd.DataFrame()\n",
    "# ss = pd.DataFrame()\n",
    "\n",
    "# dfs['result'] = ss.apply(lambda row: (row['documentid'] in row['pot_doc']), axis=1)\n",
    "# print(dfs)\n",
    "# num_trues = dfs['result'].value_counts()[True]\n",
    "# print(num_trues)\n",
    "def objective(trial):\n",
    "    x = trial.suggest_float('x', 0, 10)\n",
    "    y = trial.suggest_float('y', 0, 10)\n",
    "    z = trial.suggest_float('z', 0, 1)\n",
    "    #a = trial.suggest_float('a', 0, 10)\n",
    "    return 1-compute_accuracy(x,y,z,0)\n",
    "\n",
    "study = optuna.create_study()\n",
    "study.optimize(objective, n_trials=100)\n",
    "\n",
    "study.best_params  # E.g. {'x': 2.002108042}\n",
    "\n"
   ]
  },
  {
   "cell_type": "code",
   "execution_count": 88,
   "metadata": {},
   "outputs": [
    {
     "name": "stdout",
     "output_type": "stream",
     "text": [
      "494 494\n"
     ]
    }
   ],
   "source": [
    "res = compute_accuracy2(study.best_params['x'], 1, study.best_params['y'], 0)\n",
    "\n",
    "real = list(y_test_df['documentid'])\n",
    "\n",
    "print(len(res), len(real))"
   ]
  },
  {
   "cell_type": "code",
   "execution_count": 89,
   "metadata": {},
   "outputs": [
    {
     "name": "stdout",
     "output_type": "stream",
     "text": [
      "84.21052631578947\n"
     ]
    }
   ],
   "source": [
    "def calculate_percentage(list_a, list_b):\n",
    "    common_elements = set(list_a) & set(list_b)\n",
    "    percentage = (len(common_elements) / len(list_a)) * 100\n",
    "    return percentage\n",
    "print(calculate_percentage(res,real))"
   ]
  }
 ],
 "metadata": {
  "kernelspec": {
   "display_name": "base",
   "language": "python",
   "name": "python3"
  },
  "language_info": {
   "codemirror_mode": {
    "name": "ipython",
    "version": 3
   },
   "file_extension": ".py",
   "mimetype": "text/x-python",
   "name": "python",
   "nbconvert_exporter": "python",
   "pygments_lexer": "ipython3",
   "version": "3.11.0"
  },
  "orig_nbformat": 4,
  "vscode": {
   "interpreter": {
    "hash": "9aec51e42af8da0c7c30aaf57f0f757435da4e088540033f4f1cafd61d7c10ec"
   }
  }
 },
 "nbformat": 4,
 "nbformat_minor": 2
}
