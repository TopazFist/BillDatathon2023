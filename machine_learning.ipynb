{
 "cells": [
  {
   "cell_type": "code",
   "execution_count": 18,
   "metadata": {},
   "outputs": [],
   "source": [
    "import os\n",
    "import numpy as np\n",
    "import pandas as pd\n",
    "from sklearn.model_selection import train_test_split\n",
    "import optuna"
   ]
  },
  {
   "cell_type": "code",
   "execution_count": 19,
   "metadata": {},
   "outputs": [],
   "source": [
    "#creates the training dataset\n",
    "df_train = pd.read_csv(\"data/final/final_training.csv\")\n",
    "df_train = df_train[df_train['pot_doc'] != '[]']\n",
    "X_train_df=pd.DataFrame(data = np.array(df_train), columns = df_train.columns).drop(columns=\"documentid\").drop(columns=\"Unnamed: 0\")\n",
    "y_train_df = pd.DataFrame(data = np.array(df_train['documentid']), columns = ['documentid'])\n",
    "\n",
    "#creates the testing dataset\n",
    "df_test = pd.read_csv(\"data/final/final_test.csv\")\n",
    "X_test_df=pd.DataFrame(data = np.array(df_test), columns = df_test.columns).drop(columns=\"documentid\").drop(columns=\"Unnamed: 0\")\n",
    "y_test_df = pd.DataFrame(data = np.array(df_test['documentid']), columns = ['documentid'])\n"
   ]
  },
  {
   "cell_type": "code",
   "execution_count": 20,
   "metadata": {},
   "outputs": [],
   "source": [
    "def compute_accuracy(x, y, z,a):\n",
    "    results = []\n",
    "    for row in X_train_df.iterrows():\n",
    "        if (len(eval(row[1]['pot_doc']))==0):\n",
    "            continue\n",
    "        dists = []\n",
    "        \n",
    "        for idx in range(len(eval(row[1]['pot_doc']))):\n",
    "            dists.append((x*(100-eval(row[1]['pot_price'])[idx])/100)**2 \n",
    "            + (y*(1-eval(row[1]['pot_date'])[idx]))**2)\n",
    "            + (z*(100-eval(row[1]['pot_address'])[idx])/100)**2\n",
    "            #+ (a*eval(row[1]['pot_name'])[idx])**2\n",
    "            \n",
    "        dists = np.array(dists)\n",
    "        results.append(eval(row[1]['pot_doc'])[dists.argmin()])\n",
    "    results = np.array(results)\n",
    "    return np.sum(results == np.array(y_train_df['documentid']))/len(X_train_df)\n",
    "    \n",
    "def compute_accuracy2(x, y, z, a):\n",
    "    results = []\n",
    "    for row in X_test_df.iterrows():\n",
    "        if (len(eval(row[1]['pot_doc']))==0):\n",
    "            continue\n",
    "        dists = []\n",
    "        \n",
    "        for idx in range(len(eval(row[1]['pot_doc']))):\n",
    "            dists.append((x*(100-eval(row[1]['pot_price'])[idx])/100)**2 \n",
    "            + (y*(1-eval(row[1]['pot_date'])[idx]))**2\n",
    "            + (z*(100-eval(row[1]['pot_address'])[idx])/100)**2\n",
    "            #+ (a*eval(row[1]['pot_name'])[idx])**2\n",
    "            )\n",
    "        dists = np.array(dists)\n",
    "        results.append(eval(row[1]['pot_doc'])[dists.argmin()])\n",
    "    results = np.array(results)\n",
    "    return results"
   ]
  },
  {
   "cell_type": "code",
   "execution_count": 21,
   "metadata": {},
   "outputs": [
    {
     "name": "stderr",
     "output_type": "stream",
     "text": [
      "\u001b[32m[I 2023-01-29 09:47:24,847]\u001b[0m A new study created in memory with name: no-name-508255be-8925-4dbf-82f0-5dc4ea3cbec8\u001b[0m\n",
      "\u001b[32m[I 2023-01-29 09:47:25,225]\u001b[0m Trial 0 finished with value: 0.1618122977346278 and parameters: {'x': 0.31707784364272684, 'y': 7.891919021076451, 'z': 4.346072564605821}. Best is trial 0 with value: 0.1618122977346278.\u001b[0m\n",
      "\u001b[32m[I 2023-01-29 09:47:25,607]\u001b[0m Trial 1 finished with value: 0.1618122977346278 and parameters: {'x': 0.414655543308734, 'y': 8.559577172283683, 'z': 0.48286522735172643}. Best is trial 0 with value: 0.1618122977346278.\u001b[0m\n",
      "\u001b[32m[I 2023-01-29 09:47:25,977]\u001b[0m Trial 2 finished with value: 0.1618122977346278 and parameters: {'x': 6.136318037764915, 'y': 6.032883167413786, 'z': 4.087992359275922}. Best is trial 0 with value: 0.1618122977346278.\u001b[0m\n",
      "\u001b[32m[I 2023-01-29 09:47:26,349]\u001b[0m Trial 3 finished with value: 0.1618122977346278 and parameters: {'x': 0.6565401768253976, 'y': 8.14177423525944, 'z': 2.2124935610386154}. Best is trial 0 with value: 0.1618122977346278.\u001b[0m\n",
      "\u001b[32m[I 2023-01-29 09:47:26,725]\u001b[0m Trial 4 finished with value: 0.1618122977346278 and parameters: {'x': 1.226702177331116, 'y': 0.5817397007670955, 'z': 1.1359481881870936}. Best is trial 0 with value: 0.1618122977346278.\u001b[0m\n",
      "\u001b[32m[I 2023-01-29 09:47:27,098]\u001b[0m Trial 5 finished with value: 0.1618122977346278 and parameters: {'x': 3.902212190394069, 'y': 0.13195606037913143, 'z': 0.3208695596970934}. Best is trial 0 with value: 0.1618122977346278.\u001b[0m\n",
      "\u001b[32m[I 2023-01-29 09:47:27,467]\u001b[0m Trial 6 finished with value: 0.1618122977346278 and parameters: {'x': 1.4937488598702664, 'y': 1.608091284169454, 'z': 5.17900683906802}. Best is trial 0 with value: 0.1618122977346278.\u001b[0m\n",
      "\u001b[32m[I 2023-01-29 09:47:27,837]\u001b[0m Trial 7 finished with value: 0.1618122977346278 and parameters: {'x': 3.1890623127736717, 'y': 0.5012850789453094, 'z': 1.2192830928141374}. Best is trial 0 with value: 0.1618122977346278.\u001b[0m\n",
      "\u001b[32m[I 2023-01-29 09:47:28,205]\u001b[0m Trial 8 finished with value: 0.1618122977346278 and parameters: {'x': 4.916445165448468, 'y': 7.557749754207068, 'z': 8.84620819644892}. Best is trial 0 with value: 0.1618122977346278.\u001b[0m\n",
      "\u001b[32m[I 2023-01-29 09:47:28,572]\u001b[0m Trial 9 finished with value: 0.1618122977346278 and parameters: {'x': 3.55803383162977, 'y': 3.8723518578717786, 'z': 0.45979011284919546}. Best is trial 0 with value: 0.1618122977346278.\u001b[0m\n",
      "\u001b[32m[I 2023-01-29 09:47:28,951]\u001b[0m Trial 10 finished with value: 0.1618122977346278 and parameters: {'x': 9.080529813448521, 'y': 9.718123303272739, 'z': 5.882579978213559}. Best is trial 0 with value: 0.1618122977346278.\u001b[0m\n",
      "\u001b[32m[I 2023-01-29 09:47:29,332]\u001b[0m Trial 11 finished with value: 0.1618122977346278 and parameters: {'x': 0.2234485685850064, 'y': 9.368705095906469, 'z': 3.231068778435913}. Best is trial 0 with value: 0.1618122977346278.\u001b[0m\n",
      "\u001b[32m[I 2023-01-29 09:47:29,712]\u001b[0m Trial 12 finished with value: 0.1618122977346278 and parameters: {'x': 0.10755530427179416, 'y': 7.407725007355138, 'z': 3.000305895550495}. Best is trial 0 with value: 0.1618122977346278.\u001b[0m\n",
      "\u001b[32m[I 2023-01-29 09:47:30,091]\u001b[0m Trial 13 finished with value: 0.1618122977346278 and parameters: {'x': 1.4271256430926016, 'y': 5.592114937729614, 'z': 6.513628803991459}. Best is trial 0 with value: 0.1618122977346278.\u001b[0m\n",
      "\u001b[32m[I 2023-01-29 09:47:30,476]\u001b[0m Trial 14 finished with value: 0.1618122977346278 and parameters: {'x': 1.8680920801249923, 'y': 8.491059102006732, 'z': 1.9962443784354034}. Best is trial 0 with value: 0.1618122977346278.\u001b[0m\n",
      "\u001b[32m[I 2023-01-29 09:47:30,859]\u001b[0m Trial 15 finished with value: 0.1618122977346278 and parameters: {'x': 2.540796087042942, 'y': 9.841421531493857, 'z': 4.1572044524533665}. Best is trial 0 with value: 0.1618122977346278.\u001b[0m\n",
      "\u001b[32m[I 2023-01-29 09:47:31,240]\u001b[0m Trial 16 finished with value: 0.1618122977346278 and parameters: {'x': 2.266691346196991, 'y': 6.532839155456422, 'z': 6.954985185882158}. Best is trial 0 with value: 0.1618122977346278.\u001b[0m\n",
      "\u001b[32m[I 2023-01-29 09:47:31,631]\u001b[0m Trial 17 finished with value: 0.1618122977346278 and parameters: {'x': 0.27110877061037203, 'y': 8.50578116852451, 'z': 2.4964395646518787}. Best is trial 0 with value: 0.1618122977346278.\u001b[0m\n",
      "\u001b[32m[I 2023-01-29 09:47:32,011]\u001b[0m Trial 18 finished with value: 0.1618122977346278 and parameters: {'x': 0.04276276671105855, 'y': 4.6023475645158065, 'z': 0.050967993485074636}. Best is trial 0 with value: 0.1618122977346278.\u001b[0m\n",
      "\u001b[32m[I 2023-01-29 09:47:32,389]\u001b[0m Trial 19 finished with value: 0.1618122977346278 and parameters: {'x': 2.516217816283234, 'y': 6.738408512896015, 'z': 4.409764275723893}. Best is trial 0 with value: 0.1618122977346278.\u001b[0m\n",
      "\u001b[32m[I 2023-01-29 09:47:32,766]\u001b[0m Trial 20 finished with value: 0.1618122977346278 and parameters: {'x': 1.1358387215161234, 'y': 7.25401152198108, 'z': 3.4573538509833286}. Best is trial 0 with value: 0.1618122977346278.\u001b[0m\n",
      "\u001b[32m[I 2023-01-29 09:47:33,146]\u001b[0m Trial 21 finished with value: 0.1618122977346278 and parameters: {'x': 6.059952933664035, 'y': 5.848266193772684, 'z': 3.9318238857624124}. Best is trial 0 with value: 0.1618122977346278.\u001b[0m\n",
      "\u001b[32m[I 2023-01-29 09:47:33,529]\u001b[0m Trial 22 finished with value: 0.1618122977346278 and parameters: {'x': 6.372501377064744, 'y': 8.830729672888037, 'z': 4.877655490995073}. Best is trial 0 with value: 0.1618122977346278.\u001b[0m\n",
      "\u001b[32m[I 2023-01-29 09:47:33,912]\u001b[0m Trial 23 finished with value: 0.1618122977346278 and parameters: {'x': 4.720459513609594, 'y': 7.986864497564297, 'z': 1.54887064122404}. Best is trial 0 with value: 0.1618122977346278.\u001b[0m\n",
      "\u001b[32m[I 2023-01-29 09:47:34,292]\u001b[0m Trial 24 finished with value: 0.1618122977346278 and parameters: {'x': 0.8637309163519866, 'y': 6.450737413685182, 'z': 2.51674045157143}. Best is trial 0 with value: 0.1618122977346278.\u001b[0m\n",
      "\u001b[32m[I 2023-01-29 09:47:34,674]\u001b[0m Trial 25 finished with value: 0.1618122977346278 and parameters: {'x': 2.1749182396745006, 'y': 8.93677079034411, 'z': 3.3469776516752696}. Best is trial 0 with value: 0.1618122977346278.\u001b[0m\n",
      "\u001b[32m[I 2023-01-29 09:47:35,060]\u001b[0m Trial 26 finished with value: 0.1618122977346278 and parameters: {'x': 6.175220207833357, 'y': 7.90561596819284, 'z': 5.213924429025174}. Best is trial 0 with value: 0.1618122977346278.\u001b[0m\n",
      "\u001b[32m[I 2023-01-29 09:47:35,444]\u001b[0m Trial 27 finished with value: 0.1618122977346278 and parameters: {'x': 2.7889579006120195, 'y': 9.171582090388922, 'z': 0.9021101542343413}. Best is trial 0 with value: 0.1618122977346278.\u001b[0m\n",
      "\u001b[32m[I 2023-01-29 09:47:35,826]\u001b[0m Trial 28 finished with value: 0.1618122977346278 and parameters: {'x': 1.7562653126166348, 'y': 7.239980000220934, 'z': 2.094536506122914}. Best is trial 0 with value: 0.1618122977346278.\u001b[0m\n",
      "\u001b[32m[I 2023-01-29 09:47:36,206]\u001b[0m Trial 29 finished with value: 0.1618122977346278 and parameters: {'x': 0.798285725795515, 'y': 8.234929159234195, 'z': 1.7237694363203815}. Best is trial 0 with value: 0.1618122977346278.\u001b[0m\n",
      "\u001b[32m[I 2023-01-29 09:47:36,590]\u001b[0m Trial 30 finished with value: 0.1618122977346278 and parameters: {'x': 0.7830894778680513, 'y': 9.80753896728072, 'z': 2.543498165130571}. Best is trial 0 with value: 0.1618122977346278.\u001b[0m\n",
      "\u001b[32m[I 2023-01-29 09:47:36,975]\u001b[0m Trial 31 finished with value: 0.1618122977346278 and parameters: {'x': 1.185417994312281, 'y': 8.024811774577202, 'z': 0.9128213511829861}. Best is trial 0 with value: 0.1618122977346278.\u001b[0m\n",
      "\u001b[32m[I 2023-01-29 09:47:37,357]\u001b[0m Trial 32 finished with value: 0.1618122977346278 and parameters: {'x': 0.7775206895034643, 'y': 9.027726603000202, 'z': 1.5049324401840625}. Best is trial 0 with value: 0.1618122977346278.\u001b[0m\n",
      "\u001b[32m[I 2023-01-29 09:47:37,738]\u001b[0m Trial 33 finished with value: 0.1618122977346278 and parameters: {'x': 1.7269947236931336, 'y': 8.421992003814513, 'z': 0.7596715109740173}. Best is trial 0 with value: 0.1618122977346278.\u001b[0m\n",
      "\u001b[32m[I 2023-01-29 09:47:38,117]\u001b[0m Trial 34 finished with value: 0.1618122977346278 and parameters: {'x': 4.084796168770197, 'y': 6.858987734187185, 'z': 0.2202771441840352}. Best is trial 0 with value: 0.1618122977346278.\u001b[0m\n",
      "\u001b[32m[I 2023-01-29 09:47:38,498]\u001b[0m Trial 35 finished with value: 0.1618122977346278 and parameters: {'x': 2.997649906714539, 'y': 7.900570538084328, 'z': 3.837178540309278}. Best is trial 0 with value: 0.1618122977346278.\u001b[0m\n",
      "\u001b[32m[I 2023-01-29 09:47:38,876]\u001b[0m Trial 36 finished with value: 0.1618122977346278 and parameters: {'x': 1.4268574138513985, 'y': 7.5015563171286574, 'z': 1.3457082574746595}. Best is trial 0 with value: 0.1618122977346278.\u001b[0m\n",
      "\u001b[32m[I 2023-01-29 09:47:39,251]\u001b[0m Trial 37 finished with value: 0.1618122977346278 and parameters: {'x': 0.6867152929978092, 'y': 6.0411133408944195, 'z': 2.8994374158328577}. Best is trial 0 with value: 0.1618122977346278.\u001b[0m\n",
      "\u001b[32m[I 2023-01-29 09:47:39,624]\u001b[0m Trial 38 finished with value: 0.1618122977346278 and parameters: {'x': 2.078822105859527, 'y': 6.946902768596375, 'z': 0.5570991409892541}. Best is trial 0 with value: 0.1618122977346278.\u001b[0m\n",
      "\u001b[32m[I 2023-01-29 09:47:39,998]\u001b[0m Trial 39 finished with value: 0.1618122977346278 and parameters: {'x': 3.3496117580473563, 'y': 5.295846954681867, 'z': 1.1371341182914967}. Best is trial 0 with value: 0.1618122977346278.\u001b[0m\n",
      "\u001b[32m[I 2023-01-29 09:47:40,371]\u001b[0m Trial 40 finished with value: 0.1618122977346278 and parameters: {'x': 0.358602272618266, 'y': 9.355988236939352, 'z': 3.6686597905021836}. Best is trial 0 with value: 0.1618122977346278.\u001b[0m\n",
      "\u001b[32m[I 2023-01-29 09:47:40,744]\u001b[0m Trial 41 finished with value: 0.1618122977346278 and parameters: {'x': 1.4512417347536386, 'y': 0.4201293831507663, 'z': 2.1364873180514046}. Best is trial 0 with value: 0.1618122977346278.\u001b[0m\n",
      "\u001b[32m[I 2023-01-29 09:47:41,119]\u001b[0m Trial 42 finished with value: 0.1618122977346278 and parameters: {'x': 0.14588209986357725, 'y': 1.376712700113561, 'z': 0.32490965630022917}. Best is trial 0 with value: 0.1618122977346278.\u001b[0m\n",
      "\u001b[32m[I 2023-01-29 09:47:41,492]\u001b[0m Trial 43 finished with value: 0.1618122977346278 and parameters: {'x': 0.024279490815843685, 'y': 3.919410322334872, 'z': 2.9866759123776045}. Best is trial 0 with value: 0.1618122977346278.\u001b[0m\n",
      "\u001b[32m[I 2023-01-29 09:47:41,867]\u001b[0m Trial 44 finished with value: 0.1618122977346278 and parameters: {'x': 1.1559204568140358, 'y': 1.4752296600193464, 'z': 1.2130102722934966}. Best is trial 0 with value: 0.1618122977346278.\u001b[0m\n",
      "\u001b[32m[I 2023-01-29 09:47:42,244]\u001b[0m Trial 45 finished with value: 0.1618122977346278 and parameters: {'x': 0.5316567966210374, 'y': 3.175568145396136, 'z': 0.6216961355955115}. Best is trial 0 with value: 0.1618122977346278.\u001b[0m\n",
      "\u001b[32m[I 2023-01-29 09:47:42,619]\u001b[0m Trial 46 finished with value: 0.1618122977346278 and parameters: {'x': 1.8132521595645688, 'y': 0.10486841503651778, 'z': 1.7158635441360066}. Best is trial 0 with value: 0.1618122977346278.\u001b[0m\n",
      "\u001b[32m[I 2023-01-29 09:47:42,992]\u001b[0m Trial 47 finished with value: 0.1618122977346278 and parameters: {'x': 0.011450680445808104, 'y': 6.341149057164608, 'z': 4.675397932964518}. Best is trial 0 with value: 0.1618122977346278.\u001b[0m\n",
      "\u001b[32m[I 2023-01-29 09:47:43,365]\u001b[0m Trial 48 finished with value: 0.1618122977346278 and parameters: {'x': 0.5570808712297695, 'y': 7.6178873262571685, 'z': 4.423453347264566}. Best is trial 0 with value: 0.1618122977346278.\u001b[0m\n",
      "\u001b[32m[I 2023-01-29 09:47:43,745]\u001b[0m Trial 49 finished with value: 0.1618122977346278 and parameters: {'x': 1.329713881490824, 'y': 2.592539582273071, 'z': 3.534922326700366}. Best is trial 0 with value: 0.1618122977346278.\u001b[0m\n",
      "\u001b[32m[I 2023-01-29 09:47:44,123]\u001b[0m Trial 50 finished with value: 0.1618122977346278 and parameters: {'x': 2.379339099328793, 'y': 8.627824633317376, 'z': 5.340014702590909}. Best is trial 0 with value: 0.1618122977346278.\u001b[0m\n",
      "\u001b[32m[I 2023-01-29 09:47:44,503]\u001b[0m Trial 51 finished with value: 0.1618122977346278 and parameters: {'x': 3.7745670158329405, 'y': 1.0396575746070353, 'z': 0.014603733743915548}. Best is trial 0 with value: 0.1618122977346278.\u001b[0m\n",
      "\u001b[32m[I 2023-01-29 09:47:44,881]\u001b[0m Trial 52 finished with value: 0.1618122977346278 and parameters: {'x': 0.9453747928126612, 'y': 1.9672694348790665, 'z': 0.5144703421502248}. Best is trial 0 with value: 0.1618122977346278.\u001b[0m\n",
      "\u001b[32m[I 2023-01-29 09:47:45,262]\u001b[0m Trial 53 finished with value: 0.1618122977346278 and parameters: {'x': 0.4445917462034519, 'y': 0.7862553893588325, 'z': 1.0370359083169731}. Best is trial 0 with value: 0.1618122977346278.\u001b[0m\n",
      "\u001b[32m[I 2023-01-29 09:47:45,639]\u001b[0m Trial 54 finished with value: 0.1618122977346278 and parameters: {'x': 2.7800187864606594, 'y': 0.07404126348176575, 'z': 4.0525117318892105}. Best is trial 0 with value: 0.1618122977346278.\u001b[0m\n",
      "\u001b[32m[I 2023-01-29 09:47:46,022]\u001b[0m Trial 55 finished with value: 0.1618122977346278 and parameters: {'x': 2.044977308457173, 'y': 5.017035564665429, 'z': 0.016177377673449733}. Best is trial 0 with value: 0.1618122977346278.\u001b[0m\n",
      "\u001b[32m[I 2023-01-29 09:47:46,412]\u001b[0m Trial 56 finished with value: 0.1618122977346278 and parameters: {'x': 5.77431881191957, 'y': 0.6487502762047785, 'z': 1.6846840374035688}. Best is trial 0 with value: 0.1618122977346278.\u001b[0m\n",
      "\u001b[32m[I 2023-01-29 09:47:46,801]\u001b[0m Trial 57 finished with value: 0.1618122977346278 and parameters: {'x': 1.081066010224555, 'y': 9.638337671556819, 'z': 0.6681135899299326}. Best is trial 0 with value: 0.1618122977346278.\u001b[0m\n",
      "\u001b[32m[I 2023-01-29 09:47:47,188]\u001b[0m Trial 58 finished with value: 0.1618122977346278 and parameters: {'x': 1.6450143851837487, 'y': 5.826541117318111, 'z': 2.3321118816783746}. Best is trial 0 with value: 0.1618122977346278.\u001b[0m\n",
      "\u001b[32m[I 2023-01-29 09:47:47,571]\u001b[0m Trial 59 finished with value: 0.1618122977346278 and parameters: {'x': 6.963359739284231, 'y': 8.65798681072036, 'z': 1.9407728932332862}. Best is trial 0 with value: 0.1618122977346278.\u001b[0m\n",
      "\u001b[32m[I 2023-01-29 09:47:47,948]\u001b[0m Trial 60 finished with value: 0.1618122977346278 and parameters: {'x': 0.4234348643044483, 'y': 7.172159085541351, 'z': 1.0560666970188537}. Best is trial 0 with value: 0.1618122977346278.\u001b[0m\n",
      "\u001b[32m[I 2023-01-29 09:47:48,333]\u001b[0m Trial 61 finished with value: 0.1618122977346278 and parameters: {'x': 1.436709572603993, 'y': 0.2851863536408157, 'z': 5.753850656768367}. Best is trial 0 with value: 0.1618122977346278.\u001b[0m\n",
      "\u001b[32m[I 2023-01-29 09:47:48,718]\u001b[0m Trial 62 finished with value: 0.1618122977346278 and parameters: {'x': 1.012392510790674, 'y': 0.528953263450544, 'z': 4.871422784042668}. Best is trial 0 with value: 0.1618122977346278.\u001b[0m\n",
      "\u001b[32m[I 2023-01-29 09:47:49,101]\u001b[0m Trial 63 finished with value: 0.1618122977346278 and parameters: {'x': 2.321176173606651, 'y': 6.653712048369907, 'z': 4.300687690812595}. Best is trial 0 with value: 0.1618122977346278.\u001b[0m\n",
      "\u001b[32m[I 2023-01-29 09:47:49,487]\u001b[0m Trial 64 finished with value: 0.1618122977346278 and parameters: {'x': 0.6473751176367325, 'y': 8.290440580478391, 'z': 1.4691731304163222}. Best is trial 0 with value: 0.1618122977346278.\u001b[0m\n",
      "\u001b[32m[I 2023-01-29 09:47:49,864]\u001b[0m Trial 65 finished with value: 0.1618122977346278 and parameters: {'x': 1.974566787891659, 'y': 0.04056612838677451, 'z': 2.737356665706519}. Best is trial 0 with value: 0.1618122977346278.\u001b[0m\n",
      "\u001b[32m[I 2023-01-29 09:47:50,253]\u001b[0m Trial 66 finished with value: 0.1618122977346278 and parameters: {'x': 0.9553276240261394, 'y': 7.625629868585697, 'z': 3.172863520423264}. Best is trial 0 with value: 0.1618122977346278.\u001b[0m\n",
      "\u001b[32m[I 2023-01-29 09:47:50,647]\u001b[0m Trial 67 finished with value: 0.1618122977346278 and parameters: {'x': 0.2895336337290312, 'y': 9.09126155917964, 'z': 0.315303904462577}. Best is trial 0 with value: 0.1618122977346278.\u001b[0m\n",
      "\u001b[32m[I 2023-01-29 09:47:51,030]\u001b[0m Trial 68 finished with value: 0.1618122977346278 and parameters: {'x': 1.410828352645633, 'y': 0.8960293036411867, 'z': 3.2643354387943635}. Best is trial 0 with value: 0.1618122977346278.\u001b[0m\n",
      "\u001b[32m[I 2023-01-29 09:47:51,410]\u001b[0m Trial 69 finished with value: 0.1618122977346278 and parameters: {'x': 0.7572870257648285, 'y': 8.141100723356146, 'z': 0.8212520788710687}. Best is trial 0 with value: 0.1618122977346278.\u001b[0m\n",
      "\u001b[32m[I 2023-01-29 09:47:51,791]\u001b[0m Trial 70 finished with value: 0.1618122977346278 and parameters: {'x': 1.792204521354062, 'y': 7.794220468229011, 'z': 1.311523459439242}. Best is trial 0 with value: 0.1618122977346278.\u001b[0m\n",
      "\u001b[32m[I 2023-01-29 09:47:52,175]\u001b[0m Trial 71 finished with value: 0.1618122977346278 and parameters: {'x': 3.188295951942246, 'y': 0.41391897744772466, 'z': 1.9516016816538293}. Best is trial 0 with value: 0.1618122977346278.\u001b[0m\n",
      "\u001b[32m[I 2023-01-29 09:47:52,557]\u001b[0m Trial 72 finished with value: 0.1618122977346278 and parameters: {'x': 2.5982724285451404, 'y': 1.0334242234300381, 'z': 0.39750216211853434}. Best is trial 0 with value: 0.1618122977346278.\u001b[0m\n",
      "\u001b[32m[I 2023-01-29 09:47:52,937]\u001b[0m Trial 73 finished with value: 0.1618122977346278 and parameters: {'x': 0.2547481083926275, 'y': 0.6412894631351398, 'z': 3.832116310303371}. Best is trial 0 with value: 0.1618122977346278.\u001b[0m\n",
      "\u001b[32m[I 2023-01-29 09:47:53,318]\u001b[0m Trial 74 finished with value: 0.1618122977346278 and parameters: {'x': 4.122008452037989, 'y': 1.2175966290065292, 'z': 0.7869370550162778}. Best is trial 0 with value: 0.1618122977346278.\u001b[0m\n",
      "\u001b[32m[I 2023-01-29 09:47:53,698]\u001b[0m Trial 75 finished with value: 0.1618122977346278 and parameters: {'x': 1.1705242144963026, 'y': 1.6539728774663254, 'z': 1.50780075434076}. Best is trial 0 with value: 0.1618122977346278.\u001b[0m\n",
      "\u001b[32m[I 2023-01-29 09:47:54,081]\u001b[0m Trial 76 finished with value: 0.1618122977346278 and parameters: {'x': 2.2083190108362922, 'y': 0.381138709141813, 'z': 1.2818738167328991}. Best is trial 0 with value: 0.1618122977346278.\u001b[0m\n",
      "\u001b[32m[I 2023-01-29 09:47:54,465]\u001b[0m Trial 77 finished with value: 0.1618122977346278 and parameters: {'x': 1.561797589888257, 'y': 8.764563469850893, 'z': 2.386313066506862}. Best is trial 0 with value: 0.1618122977346278.\u001b[0m\n",
      "\u001b[32m[I 2023-01-29 09:47:54,849]\u001b[0m Trial 78 finished with value: 0.1618122977346278 and parameters: {'x': 0.511194515382718, 'y': 8.4798924756975, 'z': 1.0814726123585476}. Best is trial 0 with value: 0.1618122977346278.\u001b[0m\n",
      "\u001b[32m[I 2023-01-29 09:47:55,232]\u001b[0m Trial 79 finished with value: 0.1618122977346278 and parameters: {'x': 0.17601116997569127, 'y': 0.816932271899911, 'z': 0.22946789855780136}. Best is trial 0 with value: 0.1618122977346278.\u001b[0m\n",
      "\u001b[32m[I 2023-01-29 09:47:55,618]\u001b[0m Trial 80 finished with value: 0.1618122977346278 and parameters: {'x': 0.8784089953640944, 'y': 7.322407778558693, 'z': 2.686660818317949}. Best is trial 0 with value: 0.1618122977346278.\u001b[0m\n",
      "\u001b[32m[I 2023-01-29 09:47:56,001]\u001b[0m Trial 81 finished with value: 0.1618122977346278 and parameters: {'x': 4.7233540006535515, 'y': 8.09387923451865, 'z': 7.993386665324826}. Best is trial 0 with value: 0.1618122977346278.\u001b[0m\n",
      "\u001b[32m[I 2023-01-29 09:47:56,382]\u001b[0m Trial 82 finished with value: 0.1618122977346278 and parameters: {'x': 3.486152337283786, 'y': 7.043260299621197, 'z': 9.59854287755259}. Best is trial 0 with value: 0.1618122977346278.\u001b[0m\n",
      "\u001b[32m[I 2023-01-29 09:47:56,766]\u001b[0m Trial 83 finished with value: 0.1618122977346278 and parameters: {'x': 1.2108753172155498, 'y': 7.456680978725738, 'z': 3.4933151146163604}. Best is trial 0 with value: 0.1618122977346278.\u001b[0m\n",
      "\u001b[32m[I 2023-01-29 09:47:57,150]\u001b[0m Trial 84 finished with value: 0.1618122977346278 and parameters: {'x': 0.6891445144839187, 'y': 6.861339995098071, 'z': 2.174117143208859}. Best is trial 0 with value: 0.1618122977346278.\u001b[0m\n",
      "\u001b[32m[I 2023-01-29 09:47:57,530]\u001b[0m Trial 85 finished with value: 0.1618122977346278 and parameters: {'x': 5.075276453934889, 'y': 7.780551832504339, 'z': 4.180365492371097}. Best is trial 0 with value: 0.1618122977346278.\u001b[0m\n",
      "\u001b[32m[I 2023-01-29 09:47:57,911]\u001b[0m Trial 86 finished with value: 0.1618122977346278 and parameters: {'x': 2.886147213624466, 'y': 6.213182178290394, 'z': 4.677928814846041}. Best is trial 0 with value: 0.1618122977346278.\u001b[0m\n",
      "\u001b[32m[I 2023-01-29 09:47:58,302]\u001b[0m Trial 87 finished with value: 0.1618122977346278 and parameters: {'x': 1.6036967719072959, 'y': 0.007671411307393003, 'z': 1.818535659028032}. Best is trial 0 with value: 0.1618122977346278.\u001b[0m\n",
      "\u001b[32m[I 2023-01-29 09:47:58,680]\u001b[0m Trial 88 finished with value: 0.1618122977346278 and parameters: {'x': 2.5585924637642243, 'y': 8.966253567617901, 'z': 0.5386416472110452}. Best is trial 0 with value: 0.1618122977346278.\u001b[0m\n",
      "\u001b[32m[I 2023-01-29 09:47:59,060]\u001b[0m Trial 89 finished with value: 0.1618122977346278 and parameters: {'x': 0.3129419011384987, 'y': 6.525363589081438, 'z': 5.24029266818366}. Best is trial 0 with value: 0.1618122977346278.\u001b[0m\n",
      "\u001b[32m[I 2023-01-29 09:47:59,439]\u001b[0m Trial 90 finished with value: 0.1618122977346278 and parameters: {'x': 2.092335066997454, 'y': 8.328820275102467, 'z': 3.7798323182692886}. Best is trial 0 with value: 0.1618122977346278.\u001b[0m\n",
      "\u001b[32m[I 2023-01-29 09:47:59,824]\u001b[0m Trial 91 finished with value: 0.1618122977346278 and parameters: {'x': 3.6762520169263886, 'y': 4.7177107599197035, 'z': 0.8274518330166005}. Best is trial 0 with value: 0.1618122977346278.\u001b[0m\n",
      "\u001b[32m[I 2023-01-29 09:48:00,202]\u001b[0m Trial 92 finished with value: 0.1618122977346278 and parameters: {'x': 4.0832599440737685, 'y': 5.486156506550061, 'z': 0.15965602782749333}. Best is trial 0 with value: 0.1618122977346278.\u001b[0m\n",
      "\u001b[32m[I 2023-01-29 09:48:00,577]\u001b[0m Trial 93 finished with value: 0.1618122977346278 and parameters: {'x': 3.1409194134673637, 'y': 1.875931953078842, 'z': 0.6083510075812282}. Best is trial 0 with value: 0.1618122977346278.\u001b[0m\n",
      "\u001b[32m[I 2023-01-29 09:48:00,955]\u001b[0m Trial 94 finished with value: 0.1618122977346278 and parameters: {'x': 0.9148339936656354, 'y': 0.2104297410464374, 'z': 1.129043919875774}. Best is trial 0 with value: 0.1618122977346278.\u001b[0m\n",
      "\u001b[32m[I 2023-01-29 09:48:01,335]\u001b[0m Trial 95 finished with value: 0.1618122977346278 and parameters: {'x': 0.060226027012597216, 'y': 0.568788250754487, 'z': 1.607562924587163}. Best is trial 0 with value: 0.1618122977346278.\u001b[0m\n",
      "\u001b[32m[I 2023-01-29 09:48:01,714]\u001b[0m Trial 96 finished with value: 0.1618122977346278 and parameters: {'x': 1.2416114703080676, 'y': 3.889515346464234, 'z': 0.8432020989964661}. Best is trial 0 with value: 0.1618122977346278.\u001b[0m\n",
      "\u001b[32m[I 2023-01-29 09:48:02,087]\u001b[0m Trial 97 finished with value: 0.1618122977346278 and parameters: {'x': 1.891021086497087, 'y': 1.1669682145212201, 'z': 0.42434632843695663}. Best is trial 0 with value: 0.1618122977346278.\u001b[0m\n",
      "\u001b[32m[I 2023-01-29 09:48:02,468]\u001b[0m Trial 98 finished with value: 0.1618122977346278 and parameters: {'x': 0.6635190322108442, 'y': 7.972110197452359, 'z': 3.1070879232920774}. Best is trial 0 with value: 0.1618122977346278.\u001b[0m\n",
      "\u001b[32m[I 2023-01-29 09:48:02,852]\u001b[0m Trial 99 finished with value: 0.1618122977346278 and parameters: {'x': 0.5263909850602189, 'y': 0.33791507487260597, 'z': 1.3365778314058685}. Best is trial 0 with value: 0.1618122977346278.\u001b[0m\n"
     ]
    },
    {
     "data": {
      "text/plain": [
       "{'x': 0.31707784364272684, 'y': 7.891919021076451, 'z': 4.346072564605821}"
      ]
     },
     "execution_count": 21,
     "metadata": {},
     "output_type": "execute_result"
    }
   ],
   "source": [
    "\n",
    "def objective(trial):\n",
    "    x = trial.suggest_float('x', 0, 10)\n",
    "    y = trial.suggest_float('y', 0, 10)\n",
    "    z = trial.suggest_float('z', 0, 10)\n",
    "    #a = trial.suggest_float('a', 0, 10)\n",
    "    return 1-compute_accuracy(x,y,z,0)\n",
    "\n",
    "study = optuna.create_study()\n",
    "study.optimize(objective, n_trials=100)\n",
    "\n",
    "study.best_params  # E.g. {'x': 2.002108042}\n",
    "\n"
   ]
  },
  {
   "cell_type": "code",
   "execution_count": 22,
   "metadata": {},
   "outputs": [],
   "source": [
    "res = compute_accuracy2(study.best_params['x'], 1, study.best_params['y'], 0)\n",
    "\n",
    "real = list(y_test_df['documentid'])\n"
   ]
  },
  {
   "cell_type": "code",
   "execution_count": 23,
   "metadata": {},
   "outputs": [
    {
     "name": "stdout",
     "output_type": "stream",
     "text": [
      "89.51612903225806\n"
     ]
    }
   ],
   "source": [
    "'''\n",
    "calculates the percentage where our predicted data conforms to our acutal data\n",
    "'''\n",
    "def calculate_percentage(list_a, list_b):\n",
    "    common_elements = set(list_a) & set(list_b)\n",
    "    percentage = (len(common_elements) / len(list_a)) * 100\n",
    "    return percentage\n",
    "    \n",
    "#from our model, we have a predicted accuracy of 89.51612903225806\n",
    "print(calculate_percentage(res,real))"
   ]
  }
 ],
 "metadata": {
  "kernelspec": {
   "display_name": "base",
   "language": "python",
   "name": "python3"
  },
  "language_info": {
   "codemirror_mode": {
    "name": "ipython",
    "version": 3
   },
   "file_extension": ".py",
   "mimetype": "text/x-python",
   "name": "python",
   "nbconvert_exporter": "python",
   "pygments_lexer": "ipython3",
   "version": "3.9.7"
  },
  "orig_nbformat": 4,
  "vscode": {
   "interpreter": {
    "hash": "2c1b9b709c96f0a0c4f0ad5aa64018864a577eca0df3681d86d386a5d9092f0a"
   }
  }
 },
 "nbformat": 4,
 "nbformat_minor": 2
}
