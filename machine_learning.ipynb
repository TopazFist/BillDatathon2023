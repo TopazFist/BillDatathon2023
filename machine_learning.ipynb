{
 "cells": [
  {
   "cell_type": "code",
   "execution_count": 16,
   "metadata": {},
   "outputs": [],
   "source": [
    "import os\n",
    "import numpy as np\n",
    "import pandas as pd\n",
    "from sklearn.neighbors import KNeighborsClassifier\n",
    "from sklearn.model_selection import train_test_split"
   ]
  },
  {
   "cell_type": "code",
   "execution_count": 17,
   "metadata": {},
   "outputs": [],
   "source": [
    "df = pd.read_csv(\"data/final/final.csv\")\n",
    "y = np.array(df['documentid'])\n",
    "X = np.array(df.drop(['documentid'],axis=1))\n",
    "\n",
    "X_train, X_test, y_train, y_test = train_test_split(X, y, test_size=0.20)\n",
    "x_column = list(df.columns)\n",
    "x_column.remove('documentid')\n",
    "\n",
    "X_train_df = pd.DataFrame(data = X_train, columns = x_column)\n",
    "X_test_df = pd.DataFrame(data = X_test, columns = x_column)\n",
    "y_train_df = pd.DataFrame(data = y_train, columns = ['list_price'])\n",
    "y_test_df = pd.DataFrame(data = y_test, columns = ['list_price'])"
   ]
  },
  {
   "cell_type": "code",
   "execution_count": 28,
   "metadata": {},
   "outputs": [
    {
     "name": "stdout",
     "output_type": "stream",
     "text": [
      "     result\n",
      "0      True\n",
      "1     False\n",
      "2      True\n",
      "3     False\n",
      "4      True\n",
      "..      ...\n",
      "494   False\n",
      "495    True\n",
      "496   False\n",
      "497   False\n",
      "498    True\n",
      "\n",
      "[499 rows x 1 columns]\n",
      "197\n"
     ]
    }
   ],
   "source": [
    "\n",
    "dfs = pd.DataFrame()\n",
    "ss = pd.DataFrame()\n",
    "ss = df.query(\"pot_doc != []\")\n",
    "dfs['result'] = ss.apply(lambda row: (row['documentid'] in row['pot_doc']), axis=1)\n",
    "print(dfs)\n",
    "num_trues = dfs['result'].value_counts()[True]\n",
    "print(num_trues)"
   ]
  }
 ],
 "metadata": {
  "kernelspec": {
   "display_name": "base",
   "language": "python",
   "name": "python3"
  },
  "language_info": {
   "codemirror_mode": {
    "name": "ipython",
    "version": 3
   },
   "file_extension": ".py",
   "mimetype": "text/x-python",
   "name": "python",
   "nbconvert_exporter": "python",
   "pygments_lexer": "ipython3",
   "version": "3.9.7"
  },
  "orig_nbformat": 4,
  "vscode": {
   "interpreter": {
    "hash": "2c1b9b709c96f0a0c4f0ad5aa64018864a577eca0df3681d86d386a5d9092f0a"
   }
  }
 },
 "nbformat": 4,
 "nbformat_minor": 2
}
