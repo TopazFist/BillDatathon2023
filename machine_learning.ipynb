{
 "cells": [
  {
   "cell_type": "code",
   "execution_count": 1,
   "metadata": {},
   "outputs": [],
   "source": [
    "import os\n",
    "import numpy as np\n",
    "import pandas as pd\n",
    "from sklearn.model_selection import train_test_split\n",
    "import optuna"
   ]
  },
  {
   "cell_type": "code",
   "execution_count": 2,
   "metadata": {},
   "outputs": [],
   "source": [
    "df = pd.read_csv(\"data/final/final.csv\")\n",
    "df = df[df['pot_doc'] != '[]']\n",
    "\n",
    "y = np.array(df['documentid'])\n",
    "X = np.array(df)\n",
    "\n",
    "# df[\"pot_doc\"].astype(\"O\")\n",
    "# df[\"pot_date\"].astype(\"O\")\n",
    "# df[\"pot_price\"].astype(\"O\")\n",
    "# df[\"pot_name\"].astype(\"O\")\n",
    "# df[\"pot_address\"].astype(\"O\")\n",
    "\n",
    "X_train, X_test, y_train, y_test = train_test_split(X, y, test_size=0.20)\n",
    "x_column = list(df.columns)\n",
    "x_column.remove('documentid')\n",
    "\n",
    "X_train_df = pd.DataFrame(data = X_train, columns = df.columns)\n",
    "X_test_df = pd.DataFrame(data = X_test, columns = df.columns)\n",
    "y_train_df = pd.DataFrame(data = y_train, columns = ['documentid'])\n",
    "y_test_df = pd.DataFrame(data = y_test, columns = ['documentid'])\n",
    "\n",
    "X_train_df= X_train_df.drop(columns=\"documentid\")\n",
    "X_test_df= X_test_df.drop(columns=\"documentid\")"
   ]
  },
  {
   "cell_type": "code",
   "execution_count": 3,
   "metadata": {},
   "outputs": [],
   "source": [
    "def compute_accuracy(x, y, z,a):\n",
    "    results = []\n",
    "    for row in X_train_df.iterrows():\n",
    "        if (len(eval(row[1]['pot_doc']))==0):\n",
    "            continue\n",
    "        dists = []\n",
    "        \n",
    "        for idx in range(len(eval(row[1]['pot_doc']))):\n",
    "            dists.append((x*eval(row[1]['pot_price'])[idx])**2 \n",
    "            #+ (y*eval(row[1]['pot_date'])[idx])**2\n",
    "            + (z*eval(row[1]['pot_address'])[idx])**2\n",
    "            #+ (a*eval(row[1]['pot_name'])[idx])**2\n",
    "            )\n",
    "        dists = np.array(dists)\n",
    "        results.append(eval(row[1]['pot_doc'])[dists.argmin()])\n",
    "    results = np.array(results)\n",
    "    return np.sum(results == np.array(y_train_df['documentid']))/len(X_train_df)\n"
   ]
  },
  {
   "cell_type": "code",
   "execution_count": 4,
   "metadata": {},
   "outputs": [
    {
     "name": "stderr",
     "output_type": "stream",
     "text": [
      "\u001b[32m[I 2023-01-29 00:30:00,248]\u001b[0m A new study created in memory with name: no-name-de18d202-0638-4a1a-80ab-01e4cdb98fbf\u001b[0m\n",
      "\u001b[32m[I 2023-01-29 00:30:00,834]\u001b[0m Trial 0 finished with value: 0.45856353591160226 and parameters: {'x': 35.871978862233966, 'z': 29.994180067573208}. Best is trial 0 with value: 0.45856353591160226.\u001b[0m\n",
      "\u001b[32m[I 2023-01-29 00:30:01,416]\u001b[0m Trial 1 finished with value: 0.425414364640884 and parameters: {'x': 53.71419370249655, 'z': 0.6908407735606403}. Best is trial 1 with value: 0.425414364640884.\u001b[0m\n",
      "\u001b[32m[I 2023-01-29 00:30:01,995]\u001b[0m Trial 2 finished with value: 0.4171270718232044 and parameters: {'x': 76.0505575219834, 'z': 13.739957419179817}. Best is trial 2 with value: 0.4171270718232044.\u001b[0m\n",
      "\u001b[32m[I 2023-01-29 00:30:02,571]\u001b[0m Trial 3 finished with value: 0.430939226519337 and parameters: {'x': 85.21118277594215, 'z': 23.82933813361318}. Best is trial 2 with value: 0.4171270718232044.\u001b[0m\n",
      "\u001b[32m[I 2023-01-29 00:30:03,148]\u001b[0m Trial 4 finished with value: 0.430939226519337 and parameters: {'x': 87.44036258888757, 'z': 29.12395415038244}. Best is trial 2 with value: 0.4171270718232044.\u001b[0m\n",
      "\u001b[32m[I 2023-01-29 00:30:03,728]\u001b[0m Trial 5 finished with value: 0.430939226519337 and parameters: {'x': 97.05135884915677, 'z': 28.361405336341498}. Best is trial 2 with value: 0.4171270718232044.\u001b[0m\n",
      "\u001b[32m[I 2023-01-29 00:30:04,304]\u001b[0m Trial 6 finished with value: 0.4530386740331491 and parameters: {'x': 36.46674337954353, 'z': 28.005402786130855}. Best is trial 2 with value: 0.4171270718232044.\u001b[0m\n",
      "\u001b[32m[I 2023-01-29 00:30:04,888]\u001b[0m Trial 7 finished with value: 0.5580110497237569 and parameters: {'x': 2.545955420114121, 'z': 28.154703345310153}. Best is trial 2 with value: 0.4171270718232044.\u001b[0m\n",
      "\u001b[32m[I 2023-01-29 00:30:05,468]\u001b[0m Trial 8 finished with value: 0.5027624309392265 and parameters: {'x': 24.215770488466493, 'z': 24.965585094759746}. Best is trial 2 with value: 0.4171270718232044.\u001b[0m\n",
      "\u001b[32m[I 2023-01-29 00:30:06,046]\u001b[0m Trial 9 finished with value: 0.48895027624309395 and parameters: {'x': 9.182102641168498, 'z': 8.87028302013616}. Best is trial 2 with value: 0.4171270718232044.\u001b[0m\n",
      "\u001b[32m[I 2023-01-29 00:30:06,632]\u001b[0m Trial 10 finished with value: 0.419889502762431 and parameters: {'x': 66.19309770182271, 'z': 16.86057777254561}. Best is trial 2 with value: 0.4171270718232044.\u001b[0m\n",
      "\u001b[32m[I 2023-01-29 00:30:07,213]\u001b[0m Trial 11 finished with value: 0.41436464088397795 and parameters: {'x': 72.3281220644505, 'z': 16.0050762187405}. Best is trial 11 with value: 0.41436464088397795.\u001b[0m\n",
      "\u001b[32m[I 2023-01-29 00:30:07,795]\u001b[0m Trial 12 finished with value: 0.41436464088397795 and parameters: {'x': 69.81718698436458, 'z': 15.560689116165355}. Best is trial 11 with value: 0.41436464088397795.\u001b[0m\n",
      "\u001b[32m[I 2023-01-29 00:30:08,394]\u001b[0m Trial 13 finished with value: 0.419889502762431 and parameters: {'x': 67.98309544901085, 'z': 17.540450298904187}. Best is trial 11 with value: 0.41436464088397795.\u001b[0m\n",
      "\u001b[32m[I 2023-01-29 00:30:09,002]\u001b[0m Trial 14 finished with value: 0.41436464088397795 and parameters: {'x': 58.842005381720575, 'z': 12.10601594828648}. Best is trial 11 with value: 0.41436464088397795.\u001b[0m\n",
      "\u001b[32m[I 2023-01-29 00:30:09,592]\u001b[0m Trial 15 finished with value: 0.430939226519337 and parameters: {'x': 71.70243909199391, 'z': 19.91545754327907}. Best is trial 11 with value: 0.41436464088397795.\u001b[0m\n",
      "\u001b[32m[I 2023-01-29 00:30:10,189]\u001b[0m Trial 16 finished with value: 0.4337016574585635 and parameters: {'x': 56.601622760810955, 'z': 20.690526917453397}. Best is trial 11 with value: 0.41436464088397795.\u001b[0m\n",
      "\u001b[32m[I 2023-01-29 00:30:10,792]\u001b[0m Trial 17 finished with value: 0.419889502762431 and parameters: {'x': 78.87870998007718, 'z': 10.164233011706937}. Best is trial 11 with value: 0.41436464088397795.\u001b[0m\n",
      "\u001b[32m[I 2023-01-29 00:30:11,389]\u001b[0m Trial 18 finished with value: 0.4171270718232044 and parameters: {'x': 97.72232602037025, 'z': 15.303511917770264}. Best is trial 11 with value: 0.41436464088397795.\u001b[0m\n",
      "\u001b[32m[I 2023-01-29 00:30:11,973]\u001b[0m Trial 19 finished with value: 0.419889502762431 and parameters: {'x': 62.348523689584994, 'z': 6.840819124747904}. Best is trial 11 with value: 0.41436464088397795.\u001b[0m\n",
      "\u001b[32m[I 2023-01-29 00:30:12,575]\u001b[0m Trial 20 finished with value: 0.4392265193370166 and parameters: {'x': 45.924046313207285, 'z': 19.97702356985227}. Best is trial 11 with value: 0.41436464088397795.\u001b[0m\n",
      "\u001b[32m[I 2023-01-29 00:30:13,165]\u001b[0m Trial 21 finished with value: 0.4171270718232044 and parameters: {'x': 60.917099344816506, 'z': 11.82068572056103}. Best is trial 11 with value: 0.41436464088397795.\u001b[0m\n",
      "\u001b[32m[I 2023-01-29 00:30:13,746]\u001b[0m Trial 22 finished with value: 0.4171270718232044 and parameters: {'x': 71.9041252867207, 'z': 13.255060096575441}. Best is trial 11 with value: 0.41436464088397795.\u001b[0m\n",
      "\u001b[32m[I 2023-01-29 00:30:14,327]\u001b[0m Trial 23 finished with value: 0.430939226519337 and parameters: {'x': 51.80170194132445, 'z': 15.487655646228635}. Best is trial 11 with value: 0.41436464088397795.\u001b[0m\n",
      "\u001b[32m[I 2023-01-29 00:30:14,909]\u001b[0m Trial 24 finished with value: 0.4171270718232044 and parameters: {'x': 62.97823338097899, 'z': 12.73614722338229}. Best is trial 11 with value: 0.41436464088397795.\u001b[0m\n",
      "\u001b[32m[I 2023-01-29 00:30:15,489]\u001b[0m Trial 25 finished with value: 0.41436464088397795 and parameters: {'x': 83.0553779389816, 'z': 18.0285771780225}. Best is trial 11 with value: 0.41436464088397795.\u001b[0m\n",
      "\u001b[32m[I 2023-01-29 00:30:16,071]\u001b[0m Trial 26 finished with value: 0.4171270718232044 and parameters: {'x': 74.82506068153847, 'z': 15.232390016569248}. Best is trial 11 with value: 0.41436464088397795.\u001b[0m\n",
      "\u001b[32m[I 2023-01-29 00:30:16,653]\u001b[0m Trial 27 finished with value: 0.4171270718232044 and parameters: {'x': 67.30403171855369, 'z': 10.522372622555988}. Best is trial 11 with value: 0.41436464088397795.\u001b[0m\n",
      "\u001b[32m[I 2023-01-29 00:30:17,232]\u001b[0m Trial 28 finished with value: 0.4171270718232044 and parameters: {'x': 58.37691503196659, 'z': 8.12837712467141}. Best is trial 11 with value: 0.41436464088397795.\u001b[0m\n",
      "\u001b[32m[I 2023-01-29 00:30:17,813]\u001b[0m Trial 29 finished with value: 0.430939226519337 and parameters: {'x': 46.23995641631606, 'z': 14.53702702727358}. Best is trial 11 with value: 0.41436464088397795.\u001b[0m\n",
      "\u001b[32m[I 2023-01-29 00:30:18,394]\u001b[0m Trial 30 finished with value: 0.4171270718232044 and parameters: {'x': 80.0641843560951, 'z': 10.963193729167092}. Best is trial 11 with value: 0.41436464088397795.\u001b[0m\n",
      "\u001b[32m[I 2023-01-29 00:30:18,996]\u001b[0m Trial 31 finished with value: 0.41436464088397795 and parameters: {'x': 87.63252815916526, 'z': 18.498595885588273}. Best is trial 11 with value: 0.41436464088397795.\u001b[0m\n",
      "\u001b[32m[I 2023-01-29 00:30:19,578]\u001b[0m Trial 32 finished with value: 0.4171270718232044 and parameters: {'x': 81.92505652579321, 'z': 16.56794313923679}. Best is trial 11 with value: 0.41436464088397795.\u001b[0m\n",
      "\u001b[32m[I 2023-01-29 00:30:20,159]\u001b[0m Trial 33 finished with value: 0.4171270718232044 and parameters: {'x': 72.6320202033018, 'z': 13.9254174844329}. Best is trial 11 with value: 0.41436464088397795.\u001b[0m\n",
      "\u001b[32m[I 2023-01-29 00:30:20,740]\u001b[0m Trial 34 finished with value: 0.430939226519337 and parameters: {'x': 54.75643474626813, 'z': 18.03513152294467}. Best is trial 11 with value: 0.41436464088397795.\u001b[0m\n",
      "\u001b[32m[I 2023-01-29 00:30:21,322]\u001b[0m Trial 35 finished with value: 0.4171270718232044 and parameters: {'x': 76.48564401265061, 'z': 12.727382235215318}. Best is trial 11 with value: 0.41436464088397795.\u001b[0m\n",
      "\u001b[32m[I 2023-01-29 00:30:21,904]\u001b[0m Trial 36 finished with value: 0.419889502762431 and parameters: {'x': 89.09365678086637, 'z': 22.345634026881612}. Best is trial 11 with value: 0.41436464088397795.\u001b[0m\n",
      "\u001b[32m[I 2023-01-29 00:30:22,484]\u001b[0m Trial 37 finished with value: 0.4171270718232044 and parameters: {'x': 82.93949085887657, 'z': 16.54823445496635}. Best is trial 11 with value: 0.41436464088397795.\u001b[0m\n",
      "\u001b[32m[I 2023-01-29 00:30:23,066]\u001b[0m Trial 38 finished with value: 0.41436464088397795 and parameters: {'x': 91.22006150639011, 'z': 18.777187088400943}. Best is trial 11 with value: 0.41436464088397795.\u001b[0m\n",
      "\u001b[32m[I 2023-01-29 00:30:23,647]\u001b[0m Trial 39 finished with value: 0.4171270718232044 and parameters: {'x': 79.17253473114829, 'z': 14.227275428328968}. Best is trial 11 with value: 0.41436464088397795.\u001b[0m\n",
      "\u001b[32m[I 2023-01-29 00:30:24,229]\u001b[0m Trial 40 finished with value: 0.425414364640884 and parameters: {'x': 92.87288943937381, 'z': 5.426756517467828}. Best is trial 11 with value: 0.41436464088397795.\u001b[0m\n",
      "\u001b[32m[I 2023-01-29 00:30:24,810]\u001b[0m Trial 41 finished with value: 0.41436464088397795 and parameters: {'x': 86.1802403547988, 'z': 18.642964676040528}. Best is trial 11 with value: 0.41436464088397795.\u001b[0m\n",
      "\u001b[32m[I 2023-01-29 00:30:25,392]\u001b[0m Trial 42 finished with value: 0.4171270718232044 and parameters: {'x': 84.86825822002086, 'z': 16.399111624429956}. Best is trial 11 with value: 0.41436464088397795.\u001b[0m\n",
      "\u001b[32m[I 2023-01-29 00:30:25,977]\u001b[0m Trial 43 finished with value: 0.4171270718232044 and parameters: {'x': 99.90788502010834, 'z': 17.95019280440141}. Best is trial 11 with value: 0.41436464088397795.\u001b[0m\n",
      "\u001b[32m[I 2023-01-29 00:30:26,557]\u001b[0m Trial 44 finished with value: 0.4171270718232044 and parameters: {'x': 69.20114888988846, 'z': 15.940265466239207}. Best is trial 11 with value: 0.41436464088397795.\u001b[0m\n",
      "\u001b[32m[I 2023-01-29 00:30:27,141]\u001b[0m Trial 45 finished with value: 0.42817679558011046 and parameters: {'x': 76.29793189654515, 'z': 20.61582101640234}. Best is trial 11 with value: 0.41436464088397795.\u001b[0m\n",
      "\u001b[32m[I 2023-01-29 00:30:27,732]\u001b[0m Trial 46 finished with value: 0.4171270718232044 and parameters: {'x': 93.96019386872854, 'z': 17.247504458424288}. Best is trial 11 with value: 0.41436464088397795.\u001b[0m\n",
      "\u001b[32m[I 2023-01-29 00:30:28,322]\u001b[0m Trial 47 finished with value: 0.419889502762431 and parameters: {'x': 87.57867461958928, 'z': 21.555286006702403}. Best is trial 11 with value: 0.41436464088397795.\u001b[0m\n",
      "\u001b[32m[I 2023-01-29 00:30:28,911]\u001b[0m Trial 48 finished with value: 0.430939226519337 and parameters: {'x': 65.00971720104084, 'z': 19.243717690313936}. Best is trial 11 with value: 0.41436464088397795.\u001b[0m\n",
      "\u001b[32m[I 2023-01-29 00:30:29,504]\u001b[0m Trial 49 finished with value: 0.430939226519337 and parameters: {'x': 69.2147930444372, 'z': 23.78027094110509}. Best is trial 11 with value: 0.41436464088397795.\u001b[0m\n",
      "\u001b[32m[I 2023-01-29 00:30:30,091]\u001b[0m Trial 50 finished with value: 0.4171270718232044 and parameters: {'x': 81.3177348126993, 'z': 14.818632486918329}. Best is trial 11 with value: 0.41436464088397795.\u001b[0m\n",
      "\u001b[32m[I 2023-01-29 00:30:30,675]\u001b[0m Trial 51 finished with value: 0.41436464088397795 and parameters: {'x': 89.98655581850566, 'z': 18.924237822488767}. Best is trial 11 with value: 0.41436464088397795.\u001b[0m\n",
      "\u001b[32m[I 2023-01-29 00:30:31,260]\u001b[0m Trial 52 finished with value: 0.4171270718232044 and parameters: {'x': 94.43530850224487, 'z': 17.861732237800467}. Best is trial 11 with value: 0.41436464088397795.\u001b[0m\n",
      "\u001b[32m[I 2023-01-29 00:30:31,843]\u001b[0m Trial 53 finished with value: 0.41436464088397795 and parameters: {'x': 86.02923375580076, 'z': 19.385829050943624}. Best is trial 11 with value: 0.41436464088397795.\u001b[0m\n",
      "\u001b[32m[I 2023-01-29 00:30:32,427]\u001b[0m Trial 54 finished with value: 0.4171270718232044 and parameters: {'x': 91.7510869337586, 'z': 17.070305759057142}. Best is trial 11 with value: 0.41436464088397795.\u001b[0m\n",
      "\u001b[32m[I 2023-01-29 00:30:33,010]\u001b[0m Trial 55 finished with value: 0.41436464088397795 and parameters: {'x': 75.9521478467418, 'z': 15.813253350850749}. Best is trial 11 with value: 0.41436464088397795.\u001b[0m\n",
      "\u001b[32m[I 2023-01-29 00:30:33,593]\u001b[0m Trial 56 finished with value: 0.4171270718232044 and parameters: {'x': 72.11840333579403, 'z': 13.79611481510996}. Best is trial 11 with value: 0.41436464088397795.\u001b[0m\n",
      "\u001b[32m[I 2023-01-29 00:30:34,179]\u001b[0m Trial 57 finished with value: 0.41436464088397795 and parameters: {'x': 96.55680218098317, 'z': 20.674794930004694}. Best is trial 11 with value: 0.41436464088397795.\u001b[0m\n",
      "\u001b[32m[I 2023-01-29 00:30:34,762]\u001b[0m Trial 58 finished with value: 0.41436464088397795 and parameters: {'x': 83.09665004739468, 'z': 18.508005442660814}. Best is trial 11 with value: 0.41436464088397795.\u001b[0m\n",
      "\u001b[32m[I 2023-01-29 00:30:35,345]\u001b[0m Trial 59 finished with value: 0.4171270718232044 and parameters: {'x': 64.6179100496249, 'z': 12.325096270574017}. Best is trial 11 with value: 0.41436464088397795.\u001b[0m\n"
     ]
    },
    {
     "data": {
      "text/plain": [
       "{'x': 72.3281220644505, 'z': 16.0050762187405}"
      ]
     },
     "execution_count": 4,
     "metadata": {},
     "output_type": "execute_result"
    }
   ],
   "source": [
    "\n",
    "# dfs = pd.DataFrame()\n",
    "# ss = pd.DataFrame()\n",
    "\n",
    "# dfs['result'] = ss.apply(lambda row: (row['documentid'] in row['pot_doc']), axis=1)\n",
    "# print(dfs)\n",
    "# num_trues = dfs['result'].value_counts()[True]\n",
    "# print(num_trues)\n",
    "def objective(trial):\n",
    "    x = trial.suggest_float('x', 0, 100)\n",
    "    #y = trial.suggest_float('y', 0, 10)\n",
    "    z = trial.suggest_float('z', 0, 30)\n",
    "    #a = trial.suggest_float('a', 0, 10)\n",
    "    return 1-compute_accuracy(x,0,z,0)\n",
    "\n",
    "study = optuna.create_study()\n",
    "study.optimize(objective, n_trials=60)\n",
    "\n",
    "study.best_params  # E.g. {'x': 2.002108042}"
   ]
  }
 ],
 "metadata": {
  "kernelspec": {
   "display_name": "base",
   "language": "python",
   "name": "python3"
  },
  "language_info": {
   "codemirror_mode": {
    "name": "ipython",
    "version": 3
   },
   "file_extension": ".py",
   "mimetype": "text/x-python",
   "name": "python",
   "nbconvert_exporter": "python",
   "pygments_lexer": "ipython3",
   "version": "3.9.7"
  },
  "orig_nbformat": 4,
  "vscode": {
   "interpreter": {
    "hash": "2c1b9b709c96f0a0c4f0ad5aa64018864a577eca0df3681d86d386a5d9092f0a"
   }
  }
 },
 "nbformat": 4,
 "nbformat_minor": 2
}
