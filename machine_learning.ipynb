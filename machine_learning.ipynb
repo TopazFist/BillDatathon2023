{
 "cells": [
  {
   "cell_type": "code",
   "execution_count": 16,
   "metadata": {},
   "outputs": [],
   "source": [
    "import os\n",
    "import numpy as np\n",
    "import pandas as pd\n",
    "from sklearn.neighbors import KNeighborsClassifier\n",
    "from sklearn.model_selection import train_test_split"
   ]
  },
  {
   "cell_type": "code",
   "execution_count": 29,
   "metadata": {},
   "outputs": [],
   "source": [
    "df = pd.read_csv(\"data/final/final.csv\")\n",
    "y = np.array(df['documentid'])\n",
    "X = np.array(df.drop(['documentid'],axis=1))\n",
    "\n",
    "X_train, X_test, y_train, y_test = train_test_split(X, y, test_size=0.20)\n",
    "x_column = list(df.columns)\n",
    "x_column.remove('documentid')\n",
    "\n",
    "X_train_df = pd.DataFrame(data = X_train, columns = x_column)\n",
    "X_test_df = pd.DataFrame(data = X_test, columns = x_column)\n",
    "y_train_df = pd.DataFrame(data = y_train, columns = ['list_price'])\n",
    "y_test_df = pd.DataFrame(data = y_test, columns = ['list_price'])"
   ]
  },
  {
   "cell_type": "code",
   "execution_count": 30,
   "metadata": {},
   "outputs": [
    {
     "name": "stdout",
     "output_type": "stream",
     "text": [
      "    result\n",
      "0     True\n",
      "1    False\n",
      "2     True\n",
      "3     True\n",
      "4     True\n",
      "5     True\n",
      "6     True\n",
      "7     True\n",
      "8     True\n",
      "9     True\n",
      "10    True\n",
      "11    True\n",
      "12    True\n",
      "13    True\n",
      "14    True\n",
      "15    True\n",
      "16    True\n",
      "17    True\n",
      "18    True\n",
      "19    True\n",
      "20    True\n",
      "21    True\n",
      "22    True\n",
      "23    True\n",
      "24    True\n",
      "25    True\n",
      "26    True\n",
      "27    True\n",
      "28    True\n",
      "29    True\n",
      "30   False\n",
      "31    True\n",
      "32    True\n",
      "33    True\n",
      "34    True\n",
      "35    True\n",
      "36   False\n",
      "37    True\n",
      "38    True\n",
      "39    True\n",
      "40    True\n",
      "41    True\n",
      "42    True\n",
      "43    True\n",
      "44    True\n",
      "45    True\n",
      "46    True\n",
      "47    True\n",
      "48    True\n",
      "49    True\n",
      "47\n"
     ]
    }
   ],
   "source": [
    "\n",
    "dfs = pd.DataFrame()\n",
    "ss = pd.DataFrame()\n",
    "ss = df.query(\"pot_doc != []\")\n",
    "dfs['result'] = ss.apply(lambda row: (row['documentid'] in row['pot_doc']), axis=1)\n",
    "print(dfs)\n",
    "num_trues = dfs['result'].value_counts()[True]\n",
    "print(num_trues)"
   ]
  }
 ],
 "metadata": {
  "kernelspec": {
   "display_name": "base",
   "language": "python",
   "name": "python3"
  },
  "language_info": {
   "codemirror_mode": {
    "name": "ipython",
    "version": 3
   },
   "file_extension": ".py",
   "mimetype": "text/x-python",
   "name": "python",
   "nbconvert_exporter": "python",
   "pygments_lexer": "ipython3",
   "version": "3.9.7"
  },
  "orig_nbformat": 4,
  "vscode": {
   "interpreter": {
    "hash": "2c1b9b709c96f0a0c4f0ad5aa64018864a577eca0df3681d86d386a5d9092f0a"
   }
  }
 },
 "nbformat": 4,
 "nbformat_minor": 2
}
