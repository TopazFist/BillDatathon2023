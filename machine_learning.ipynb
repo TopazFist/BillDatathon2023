{
 "cells": [
  {
   "cell_type": "code",
   "execution_count": 2,
   "metadata": {},
   "outputs": [],
   "source": [
    "import os\n",
    "import numpy as np\n",
    "import pandas as pd\n",
    "from sklearn.model_selection import train_test_split\n",
    "import optuna"
   ]
  },
  {
   "cell_type": "code",
   "execution_count": 4,
   "metadata": {},
   "outputs": [],
   "source": [
    "#creates the training dataset\n",
    "df_train = pd.read_csv(\"data/final/final_training.csv\")\n",
    "df_train = df_train[df_train['pot_doc'] != '[]']\n",
    "X_train_df=pd.DataFrame(data = np.array(df_train), columns = df_train.columns).drop(columns=\"documentid\").drop(columns=\"Unnamed: 0\")\n",
    "y_train_df = pd.DataFrame(data = np.array(df_train['documentid']), columns = ['documentid'])\n",
    "\n",
    "#creates the testing dataset\n",
    "df_test = pd.read_csv(\"data/final/final_test.csv\")\n",
    "X_test_df=pd.DataFrame(data = np.array(df_test), columns = df_test.columns).drop(columns=\"documentid\").drop(columns=\"Unnamed: 0\")\n",
    "y_test_df = pd.DataFrame(data = np.array(df_test['documentid']), columns = ['documentid'])\n"
   ]
  },
  {
   "cell_type": "code",
   "execution_count": 5,
   "metadata": {},
   "outputs": [],
   "source": [
    "def compute_accuracy(x, y, z,a):\n",
    "    results = []\n",
    "    for row in X_train_df.iterrows():\n",
    "        if (len(eval(row[1]['pot_doc']))==0):\n",
    "            continue\n",
    "        dists = []\n",
    "        \n",
    "        for idx in range(len(eval(row[1]['pot_doc']))):\n",
    "            dists.append((x*(100-eval(row[1]['pot_price'])[idx])/100)**2 \n",
    "            + (y*(1-eval(row[1]['pot_date'])[idx]))**2)\n",
    "            + (z*(100-eval(row[1]['pot_address'])[idx])/100)**2\n",
    "            #+ (a*eval(row[1]['pot_name'])[idx])**2\n",
    "            \n",
    "        dists = np.array(dists)\n",
    "        results.append(eval(row[1]['pot_doc'])[dists.argmin()])\n",
    "    results = np.array(results)\n",
    "    return np.sum(results == np.array(y_train_df['documentid']))/len(X_train_df)\n",
    "    \n",
    "def compute_accuracy2(x, y, z, a):\n",
    "    results = []\n",
    "    for row in X_test_df.iterrows():\n",
    "        if (len(eval(row[1]['pot_doc']))==0):\n",
    "            continue\n",
    "        dists = []\n",
    "        \n",
    "        for idx in range(len(eval(row[1]['pot_doc']))):\n",
    "            dists.append((x*(100-eval(row[1]['pot_price'])[idx])/100)**2 \n",
    "            + (y*(1-eval(row[1]['pot_date'])[idx]))**2\n",
    "            + (z*(100-eval(row[1]['pot_address'])[idx])/100)**2\n",
    "            #+ (a*eval(row[1]['pot_name'])[idx])**2\n",
    "            )\n",
    "        dists = np.array(dists)\n",
    "        results.append(eval(row[1]['pot_doc'])[dists.argmin()])\n",
    "    results = np.array(results)\n",
    "    return results"
   ]
  },
  {
   "cell_type": "code",
   "execution_count": 6,
   "metadata": {},
   "outputs": [
    {
     "name": "stderr",
     "output_type": "stream",
     "text": [
      "\u001b[32m[I 2023-01-29 09:40:39,411]\u001b[0m A new study created in memory with name: no-name-fa620f59-297e-4703-87ad-d6675bf568c7\u001b[0m\n",
      "\u001b[32m[I 2023-01-29 09:40:39,790]\u001b[0m Trial 0 finished with value: 0.1618122977346278 and parameters: {'x': 0.422449253134044, 'y': 2.7032373852476663, 'z': 3.7033117905206527}. Best is trial 0 with value: 0.1618122977346278.\u001b[0m\n",
      "\u001b[32m[I 2023-01-29 09:40:40,166]\u001b[0m Trial 1 finished with value: 0.1618122977346278 and parameters: {'x': 6.823255934474085, 'y': 8.608406109492662, 'z': 6.823901041259494}. Best is trial 0 with value: 0.1618122977346278.\u001b[0m\n",
      "\u001b[32m[I 2023-01-29 09:40:40,540]\u001b[0m Trial 2 finished with value: 0.1618122977346278 and parameters: {'x': 1.3643443004189049, 'y': 0.1049793659032161, 'z': 8.086628560654672}. Best is trial 0 with value: 0.1618122977346278.\u001b[0m\n",
      "\u001b[32m[I 2023-01-29 09:40:40,917]\u001b[0m Trial 3 finished with value: 0.1618122977346278 and parameters: {'x': 4.922514669593223, 'y': 2.1890139632510754, 'z': 7.721879274046026}. Best is trial 0 with value: 0.1618122977346278.\u001b[0m\n",
      "\u001b[32m[I 2023-01-29 09:40:41,290]\u001b[0m Trial 4 finished with value: 0.1618122977346278 and parameters: {'x': 3.5508319321789763, 'y': 0.07746469089017882, 'z': 1.4452215092529874}. Best is trial 0 with value: 0.1618122977346278.\u001b[0m\n",
      "\u001b[32m[I 2023-01-29 09:40:41,659]\u001b[0m Trial 5 finished with value: 0.1618122977346278 and parameters: {'x': 2.9634476103439713, 'y': 4.80766530421422, 'z': 5.34060266607179}. Best is trial 0 with value: 0.1618122977346278.\u001b[0m\n",
      "\u001b[32m[I 2023-01-29 09:40:42,024]\u001b[0m Trial 6 finished with value: 0.1618122977346278 and parameters: {'x': 4.51542928257505, 'y': 4.33268215573465, 'z': 5.4984383981990135}. Best is trial 0 with value: 0.1618122977346278.\u001b[0m\n",
      "\u001b[32m[I 2023-01-29 09:40:42,436]\u001b[0m Trial 7 finished with value: 0.1618122977346278 and parameters: {'x': 8.25352215963845, 'y': 8.90799124572362, 'z': 8.667189568349215}. Best is trial 0 with value: 0.1618122977346278.\u001b[0m\n",
      "\u001b[32m[I 2023-01-29 09:40:42,810]\u001b[0m Trial 8 finished with value: 0.1618122977346278 and parameters: {'x': 6.909143119207478, 'y': 5.8157658729978765, 'z': 5.637052391073178}. Best is trial 0 with value: 0.1618122977346278.\u001b[0m\n",
      "\u001b[32m[I 2023-01-29 09:40:43,183]\u001b[0m Trial 9 finished with value: 0.1618122977346278 and parameters: {'x': 4.891807825976358, 'y': 4.455092914739857, 'z': 4.516199247159566}. Best is trial 0 with value: 0.1618122977346278.\u001b[0m\n",
      "\u001b[32m[I 2023-01-29 09:40:43,563]\u001b[0m Trial 10 finished with value: 0.1618122977346278 and parameters: {'x': 0.18886377622842998, 'y': 2.473115434779468, 'z': 2.5469005702029284}. Best is trial 0 with value: 0.1618122977346278.\u001b[0m\n",
      "\u001b[32m[I 2023-01-29 09:40:43,945]\u001b[0m Trial 11 finished with value: 0.1618122977346278 and parameters: {'x': 9.974844649853226, 'y': 9.459295131491121, 'z': 9.996014056494122}. Best is trial 0 with value: 0.1618122977346278.\u001b[0m\n",
      "\u001b[32m[I 2023-01-29 09:40:44,320]\u001b[0m Trial 12 finished with value: 0.1618122977346278 and parameters: {'x': 6.621521352809134, 'y': 7.677276961477327, 'z': 3.312599609944659}. Best is trial 0 with value: 0.1618122977346278.\u001b[0m\n",
      "\u001b[32m[I 2023-01-29 09:40:44,699]\u001b[0m Trial 13 finished with value: 0.1618122977346278 and parameters: {'x': 2.152405888878389, 'y': 7.248026194837728, 'z': 0.42379213551678196}. Best is trial 0 with value: 0.1618122977346278.\u001b[0m\n",
      "\u001b[32m[I 2023-01-29 09:40:45,075]\u001b[0m Trial 14 finished with value: 0.1618122977346278 and parameters: {'x': 1.0606821351455378, 'y': 9.721814024908568, 'z': 6.654869640629787}. Best is trial 0 with value: 0.1618122977346278.\u001b[0m\n",
      "\u001b[32m[I 2023-01-29 09:40:45,452]\u001b[0m Trial 15 finished with value: 0.1618122977346278 and parameters: {'x': 0.3072868149185126, 'y': 6.485953867006911, 'z': 3.8379113044729793}. Best is trial 0 with value: 0.1618122977346278.\u001b[0m\n",
      "\u001b[32m[I 2023-01-29 09:40:45,827]\u001b[0m Trial 16 finished with value: 0.1618122977346278 and parameters: {'x': 3.300443136729389, 'y': 8.160513553613892, 'z': 6.770930992618227}. Best is trial 0 with value: 0.1618122977346278.\u001b[0m\n",
      "\u001b[32m[I 2023-01-29 09:40:46,208]\u001b[0m Trial 17 finished with value: 0.1618122977346278 and parameters: {'x': 6.0290627015792815, 'y': 8.564620400734057, 'z': 2.635029972021313}. Best is trial 0 with value: 0.1618122977346278.\u001b[0m\n",
      "\u001b[32m[I 2023-01-29 09:40:46,584]\u001b[0m Trial 18 finished with value: 0.1618122977346278 and parameters: {'x': 2.097226374250032, 'y': 9.957988867532897, 'z': 3.9522079713084173}. Best is trial 0 with value: 0.1618122977346278.\u001b[0m\n",
      "\u001b[32m[I 2023-01-29 09:40:46,966]\u001b[0m Trial 19 finished with value: 0.1618122977346278 and parameters: {'x': 5.897642138340207, 'y': 6.992087641929613, 'z': 4.403095658087196}. Best is trial 0 with value: 0.1618122977346278.\u001b[0m\n",
      "\u001b[32m[I 2023-01-29 09:40:47,347]\u001b[0m Trial 20 finished with value: 0.1618122977346278 and parameters: {'x': 4.33656066665521, 'y': 6.019921543037936, 'z': 6.245531666350102}. Best is trial 0 with value: 0.1618122977346278.\u001b[0m\n",
      "\u001b[32m[I 2023-01-29 09:40:47,722]\u001b[0m Trial 21 finished with value: 0.1618122977346278 and parameters: {'x': 1.4868713284704302, 'y': 0.1227317831198147, 'z': 7.660251977233399}. Best is trial 0 with value: 0.1618122977346278.\u001b[0m\n",
      "\u001b[32m[I 2023-01-29 09:40:48,100]\u001b[0m Trial 22 finished with value: 0.1618122977346278 and parameters: {'x': 0.8921802739489635, 'y': 1.4021991338842277, 'z': 4.9765251119652705}. Best is trial 0 with value: 0.1618122977346278.\u001b[0m\n",
      "\u001b[32m[I 2023-01-29 09:40:48,476]\u001b[0m Trial 23 finished with value: 0.1618122977346278 and parameters: {'x': 2.076664098788756, 'y': 3.6615081189475553, 'z': 7.646455822190205}. Best is trial 0 with value: 0.1618122977346278.\u001b[0m\n",
      "\u001b[32m[I 2023-01-29 09:40:48,853]\u001b[0m Trial 24 finished with value: 0.1618122977346278 and parameters: {'x': 0.3072792343037178, 'y': 3.4382836465231876, 'z': 8.808919153309358}. Best is trial 0 with value: 0.1618122977346278.\u001b[0m\n",
      "\u001b[32m[I 2023-01-29 09:40:49,233]\u001b[0m Trial 25 finished with value: 0.1618122977346278 and parameters: {'x': 0.09671658200537969, 'y': 1.0962198700618777, 'z': 6.162321678616234}. Best is trial 0 with value: 0.1618122977346278.\u001b[0m\n",
      "\u001b[32m[I 2023-01-29 09:40:49,617]\u001b[0m Trial 26 finished with value: 0.1618122977346278 and parameters: {'x': 1.2063212130701904, 'y': 5.466587855238071, 'z': 7.050130257302524}. Best is trial 0 with value: 0.1618122977346278.\u001b[0m\n",
      "\u001b[32m[I 2023-01-29 09:40:49,997]\u001b[0m Trial 27 finished with value: 0.1618122977346278 and parameters: {'x': 2.7368012293021593, 'y': 2.700969193054985, 'z': 5.876731424895359}. Best is trial 0 with value: 0.1618122977346278.\u001b[0m\n",
      "\u001b[32m[I 2023-01-29 09:40:50,376]\u001b[0m Trial 28 finished with value: 0.1618122977346278 and parameters: {'x': 3.945113038683213, 'y': 1.0787139455252168, 'z': 4.983495042820822}. Best is trial 0 with value: 0.1618122977346278.\u001b[0m\n",
      "\u001b[32m[I 2023-01-29 09:40:50,751]\u001b[0m Trial 29 finished with value: 0.1618122977346278 and parameters: {'x': 2.541120181074949, 'y': 2.1900265664626204, 'z': 8.292359619438516}. Best is trial 0 with value: 0.1618122977346278.\u001b[0m\n",
      "\u001b[32m[I 2023-01-29 09:40:51,133]\u001b[0m Trial 30 finished with value: 0.1618122977346278 and parameters: {'x': 3.754582161635062, 'y': 5.336510728855801, 'z': 7.176067395803427}. Best is trial 0 with value: 0.1618122977346278.\u001b[0m\n",
      "\u001b[32m[I 2023-01-29 09:40:51,521]\u001b[0m Trial 31 finished with value: 0.1618122977346278 and parameters: {'x': 1.6493167203666723, 'y': 0.07174741692762154, 'z': 8.096601887186482}. Best is trial 0 with value: 0.1618122977346278.\u001b[0m\n",
      "\u001b[32m[I 2023-01-29 09:40:51,901]\u001b[0m Trial 32 finished with value: 0.1618122977346278 and parameters: {'x': 3.4201278156932737, 'y': 1.827749555138528, 'z': 9.1940148284731}. Best is trial 0 with value: 0.1618122977346278.\u001b[0m\n",
      "\u001b[32m[I 2023-01-29 09:40:52,281]\u001b[0m Trial 33 finished with value: 0.1618122977346278 and parameters: {'x': 2.958616654999984, 'y': 3.2597803396041143, 'z': 7.429879479429612}. Best is trial 0 with value: 0.1618122977346278.\u001b[0m\n",
      "\u001b[32m[I 2023-01-29 09:40:52,659]\u001b[0m Trial 34 finished with value: 0.1618122977346278 and parameters: {'x': 4.94237358721603, 'y': 3.9903006285292824, 'z': 6.54419904323259}. Best is trial 0 with value: 0.1618122977346278.\u001b[0m\n",
      "\u001b[32m[I 2023-01-29 09:40:53,039]\u001b[0m Trial 35 finished with value: 0.1618122977346278 and parameters: {'x': 0.7946673748726596, 'y': 3.072548242429559, 'z': 8.078698465388182}. Best is trial 0 with value: 0.1618122977346278.\u001b[0m\n",
      "\u001b[32m[I 2023-01-29 09:40:53,419]\u001b[0m Trial 36 finished with value: 0.1618122977346278 and parameters: {'x': 4.449665440329944, 'y': 5.010684679036, 'z': 5.550809394476607}. Best is trial 0 with value: 0.1618122977346278.\u001b[0m\n",
      "\u001b[32m[I 2023-01-29 09:40:53,796]\u001b[0m Trial 37 finished with value: 0.1618122977346278 and parameters: {'x': 5.283604344503783, 'y': 4.045617749730363, 'z': 7.2312489697908156}. Best is trial 0 with value: 0.1618122977346278.\u001b[0m\n",
      "\u001b[32m[I 2023-01-29 09:40:54,174]\u001b[0m Trial 38 finished with value: 0.1618122977346278 and parameters: {'x': 7.1205424477853905, 'y': 4.73993272015838, 'z': 6.405253396918072}. Best is trial 0 with value: 0.1618122977346278.\u001b[0m\n",
      "\u001b[32m[I 2023-01-29 09:40:54,552]\u001b[0m Trial 39 finished with value: 0.1618122977346278 and parameters: {'x': 7.726861551157557, 'y': 2.702195541626307, 'z': 9.218279566266098}. Best is trial 0 with value: 0.1618122977346278.\u001b[0m\n",
      "\u001b[32m[I 2023-01-29 09:40:54,938]\u001b[0m Trial 40 finished with value: 0.1618122977346278 and parameters: {'x': 4.025656172923063, 'y': 0.6804192698601983, 'z': 5.9040188203638415}. Best is trial 0 with value: 0.1618122977346278.\u001b[0m\n",
      "\u001b[32m[I 2023-01-29 09:40:55,321]\u001b[0m Trial 41 finished with value: 0.1618122977346278 and parameters: {'x': 5.330727953696293, 'y': 1.8770765839562145, 'z': 1.1168158501439507}. Best is trial 0 with value: 0.1618122977346278.\u001b[0m\n",
      "\u001b[32m[I 2023-01-29 09:40:55,700]\u001b[0m Trial 42 finished with value: 0.1618122977346278 and parameters: {'x': 4.7497351701869155, 'y': 0.5978103595237563, 'z': 2.1880425703742956}. Best is trial 0 with value: 0.1618122977346278.\u001b[0m\n",
      "\u001b[32m[I 2023-01-29 09:40:56,078]\u001b[0m Trial 43 finished with value: 0.1618122977346278 and parameters: {'x': 3.1948753084274397, 'y': 1.594878264286772, 'z': 0.2713508770653148}. Best is trial 0 with value: 0.1618122977346278.\u001b[0m\n",
      "\u001b[32m[I 2023-01-29 09:40:56,452]\u001b[0m Trial 44 finished with value: 0.1618122977346278 and parameters: {'x': 2.641005784801451, 'y': 2.1900283838076473, 'z': 1.3459291250038297}. Best is trial 0 with value: 0.1618122977346278.\u001b[0m\n",
      "\u001b[32m[I 2023-01-29 09:40:56,829]\u001b[0m Trial 45 finished with value: 0.1618122977346278 and parameters: {'x': 1.7007560437394451, 'y': 0.7983153279267238, 'z': 3.402499841050963}. Best is trial 0 with value: 0.1618122977346278.\u001b[0m\n",
      "\u001b[32m[I 2023-01-29 09:40:57,203]\u001b[0m Trial 46 finished with value: 0.1618122977346278 and parameters: {'x': 0.6241319035448858, 'y': 0.05012089057377356, 'z': 6.783003790676327}. Best is trial 0 with value: 0.1618122977346278.\u001b[0m\n",
      "\u001b[32m[I 2023-01-29 09:40:57,578]\u001b[0m Trial 47 finished with value: 0.1618122977346278 and parameters: {'x': 1.2176795244262129, 'y': 1.2613619838669818, 'z': 4.548868064306367}. Best is trial 0 with value: 0.1618122977346278.\u001b[0m\n",
      "\u001b[32m[I 2023-01-29 09:40:57,953]\u001b[0m Trial 48 finished with value: 0.1618122977346278 and parameters: {'x': 0.5315521563466522, 'y': 9.041447453593753, 'z': 5.521606870091075}. Best is trial 0 with value: 0.1618122977346278.\u001b[0m\n",
      "\u001b[32m[I 2023-01-29 09:40:58,332]\u001b[0m Trial 49 finished with value: 0.1618122977346278 and parameters: {'x': 0.046479331090307996, 'y': 0.5249427443893158, 'z': 7.840021735087722}. Best is trial 0 with value: 0.1618122977346278.\u001b[0m\n",
      "\u001b[32m[I 2023-01-29 09:40:58,712]\u001b[0m Trial 50 finished with value: 0.1618122977346278 and parameters: {'x': 6.0338821035218855, 'y': 1.63558135579167, 'z': 6.98176240761758}. Best is trial 0 with value: 0.1618122977346278.\u001b[0m\n",
      "\u001b[32m[I 2023-01-29 09:40:59,096]\u001b[0m Trial 51 finished with value: 0.1618122977346278 and parameters: {'x': 4.295509541237492, 'y': 6.051314843247767, 'z': 5.149842556409648}. Best is trial 0 with value: 0.1618122977346278.\u001b[0m\n",
      "\u001b[32m[I 2023-01-29 09:40:59,481]\u001b[0m Trial 52 finished with value: 0.1618122977346278 and parameters: {'x': 3.615373113200959, 'y': 4.33077358865357, 'z': 3.027415423766569}. Best is trial 0 with value: 0.1618122977346278.\u001b[0m\n",
      "\u001b[32m[I 2023-01-29 09:40:59,859]\u001b[0m Trial 53 finished with value: 0.1618122977346278 and parameters: {'x': 2.18589031982468, 'y': 2.8844097620173637, 'z': 3.9529013102541297}. Best is trial 0 with value: 0.1618122977346278.\u001b[0m\n",
      "\u001b[32m[I 2023-01-29 09:41:00,236]\u001b[0m Trial 54 finished with value: 0.1618122977346278 and parameters: {'x': 3.162077396786351, 'y': 2.2670827008216357, 'z': 6.036605494457003}. Best is trial 0 with value: 0.1618122977346278.\u001b[0m\n",
      "\u001b[33m[W 2023-01-29 09:41:00,611]\u001b[0m Trial 55 failed with parameters: {'x': 1.1485670263456838, 'y': 6.7564792090647945, 'z': 5.2386534444774195} because of the following error: KeyboardInterrupt().\u001b[0m\n",
      "Traceback (most recent call last):\n",
      "  File \"/Users/jonathanmak/opt/anaconda3/lib/python3.9/site-packages/optuna/study/_optimize.py\", line 200, in _run_trial\n",
      "    value_or_values = func(trial)\n",
      "  File \"/var/folders/gh/81jb5jm510s1j8bqbbdb5htc0000gn/T/ipykernel_46277/1922949083.py\", line 6, in objective\n",
      "    return 1-compute_accuracy(x,y,z,0)\n",
      "  File \"/var/folders/gh/81jb5jm510s1j8bqbbdb5htc0000gn/T/ipykernel_46277/90591482.py\", line 9, in compute_accuracy\n",
      "    dists.append((x*(100-eval(row[1]['pot_price'])[idx])/100)**2\n",
      "  File \"<string>\", line 1, in <module>\n",
      "KeyboardInterrupt\n",
      "\u001b[33m[W 2023-01-29 09:41:00,612]\u001b[0m Trial 55 failed with value None.\u001b[0m\n"
     ]
    },
    {
     "ename": "KeyboardInterrupt",
     "evalue": "",
     "output_type": "error",
     "traceback": [
      "\u001b[0;31m---------------------------------------------------------------------------\u001b[0m",
      "\u001b[0;31mKeyboardInterrupt\u001b[0m                         Traceback (most recent call last)",
      "\u001b[0;32m/var/folders/gh/81jb5jm510s1j8bqbbdb5htc0000gn/T/ipykernel_46277/1922949083.py\u001b[0m in \u001b[0;36m<module>\u001b[0;34m\u001b[0m\n\u001b[1;32m      7\u001b[0m \u001b[0;34m\u001b[0m\u001b[0m\n\u001b[1;32m      8\u001b[0m \u001b[0mstudy\u001b[0m \u001b[0;34m=\u001b[0m \u001b[0moptuna\u001b[0m\u001b[0;34m.\u001b[0m\u001b[0mcreate_study\u001b[0m\u001b[0;34m(\u001b[0m\u001b[0;34m)\u001b[0m\u001b[0;34m\u001b[0m\u001b[0;34m\u001b[0m\u001b[0m\n\u001b[0;32m----> 9\u001b[0;31m \u001b[0mstudy\u001b[0m\u001b[0;34m.\u001b[0m\u001b[0moptimize\u001b[0m\u001b[0;34m(\u001b[0m\u001b[0mobjective\u001b[0m\u001b[0;34m,\u001b[0m \u001b[0mn_trials\u001b[0m\u001b[0;34m=\u001b[0m\u001b[0;36m100\u001b[0m\u001b[0;34m)\u001b[0m\u001b[0;34m\u001b[0m\u001b[0;34m\u001b[0m\u001b[0m\n\u001b[0m\u001b[1;32m     10\u001b[0m \u001b[0;34m\u001b[0m\u001b[0m\n\u001b[1;32m     11\u001b[0m \u001b[0mstudy\u001b[0m\u001b[0;34m.\u001b[0m\u001b[0mbest_params\u001b[0m  \u001b[0;31m# E.g. {'x': 2.002108042}\u001b[0m\u001b[0;34m\u001b[0m\u001b[0;34m\u001b[0m\u001b[0m\n",
      "\u001b[0;32m~/opt/anaconda3/lib/python3.9/site-packages/optuna/study/study.py\u001b[0m in \u001b[0;36moptimize\u001b[0;34m(self, func, n_trials, timeout, n_jobs, catch, callbacks, gc_after_trial, show_progress_bar)\u001b[0m\n\u001b[1;32m    423\u001b[0m         \"\"\"\n\u001b[1;32m    424\u001b[0m \u001b[0;34m\u001b[0m\u001b[0m\n\u001b[0;32m--> 425\u001b[0;31m         _optimize(\n\u001b[0m\u001b[1;32m    426\u001b[0m             \u001b[0mstudy\u001b[0m\u001b[0;34m=\u001b[0m\u001b[0mself\u001b[0m\u001b[0;34m,\u001b[0m\u001b[0;34m\u001b[0m\u001b[0;34m\u001b[0m\u001b[0m\n\u001b[1;32m    427\u001b[0m             \u001b[0mfunc\u001b[0m\u001b[0;34m=\u001b[0m\u001b[0mfunc\u001b[0m\u001b[0;34m,\u001b[0m\u001b[0;34m\u001b[0m\u001b[0;34m\u001b[0m\u001b[0m\n",
      "\u001b[0;32m~/opt/anaconda3/lib/python3.9/site-packages/optuna/study/_optimize.py\u001b[0m in \u001b[0;36m_optimize\u001b[0;34m(study, func, n_trials, timeout, n_jobs, catch, callbacks, gc_after_trial, show_progress_bar)\u001b[0m\n\u001b[1;32m     64\u001b[0m     \u001b[0;32mtry\u001b[0m\u001b[0;34m:\u001b[0m\u001b[0;34m\u001b[0m\u001b[0;34m\u001b[0m\u001b[0m\n\u001b[1;32m     65\u001b[0m         \u001b[0;32mif\u001b[0m \u001b[0mn_jobs\u001b[0m \u001b[0;34m==\u001b[0m \u001b[0;36m1\u001b[0m\u001b[0;34m:\u001b[0m\u001b[0;34m\u001b[0m\u001b[0;34m\u001b[0m\u001b[0m\n\u001b[0;32m---> 66\u001b[0;31m             _optimize_sequential(\n\u001b[0m\u001b[1;32m     67\u001b[0m                 \u001b[0mstudy\u001b[0m\u001b[0;34m,\u001b[0m\u001b[0;34m\u001b[0m\u001b[0;34m\u001b[0m\u001b[0m\n\u001b[1;32m     68\u001b[0m                 \u001b[0mfunc\u001b[0m\u001b[0;34m,\u001b[0m\u001b[0;34m\u001b[0m\u001b[0;34m\u001b[0m\u001b[0m\n",
      "\u001b[0;32m~/opt/anaconda3/lib/python3.9/site-packages/optuna/study/_optimize.py\u001b[0m in \u001b[0;36m_optimize_sequential\u001b[0;34m(study, func, n_trials, timeout, catch, callbacks, gc_after_trial, reseed_sampler_rng, time_start, progress_bar)\u001b[0m\n\u001b[1;32m    161\u001b[0m \u001b[0;34m\u001b[0m\u001b[0m\n\u001b[1;32m    162\u001b[0m         \u001b[0;32mtry\u001b[0m\u001b[0;34m:\u001b[0m\u001b[0;34m\u001b[0m\u001b[0;34m\u001b[0m\u001b[0m\n\u001b[0;32m--> 163\u001b[0;31m             \u001b[0mfrozen_trial\u001b[0m \u001b[0;34m=\u001b[0m \u001b[0m_run_trial\u001b[0m\u001b[0;34m(\u001b[0m\u001b[0mstudy\u001b[0m\u001b[0;34m,\u001b[0m \u001b[0mfunc\u001b[0m\u001b[0;34m,\u001b[0m \u001b[0mcatch\u001b[0m\u001b[0;34m)\u001b[0m\u001b[0;34m\u001b[0m\u001b[0;34m\u001b[0m\u001b[0m\n\u001b[0m\u001b[1;32m    164\u001b[0m         \u001b[0;32mfinally\u001b[0m\u001b[0;34m:\u001b[0m\u001b[0;34m\u001b[0m\u001b[0;34m\u001b[0m\u001b[0m\n\u001b[1;32m    165\u001b[0m             \u001b[0;31m# The following line mitigates memory problems that can be occurred in some\u001b[0m\u001b[0;34m\u001b[0m\u001b[0;34m\u001b[0m\u001b[0m\n",
      "\u001b[0;32m~/opt/anaconda3/lib/python3.9/site-packages/optuna/study/_optimize.py\u001b[0m in \u001b[0;36m_run_trial\u001b[0;34m(study, func, catch)\u001b[0m\n\u001b[1;32m    249\u001b[0m         \u001b[0;32mand\u001b[0m \u001b[0;32mnot\u001b[0m \u001b[0misinstance\u001b[0m\u001b[0;34m(\u001b[0m\u001b[0mfunc_err\u001b[0m\u001b[0;34m,\u001b[0m \u001b[0mcatch\u001b[0m\u001b[0;34m)\u001b[0m\u001b[0;34m\u001b[0m\u001b[0;34m\u001b[0m\u001b[0m\n\u001b[1;32m    250\u001b[0m     ):\n\u001b[0;32m--> 251\u001b[0;31m         \u001b[0;32mraise\u001b[0m \u001b[0mfunc_err\u001b[0m\u001b[0;34m\u001b[0m\u001b[0;34m\u001b[0m\u001b[0m\n\u001b[0m\u001b[1;32m    252\u001b[0m     \u001b[0;32mreturn\u001b[0m \u001b[0mfrozen_trial\u001b[0m\u001b[0;34m\u001b[0m\u001b[0;34m\u001b[0m\u001b[0m\n\u001b[1;32m    253\u001b[0m \u001b[0;34m\u001b[0m\u001b[0m\n",
      "\u001b[0;32m~/opt/anaconda3/lib/python3.9/site-packages/optuna/study/_optimize.py\u001b[0m in \u001b[0;36m_run_trial\u001b[0;34m(study, func, catch)\u001b[0m\n\u001b[1;32m    198\u001b[0m     \u001b[0;32mwith\u001b[0m \u001b[0mget_heartbeat_thread\u001b[0m\u001b[0;34m(\u001b[0m\u001b[0mtrial\u001b[0m\u001b[0;34m.\u001b[0m\u001b[0m_trial_id\u001b[0m\u001b[0;34m,\u001b[0m \u001b[0mstudy\u001b[0m\u001b[0;34m.\u001b[0m\u001b[0m_storage\u001b[0m\u001b[0;34m)\u001b[0m\u001b[0;34m:\u001b[0m\u001b[0;34m\u001b[0m\u001b[0;34m\u001b[0m\u001b[0m\n\u001b[1;32m    199\u001b[0m         \u001b[0;32mtry\u001b[0m\u001b[0;34m:\u001b[0m\u001b[0;34m\u001b[0m\u001b[0;34m\u001b[0m\u001b[0m\n\u001b[0;32m--> 200\u001b[0;31m             \u001b[0mvalue_or_values\u001b[0m \u001b[0;34m=\u001b[0m \u001b[0mfunc\u001b[0m\u001b[0;34m(\u001b[0m\u001b[0mtrial\u001b[0m\u001b[0;34m)\u001b[0m\u001b[0;34m\u001b[0m\u001b[0;34m\u001b[0m\u001b[0m\n\u001b[0m\u001b[1;32m    201\u001b[0m         \u001b[0;32mexcept\u001b[0m \u001b[0mexceptions\u001b[0m\u001b[0;34m.\u001b[0m\u001b[0mTrialPruned\u001b[0m \u001b[0;32mas\u001b[0m \u001b[0me\u001b[0m\u001b[0;34m:\u001b[0m\u001b[0;34m\u001b[0m\u001b[0;34m\u001b[0m\u001b[0m\n\u001b[1;32m    202\u001b[0m             \u001b[0;31m# TODO(mamu): Handle multi-objective cases.\u001b[0m\u001b[0;34m\u001b[0m\u001b[0;34m\u001b[0m\u001b[0m\n",
      "\u001b[0;32m/var/folders/gh/81jb5jm510s1j8bqbbdb5htc0000gn/T/ipykernel_46277/1922949083.py\u001b[0m in \u001b[0;36mobjective\u001b[0;34m(trial)\u001b[0m\n\u001b[1;32m      4\u001b[0m     \u001b[0mz\u001b[0m \u001b[0;34m=\u001b[0m \u001b[0mtrial\u001b[0m\u001b[0;34m.\u001b[0m\u001b[0msuggest_float\u001b[0m\u001b[0;34m(\u001b[0m\u001b[0;34m'z'\u001b[0m\u001b[0;34m,\u001b[0m \u001b[0;36m0\u001b[0m\u001b[0;34m,\u001b[0m \u001b[0;36m10\u001b[0m\u001b[0;34m)\u001b[0m\u001b[0;34m\u001b[0m\u001b[0;34m\u001b[0m\u001b[0m\n\u001b[1;32m      5\u001b[0m     \u001b[0;31m#a = trial.suggest_float('a', 0, 10)\u001b[0m\u001b[0;34m\u001b[0m\u001b[0;34m\u001b[0m\u001b[0m\n\u001b[0;32m----> 6\u001b[0;31m     \u001b[0;32mreturn\u001b[0m \u001b[0;36m1\u001b[0m\u001b[0;34m-\u001b[0m\u001b[0mcompute_accuracy\u001b[0m\u001b[0;34m(\u001b[0m\u001b[0mx\u001b[0m\u001b[0;34m,\u001b[0m\u001b[0my\u001b[0m\u001b[0;34m,\u001b[0m\u001b[0mz\u001b[0m\u001b[0;34m,\u001b[0m\u001b[0;36m0\u001b[0m\u001b[0;34m)\u001b[0m\u001b[0;34m\u001b[0m\u001b[0;34m\u001b[0m\u001b[0m\n\u001b[0m\u001b[1;32m      7\u001b[0m \u001b[0;34m\u001b[0m\u001b[0m\n\u001b[1;32m      8\u001b[0m \u001b[0mstudy\u001b[0m \u001b[0;34m=\u001b[0m \u001b[0moptuna\u001b[0m\u001b[0;34m.\u001b[0m\u001b[0mcreate_study\u001b[0m\u001b[0;34m(\u001b[0m\u001b[0;34m)\u001b[0m\u001b[0;34m\u001b[0m\u001b[0;34m\u001b[0m\u001b[0m\n",
      "\u001b[0;32m/var/folders/gh/81jb5jm510s1j8bqbbdb5htc0000gn/T/ipykernel_46277/90591482.py\u001b[0m in \u001b[0;36mcompute_accuracy\u001b[0;34m(x, y, z, a)\u001b[0m\n\u001b[1;32m      7\u001b[0m \u001b[0;34m\u001b[0m\u001b[0m\n\u001b[1;32m      8\u001b[0m         \u001b[0;32mfor\u001b[0m \u001b[0midx\u001b[0m \u001b[0;32min\u001b[0m \u001b[0mrange\u001b[0m\u001b[0;34m(\u001b[0m\u001b[0mlen\u001b[0m\u001b[0;34m(\u001b[0m\u001b[0meval\u001b[0m\u001b[0;34m(\u001b[0m\u001b[0mrow\u001b[0m\u001b[0;34m[\u001b[0m\u001b[0;36m1\u001b[0m\u001b[0;34m]\u001b[0m\u001b[0;34m[\u001b[0m\u001b[0;34m'pot_doc'\u001b[0m\u001b[0;34m]\u001b[0m\u001b[0;34m)\u001b[0m\u001b[0;34m)\u001b[0m\u001b[0;34m)\u001b[0m\u001b[0;34m:\u001b[0m\u001b[0;34m\u001b[0m\u001b[0;34m\u001b[0m\u001b[0m\n\u001b[0;32m----> 9\u001b[0;31m             dists.append((x*(100-eval(row[1]['pot_price'])[idx])/100)**2 \n\u001b[0m\u001b[1;32m     10\u001b[0m             + (y*(1-eval(row[1]['pot_date'])[idx]))**2)\n\u001b[1;32m     11\u001b[0m             \u001b[0;34m+\u001b[0m \u001b[0;34m(\u001b[0m\u001b[0mz\u001b[0m\u001b[0;34m*\u001b[0m\u001b[0;34m(\u001b[0m\u001b[0;36m100\u001b[0m\u001b[0;34m-\u001b[0m\u001b[0meval\u001b[0m\u001b[0;34m(\u001b[0m\u001b[0mrow\u001b[0m\u001b[0;34m[\u001b[0m\u001b[0;36m1\u001b[0m\u001b[0;34m]\u001b[0m\u001b[0;34m[\u001b[0m\u001b[0;34m'pot_address'\u001b[0m\u001b[0;34m]\u001b[0m\u001b[0;34m)\u001b[0m\u001b[0;34m[\u001b[0m\u001b[0midx\u001b[0m\u001b[0;34m]\u001b[0m\u001b[0;34m)\u001b[0m\u001b[0;34m/\u001b[0m\u001b[0;36m100\u001b[0m\u001b[0;34m)\u001b[0m\u001b[0;34m**\u001b[0m\u001b[0;36m2\u001b[0m\u001b[0;34m\u001b[0m\u001b[0;34m\u001b[0m\u001b[0m\n",
      "\u001b[0;32m<string>\u001b[0m in \u001b[0;36m<module>\u001b[0;34m\u001b[0m\n",
      "\u001b[0;31mKeyboardInterrupt\u001b[0m: "
     ]
    }
   ],
   "source": [
    "\n",
    "def objective(trial):\n",
    "    x = trial.suggest_float('x', 0, 10)\n",
    "    y = trial.suggest_float('y', 0, 10)\n",
    "    z = trial.suggest_float('z', 0, 10)\n",
    "    #a = trial.suggest_float('a', 0, 10)\n",
    "    return 1-compute_accuracy(x,y,z,0)\n",
    "\n",
    "study = optuna.create_study()\n",
    "study.optimize(objective, n_trials=100)\n",
    "\n",
    "study.best_params  # E.g. {'x': 2.002108042}\n",
    "\n"
   ]
  },
  {
   "cell_type": "code",
   "execution_count": 7,
   "metadata": {},
   "outputs": [],
   "source": [
    "res = compute_accuracy2(study.best_params['x'], 1, study.best_params['y'], 0)\n",
    "\n",
    "real = list(y_test_df['documentid'])\n"
   ]
  },
  {
   "cell_type": "code",
   "execution_count": 8,
   "metadata": {},
   "outputs": [
    {
     "name": "stdout",
     "output_type": "stream",
     "text": [
      "89.51612903225806\n"
     ]
    }
   ],
   "source": [
    "'''\n",
    "calculates the percentage where our predicted data conforms to our acutal data\n",
    "'''\n",
    "def calculate_percentage(list_a, list_b):\n",
    "    common_elements = set(list_a) & set(list_b)\n",
    "    percentage = (len(common_elements) / len(list_a)) * 100\n",
    "    return percentage\n",
    "    \n",
    "#from our model, we have a predicted accuracy of 89.51612903225806\n",
    "print(calculate_percentage(res,real))"
   ]
  }
 ],
 "metadata": {
  "kernelspec": {
   "display_name": "base",
   "language": "python",
   "name": "python3"
  },
  "language_info": {
   "codemirror_mode": {
    "name": "ipython",
    "version": 3
   },
   "file_extension": ".py",
   "mimetype": "text/x-python",
   "name": "python",
   "nbconvert_exporter": "python",
   "pygments_lexer": "ipython3",
   "version": "3.9.7"
  },
  "orig_nbformat": 4,
  "vscode": {
   "interpreter": {
    "hash": "2c1b9b709c96f0a0c4f0ad5aa64018864a577eca0df3681d86d386a5d9092f0a"
   }
  }
 },
 "nbformat": 4,
 "nbformat_minor": 2
}
