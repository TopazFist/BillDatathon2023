{
 "cells": [
  {
   "cell_type": "code",
   "execution_count": 47,
   "metadata": {},
   "outputs": [],
   "source": [
    "import os\n",
    "import numpy as np\n",
    "import pandas as pd\n",
    "from sklearn.model_selection import train_test_split\n",
    "import optuna"
   ]
  },
  {
   "cell_type": "code",
   "execution_count": 69,
   "metadata": {},
   "outputs": [],
   "source": [
    "df_train = pd.read_csv(\"data/final/final_training.csv\")\n",
    "df_train = df_train[df_train['pot_doc'] != '[]']\n",
    "X_train_df=pd.DataFrame(data = np.array(df), columns = df.columns).drop(columns=\"documentid\").drop(columns=\"Unnamed: 0\")\n",
    "y_train_df = pd.DataFrame(data = np.array(df['documentid']), columns = ['documentid'])\n",
    "X_train_df\n",
    "\n",
    "df_train = pd.read_csv(\"data/final/final_test.csv\")\n",
    "X_test_df=pd.DataFrame(data = np.array(df), columns = df.columns).drop(columns=\"documentid\").drop(columns=\"Unnamed: 0\")\n",
    "y_test_df = pd.DataFrame(data = np.array(df['documentid']), columns = ['documentid'])\n"
   ]
  },
  {
   "cell_type": "code",
   "execution_count": 86,
   "metadata": {},
   "outputs": [],
   "source": [
    "def compute_accuracy(x, y, z,a):\n",
    "    results = []\n",
    "    for row in X_train_df.iterrows():\n",
    "        if (len(eval(row[1]['pot_doc']))==0):\n",
    "            continue\n",
    "        dists = []\n",
    "        \n",
    "        for idx in range(len(eval(row[1]['pot_doc']))):\n",
    "            dists.append((x*(100-eval(row[1]['pot_price'])[idx])/100)**2 \n",
    "            + (y*(1-eval(row[1]['pot_date'])[idx]))**2)\n",
    "\n",
    "            #+ (z*(100-eval(row[1]['pot_address'])[idx])/100)**2\n",
    "            #+ (a*eval(row[1]['pot_name'])[idx])**2\n",
    "            \n",
    "        dists = np.array(dists)\n",
    "        results.append(eval(row[1]['pot_doc'])[dists.argmin()])\n",
    "    results = np.array(results)\n",
    "    return np.sum(results == np.array(y_train_df['documentid']))/len(X_train_df)\n",
    "    \n",
    "def compute_accuracy2(x, y, z, a):\n",
    "    results = []\n",
    "    for row in X_test_df.iterrows():\n",
    "        if (len(eval(row[1]['pot_doc']))==0):\n",
    "            continue\n",
    "        dists = []\n",
    "        \n",
    "        for idx in range(len(eval(row[1]['pot_doc']))):\n",
    "            dists.append((x*(100-eval(row[1]['pot_price'])[idx])/100)**2 \n",
    "            + (y*(1-eval(row[1]['pot_date'])[idx]))**2\n",
    "            + (z*(100-eval(row[1]['pot_address'])[idx])/100)**2\n",
    "            #+ (a*eval(row[1]['pot_name'])[idx])**2\n",
    "            )\n",
    "        dists = np.array(dists)\n",
    "        results.append(eval(row[1]['pot_doc'])[dists.argmin()])\n",
    "    results = np.array(results)\n",
    "    return results"
   ]
  },
  {
   "cell_type": "code",
   "execution_count": 90,
   "metadata": {},
   "outputs": [
    {
     "name": "stderr",
     "output_type": "stream",
     "text": [
      "\u001b[32m[I 2023-01-29 07:19:52,189]\u001b[0m A new study created in memory with name: no-name-5dc8158b-1891-4484-9432-80222161bacd\u001b[0m\n",
      "\u001b[32m[I 2023-01-29 07:19:52,394]\u001b[0m Trial 0 finished with value: 0.16801619433198378 and parameters: {'x': 6.14440991083287, 'y': 1.8352769801072444, 'z': 4.032436107549383}. Best is trial 0 with value: 0.16801619433198378.\u001b[0m\n",
      "\u001b[32m[I 2023-01-29 07:19:52,599]\u001b[0m Trial 1 finished with value: 0.16801619433198378 and parameters: {'x': 5.304130593339887, 'y': 9.33978069930365, 'z': 0.0073807567742734115}. Best is trial 0 with value: 0.16801619433198378.\u001b[0m\n",
      "\u001b[32m[I 2023-01-29 07:19:52,799]\u001b[0m Trial 2 finished with value: 0.16801619433198378 and parameters: {'x': 0.8255639566128614, 'y': 6.351277713350012, 'z': 2.0891393563877445}. Best is trial 0 with value: 0.16801619433198378.\u001b[0m\n",
      "\u001b[32m[I 2023-01-29 07:19:52,995]\u001b[0m Trial 3 finished with value: 0.16801619433198378 and parameters: {'x': 2.1254821851610295, 'y': 9.12813858870134, 'z': 0.03315975666312254}. Best is trial 0 with value: 0.16801619433198378.\u001b[0m\n",
      "\u001b[32m[I 2023-01-29 07:19:53,199]\u001b[0m Trial 4 finished with value: 0.16801619433198378 and parameters: {'x': 2.1604201569799453, 'y': 0.2596985509952554, 'z': 5.105910630932257}. Best is trial 0 with value: 0.16801619433198378.\u001b[0m\n",
      "\u001b[32m[I 2023-01-29 07:19:53,395]\u001b[0m Trial 5 finished with value: 0.16801619433198378 and parameters: {'x': 8.794352787656571, 'y': 0.973000608640544, 'z': 5.320078367558757}. Best is trial 0 with value: 0.16801619433198378.\u001b[0m\n",
      "\u001b[32m[I 2023-01-29 07:19:53,590]\u001b[0m Trial 6 finished with value: 0.16801619433198378 and parameters: {'x': 2.7348375499196753, 'y': 7.421488077452513, 'z': 8.764932819729003}. Best is trial 0 with value: 0.16801619433198378.\u001b[0m\n",
      "\u001b[32m[I 2023-01-29 07:19:53,783]\u001b[0m Trial 7 finished with value: 0.16801619433198378 and parameters: {'x': 3.4876764959417494, 'y': 8.112193399945301, 'z': 4.087288932730505}. Best is trial 0 with value: 0.16801619433198378.\u001b[0m\n",
      "\u001b[32m[I 2023-01-29 07:19:53,986]\u001b[0m Trial 8 finished with value: 0.16801619433198378 and parameters: {'x': 9.383452797738553, 'y': 7.854908328267081, 'z': 0.24872907829319169}. Best is trial 0 with value: 0.16801619433198378.\u001b[0m\n",
      "\u001b[32m[I 2023-01-29 07:19:54,187]\u001b[0m Trial 9 finished with value: 0.16801619433198378 and parameters: {'x': 3.69797582677051, 'y': 3.1973693969542714, 'z': 0.5867494727221767}. Best is trial 0 with value: 0.16801619433198378.\u001b[0m\n",
      "\u001b[32m[I 2023-01-29 07:19:54,388]\u001b[0m Trial 10 finished with value: 0.16801619433198378 and parameters: {'x': 6.633930598362821, 'y': 3.6884524530821716, 'z': 7.252259528024578}. Best is trial 0 with value: 0.16801619433198378.\u001b[0m\n",
      "\u001b[32m[I 2023-01-29 07:19:54,590]\u001b[0m Trial 11 finished with value: 0.16801619433198378 and parameters: {'x': 5.973883420927689, 'y': 9.820812826960132, 'z': 2.4965223665007943}. Best is trial 0 with value: 0.16801619433198378.\u001b[0m\n",
      "\u001b[32m[I 2023-01-29 07:19:54,795]\u001b[0m Trial 12 finished with value: 0.16801619433198378 and parameters: {'x': 5.549177200591389, 'y': 5.2984667326750525, 'z': 2.279154059514293}. Best is trial 0 with value: 0.16801619433198378.\u001b[0m\n",
      "\u001b[32m[I 2023-01-29 07:19:54,996]\u001b[0m Trial 13 finished with value: 0.16801619433198378 and parameters: {'x': 7.6572805412253855, 'y': 2.2583052643355748, 'z': 3.915011173400463}. Best is trial 0 with value: 0.16801619433198378.\u001b[0m\n",
      "\u001b[32m[I 2023-01-29 07:19:55,198]\u001b[0m Trial 14 finished with value: 0.16801619433198378 and parameters: {'x': 4.595347614672823, 'y': 5.191891529628184, 'z': 6.452860059189044}. Best is trial 0 with value: 0.16801619433198378.\u001b[0m\n",
      "\u001b[32m[I 2023-01-29 07:19:55,405]\u001b[0m Trial 15 finished with value: 0.16801619433198378 and parameters: {'x': 7.025180021002954, 'y': 4.054728120117918, 'z': 3.742351692484962}. Best is trial 0 with value: 0.16801619433198378.\u001b[0m\n",
      "\u001b[32m[I 2023-01-29 07:19:55,608]\u001b[0m Trial 16 finished with value: 0.16801619433198378 and parameters: {'x': 5.0530831824133005, 'y': 6.326343330783916, 'z': 1.4672326262314912}. Best is trial 0 with value: 0.16801619433198378.\u001b[0m\n",
      "\u001b[32m[I 2023-01-29 07:19:55,810]\u001b[0m Trial 17 finished with value: 0.16801619433198378 and parameters: {'x': 7.927108678972857, 'y': 1.9788427853575916, 'z': 2.9948708833252082}. Best is trial 0 with value: 0.16801619433198378.\u001b[0m\n",
      "\u001b[32m[I 2023-01-29 07:19:56,011]\u001b[0m Trial 18 finished with value: 0.16801619433198378 and parameters: {'x': 5.952231008051922, 'y': 9.61072316857149, 'z': 1.4405427888660904}. Best is trial 0 with value: 0.16801619433198378.\u001b[0m\n",
      "\u001b[32m[I 2023-01-29 07:19:56,211]\u001b[0m Trial 19 finished with value: 0.16801619433198378 and parameters: {'x': 4.944191435333725, 'y': 8.658521853907075, 'z': 1.1191161111604222}. Best is trial 0 with value: 0.16801619433198378.\u001b[0m\n",
      "\u001b[32m[I 2023-01-29 07:19:56,416]\u001b[0m Trial 20 finished with value: 0.16801619433198378 and parameters: {'x': 6.611447933816749, 'y': 9.926143513211105, 'z': 3.419991251355621}. Best is trial 0 with value: 0.16801619433198378.\u001b[0m\n",
      "\u001b[32m[I 2023-01-29 07:19:56,623]\u001b[0m Trial 21 finished with value: 0.16801619433198378 and parameters: {'x': 0.4466373506387802, 'y': 6.545169713140853, 'z': 2.2376107463331425}. Best is trial 0 with value: 0.16801619433198378.\u001b[0m\n",
      "\u001b[32m[I 2023-01-29 07:19:56,825]\u001b[0m Trial 22 finished with value: 0.16801619433198378 and parameters: {'x': 0.8158992318600223, 'y': 6.673302753087637, 'z': 1.5148270539246091}. Best is trial 0 with value: 0.16801619433198378.\u001b[0m\n",
      "\u001b[32m[I 2023-01-29 07:19:57,029]\u001b[0m Trial 23 finished with value: 0.16801619433198378 and parameters: {'x': 3.890824104030658, 'y': 8.726670719235248, 'z': 0.8372993729590661}. Best is trial 0 with value: 0.16801619433198378.\u001b[0m\n",
      "\u001b[32m[I 2023-01-29 07:19:57,236]\u001b[0m Trial 24 finished with value: 0.16801619433198378 and parameters: {'x': 1.1541487012671585, 'y': 4.361965923103749, 'z': 2.0082273625589266}. Best is trial 0 with value: 0.16801619433198378.\u001b[0m\n",
      "\u001b[32m[I 2023-01-29 07:19:57,438]\u001b[0m Trial 25 finished with value: 0.16801619433198378 and parameters: {'x': 4.575154188669539, 'y': 5.760329106847715, 'z': 2.692798360700894}. Best is trial 0 with value: 0.16801619433198378.\u001b[0m\n",
      "\u001b[32m[I 2023-01-29 07:19:57,639]\u001b[0m Trial 26 finished with value: 0.16801619433198378 and parameters: {'x': 0.21479288098012894, 'y': 7.355455289375167, 'z': 0.08634666130675527}. Best is trial 0 with value: 0.16801619433198378.\u001b[0m\n",
      "\u001b[32m[I 2023-01-29 07:19:57,841]\u001b[0m Trial 27 finished with value: 0.16801619433198378 and parameters: {'x': 5.363306286311646, 'y': 4.5385123909381875, 'z': 4.410198753972507}. Best is trial 0 with value: 0.16801619433198378.\u001b[0m\n",
      "\u001b[32m[I 2023-01-29 07:19:58,041]\u001b[0m Trial 28 finished with value: 0.16801619433198378 and parameters: {'x': 4.39206366735967, 'y': 6.062404829964628, 'z': 3.1987719697723187}. Best is trial 0 with value: 0.16801619433198378.\u001b[0m\n",
      "\u001b[32m[I 2023-01-29 07:19:58,241]\u001b[0m Trial 29 finished with value: 0.16801619433198378 and parameters: {'x': 1.5819883593380073, 'y': 8.941124292873955, 'z': 0.22841048759028837}. Best is trial 0 with value: 0.16801619433198378.\u001b[0m\n",
      "\u001b[32m[I 2023-01-29 07:19:58,441]\u001b[0m Trial 30 finished with value: 0.16801619433198378 and parameters: {'x': 2.9897342022298874, 'y': 7.037286700783417, 'z': 0.9994341182014362}. Best is trial 0 with value: 0.16801619433198378.\u001b[0m\n",
      "\u001b[32m[I 2023-01-29 07:19:58,648]\u001b[0m Trial 31 finished with value: 0.16801619433198378 and parameters: {'x': 2.0057476864234602, 'y': 8.058313719413505, 'z': 0.025943976312585625}. Best is trial 0 with value: 0.16801619433198378.\u001b[0m\n",
      "\u001b[32m[I 2023-01-29 07:19:58,848]\u001b[0m Trial 32 finished with value: 0.16801619433198378 and parameters: {'x': 0.03476134576643619, 'y': 0.17308803445760645, 'z': 0.7236282647543067}. Best is trial 0 with value: 0.16801619433198378.\u001b[0m\n",
      "\u001b[32m[I 2023-01-29 07:19:59,048]\u001b[0m Trial 33 finished with value: 0.16801619433198378 and parameters: {'x': 1.96769858348272, 'y': 9.247631730686265, 'z': 1.5628171613733457}. Best is trial 0 with value: 0.16801619433198378.\u001b[0m\n",
      "\u001b[32m[I 2023-01-29 07:19:59,250]\u001b[0m Trial 34 finished with value: 0.16801619433198378 and parameters: {'x': 2.5178420708498095, 'y': 8.405612032380553, 'z': 1.9173903536991748}. Best is trial 0 with value: 0.16801619433198378.\u001b[0m\n",
      "\u001b[32m[I 2023-01-29 07:19:59,451]\u001b[0m Trial 35 finished with value: 0.16801619433198378 and parameters: {'x': 3.126666668580306, 'y': 7.615690978252085, 'z': 4.783184661540739}. Best is trial 0 with value: 0.16801619433198378.\u001b[0m\n",
      "\u001b[32m[I 2023-01-29 07:19:59,652]\u001b[0m Trial 36 finished with value: 0.16801619433198378 and parameters: {'x': 1.3125123394674845, 'y': 8.150458018932351, 'z': 0.7059745820246157}. Best is trial 0 with value: 0.16801619433198378.\u001b[0m\n",
      "\u001b[32m[I 2023-01-29 07:19:59,854]\u001b[0m Trial 37 finished with value: 0.16801619433198378 and parameters: {'x': 2.57352862656609, 'y': 7.008574997398685, 'z': 2.7970073828180806}. Best is trial 0 with value: 0.16801619433198378.\u001b[0m\n",
      "\u001b[32m[I 2023-01-29 07:20:00,054]\u001b[0m Trial 38 finished with value: 0.16801619433198378 and parameters: {'x': 3.917990508196072, 'y': 9.211747352461327, 'z': 0.5037416591296089}. Best is trial 0 with value: 0.16801619433198378.\u001b[0m\n",
      "\u001b[32m[I 2023-01-29 07:20:00,254]\u001b[0m Trial 39 finished with value: 0.16801619433198378 and parameters: {'x': 1.7253899191255666, 'y': 0.9731236077995385, 'z': 5.344242561326983}. Best is trial 0 with value: 0.16801619433198378.\u001b[0m\n",
      "\u001b[32m[I 2023-01-29 07:20:00,454]\u001b[0m Trial 40 finished with value: 0.16801619433198378 and parameters: {'x': 0.8310148090056408, 'y': 7.724338404538721, 'z': 1.8740440894905195}. Best is trial 0 with value: 0.16801619433198378.\u001b[0m\n",
      "\u001b[32m[I 2023-01-29 07:20:00,657]\u001b[0m Trial 41 finished with value: 0.16801619433198378 and parameters: {'x': 2.33449036822175, 'y': 3.15525138414686, 'z': 3.5380697477450394}. Best is trial 0 with value: 0.16801619433198378.\u001b[0m\n",
      "\u001b[32m[I 2023-01-29 07:20:00,858]\u001b[0m Trial 42 finished with value: 0.16801619433198378 and parameters: {'x': 3.4715808542529176, 'y': 5.595740987242452, 'z': 5.44233790058715}. Best is trial 0 with value: 0.16801619433198378.\u001b[0m\n",
      "\u001b[32m[I 2023-01-29 07:20:01,061]\u001b[0m Trial 43 finished with value: 0.16801619433198378 and parameters: {'x': 1.2822922046461775, 'y': 9.400048646895032, 'z': 4.1241351341541606}. Best is trial 0 with value: 0.16801619433198378.\u001b[0m\n",
      "\u001b[32m[I 2023-01-29 07:20:01,264]\u001b[0m Trial 44 finished with value: 0.16801619433198378 and parameters: {'x': 2.0439285965620897, 'y': 8.57733243940057, 'z': 2.4577386665879217}. Best is trial 0 with value: 0.16801619433198378.\u001b[0m\n",
      "\u001b[32m[I 2023-01-29 07:20:01,466]\u001b[0m Trial 45 finished with value: 0.16801619433198378 and parameters: {'x': 2.6758615951266984, 'y': 0.4196111049349268, 'z': 0.43610458152176823}. Best is trial 0 with value: 0.16801619433198378.\u001b[0m\n",
      "\u001b[32m[I 2023-01-29 07:20:01,668]\u001b[0m Trial 46 finished with value: 0.16801619433198378 and parameters: {'x': 0.6039646329986961, 'y': 4.900323348457171, 'z': 1.199087460443243}. Best is trial 0 with value: 0.16801619433198378.\u001b[0m\n",
      "\u001b[32m[I 2023-01-29 07:20:01,869]\u001b[0m Trial 47 finished with value: 0.16801619433198378 and parameters: {'x': 5.675537022512058, 'y': 1.4172651533721472, 'z': 3.1818848743215176}. Best is trial 0 with value: 0.16801619433198378.\u001b[0m\n",
      "\u001b[32m[I 2023-01-29 07:20:02,070]\u001b[0m Trial 48 finished with value: 0.16801619433198378 and parameters: {'x': 6.176897815589501, 'y': 9.707327494927652, 'z': 3.8498843264086915}. Best is trial 0 with value: 0.16801619433198378.\u001b[0m\n",
      "\u001b[32m[I 2023-01-29 07:20:02,270]\u001b[0m Trial 49 finished with value: 0.16801619433198378 and parameters: {'x': 3.345144240023681, 'y': 9.928345941401247, 'z': 0.010495727022006605}. Best is trial 0 with value: 0.16801619433198378.\u001b[0m\n",
      "\u001b[32m[I 2023-01-29 07:20:02,471]\u001b[0m Trial 50 finished with value: 0.16801619433198378 and parameters: {'x': 5.08696448618916, 'y': 2.331664917488722, 'z': 1.1548945356155724}. Best is trial 0 with value: 0.16801619433198378.\u001b[0m\n",
      "\u001b[32m[I 2023-01-29 07:20:02,672]\u001b[0m Trial 51 finished with value: 0.16801619433198378 and parameters: {'x': 9.389917430472627, 'y': 0.06390538267511037, 'z': 5.820807178028837}. Best is trial 0 with value: 0.16801619433198378.\u001b[0m\n",
      "\u001b[32m[I 2023-01-29 07:20:02,873]\u001b[0m Trial 52 finished with value: 0.16801619433198378 and parameters: {'x': 8.767753580678356, 'y': 1.2720819272503368, 'z': 4.475160707223202}. Best is trial 0 with value: 0.16801619433198378.\u001b[0m\n",
      "\u001b[32m[I 2023-01-29 07:20:03,076]\u001b[0m Trial 53 finished with value: 0.16801619433198378 and parameters: {'x': 7.205130860219764, 'y': 0.8256774090409029, 'z': 6.288828352589708}. Best is trial 0 with value: 0.16801619433198378.\u001b[0m\n",
      "\u001b[32m[I 2023-01-29 07:20:03,276]\u001b[0m Trial 54 finished with value: 0.16801619433198378 and parameters: {'x': 8.644004147914583, 'y': 9.063719445973284, 'z': 4.948220076831767}. Best is trial 0 with value: 0.16801619433198378.\u001b[0m\n",
      "\u001b[32m[I 2023-01-29 07:20:03,476]\u001b[0m Trial 55 finished with value: 0.16801619433198378 and parameters: {'x': 3.9365865644531906, 'y': 0.5362921605769952, 'z': 2.7611298429038764}. Best is trial 0 with value: 0.16801619433198378.\u001b[0m\n",
      "\u001b[32m[I 2023-01-29 07:20:03,676]\u001b[0m Trial 56 finished with value: 0.16801619433198378 and parameters: {'x': 6.453009965832329, 'y': 1.627547189075075, 'z': 0.5389462094044463}. Best is trial 0 with value: 0.16801619433198378.\u001b[0m\n",
      "\u001b[32m[I 2023-01-29 07:20:03,877]\u001b[0m Trial 57 finished with value: 0.16801619433198378 and parameters: {'x': 6.9648258349703855, 'y': 0.8018893146164832, 'z': 2.2982559222758216}. Best is trial 0 with value: 0.16801619433198378.\u001b[0m\n",
      "\u001b[32m[I 2023-01-29 07:20:04,077]\u001b[0m Trial 58 finished with value: 0.16801619433198378 and parameters: {'x': 9.792118252838959, 'y': 2.621837138033887, 'z': 3.5060077149693853}. Best is trial 0 with value: 0.16801619433198378.\u001b[0m\n",
      "\u001b[32m[I 2023-01-29 07:20:04,278]\u001b[0m Trial 59 finished with value: 0.16801619433198378 and parameters: {'x': 5.631681134218076, 'y': 1.7714523549063335, 'z': 4.266735129910613}. Best is trial 0 with value: 0.16801619433198378.\u001b[0m\n",
      "\u001b[32m[I 2023-01-29 07:20:04,479]\u001b[0m Trial 60 finished with value: 0.16801619433198378 and parameters: {'x': 7.636284983731175, 'y': 1.0921719354811033, 'z': 3.844169970539442}. Best is trial 0 with value: 0.16801619433198378.\u001b[0m\n",
      "\u001b[32m[I 2023-01-29 07:20:04,679]\u001b[0m Trial 61 finished with value: 0.16801619433198378 and parameters: {'x': 2.905863666107104, 'y': 6.095420601321659, 'z': 9.134929750547633}. Best is trial 0 with value: 0.16801619433198378.\u001b[0m\n",
      "\u001b[32m[I 2023-01-29 07:20:04,887]\u001b[0m Trial 62 finished with value: 0.16801619433198378 and parameters: {'x': 4.33343960116812, 'y': 9.460729437870539, 'z': 7.758293558214582}. Best is trial 0 with value: 0.16801619433198378.\u001b[0m\n",
      "\u001b[32m[I 2023-01-29 07:20:05,087]\u001b[0m Trial 63 finished with value: 0.16801619433198378 and parameters: {'x': 5.2881127370466965, 'y': 8.769372579949666, 'z': 1.612774909058259}. Best is trial 0 with value: 0.16801619433198378.\u001b[0m\n",
      "\u001b[32m[I 2023-01-29 07:20:05,289]\u001b[0m Trial 64 finished with value: 0.16801619433198378 and parameters: {'x': 4.921103082186466, 'y': 8.38211569826071, 'z': 4.553501536683995}. Best is trial 0 with value: 0.16801619433198378.\u001b[0m\n",
      "\u001b[32m[I 2023-01-29 07:20:05,490]\u001b[0m Trial 65 finished with value: 0.16801619433198378 and parameters: {'x': 2.2908228992871225, 'y': 7.308570672418034, 'z': 0.8999852661371917}. Best is trial 0 with value: 0.16801619433198378.\u001b[0m\n",
      "\u001b[32m[I 2023-01-29 07:20:05,691]\u001b[0m Trial 66 finished with value: 0.16801619433198378 and parameters: {'x': 1.6958216097267818, 'y': 0.3975378388334332, 'z': 3.078760855453612}. Best is trial 0 with value: 0.16801619433198378.\u001b[0m\n",
      "\u001b[32m[I 2023-01-29 07:20:05,893]\u001b[0m Trial 67 finished with value: 0.16801619433198378 and parameters: {'x': 5.97117679861024, 'y': 8.00576374418934, 'z': 0.3061498021685785}. Best is trial 0 with value: 0.16801619433198378.\u001b[0m\n",
      "\u001b[32m[I 2023-01-29 07:20:06,094]\u001b[0m Trial 68 finished with value: 0.16801619433198378 and parameters: {'x': 1.0045175532706843, 'y': 0.024176526606540488, 'z': 4.00167934659356}. Best is trial 0 with value: 0.16801619433198378.\u001b[0m\n",
      "\u001b[32m[I 2023-01-29 07:20:06,295]\u001b[0m Trial 69 finished with value: 0.16801619433198378 and parameters: {'x': 1.3975892007846398, 'y': 6.768307556621527, 'z': 2.0927443823530103}. Best is trial 0 with value: 0.16801619433198378.\u001b[0m\n",
      "\u001b[32m[I 2023-01-29 07:20:06,495]\u001b[0m Trial 70 finished with value: 0.16801619433198378 and parameters: {'x': 1.040286271710361, 'y': 8.841458811057082, 'z': 2.6852565258199315}. Best is trial 0 with value: 0.16801619433198378.\u001b[0m\n",
      "\u001b[32m[I 2023-01-29 07:20:06,696]\u001b[0m Trial 71 finished with value: 0.16801619433198378 and parameters: {'x': 3.225538983519353, 'y': 7.71328639216474, 'z': 5.1991199633907685}. Best is trial 0 with value: 0.16801619433198378.\u001b[0m\n",
      "\u001b[32m[I 2023-01-29 07:20:06,896]\u001b[0m Trial 72 finished with value: 0.16801619433198378 and parameters: {'x': 2.7631704213036477, 'y': 8.422129489754534, 'z': 3.4690099558221017}. Best is trial 0 with value: 0.16801619433198378.\u001b[0m\n",
      "\u001b[32m[I 2023-01-29 07:20:07,097]\u001b[0m Trial 73 finished with value: 0.16801619433198378 and parameters: {'x': 3.5849914826857026, 'y': 9.631688296112761, 'z': 4.884043242908179}. Best is trial 0 with value: 0.16801619433198378.\u001b[0m\n",
      "\u001b[32m[I 2023-01-29 07:20:07,299]\u001b[0m Trial 74 finished with value: 0.16801619433198378 and parameters: {'x': 2.3469933713206137, 'y': 6.384586876304182, 'z': 4.711642032527033}. Best is trial 0 with value: 0.16801619433198378.\u001b[0m\n",
      "\u001b[32m[I 2023-01-29 07:20:07,499]\u001b[0m Trial 75 finished with value: 0.16801619433198378 and parameters: {'x': 3.14426682820934, 'y': 9.000126850654985, 'z': 4.389724209531742}. Best is trial 0 with value: 0.16801619433198378.\u001b[0m\n",
      "\u001b[32m[I 2023-01-29 07:20:07,700]\u001b[0m Trial 76 finished with value: 0.16801619433198378 and parameters: {'x': 2.002270254318978, 'y': 8.212254904387699, 'z': 0.667546937971305}. Best is trial 0 with value: 0.16801619433198378.\u001b[0m\n",
      "\u001b[32m[I 2023-01-29 07:20:07,901]\u001b[0m Trial 77 finished with value: 0.16801619433198378 and parameters: {'x': 2.805171380529349, 'y': 7.879199631316126, 'z': 4.065722666445141}. Best is trial 0 with value: 0.16801619433198378.\u001b[0m\n",
      "\u001b[32m[I 2023-01-29 07:20:08,101]\u001b[0m Trial 78 finished with value: 0.16801619433198378 and parameters: {'x': 1.4980073034278727, 'y': 9.235666982012384, 'z': 3.7507964086379744}. Best is trial 0 with value: 0.16801619433198378.\u001b[0m\n",
      "\u001b[32m[I 2023-01-29 07:20:08,302]\u001b[0m Trial 79 finished with value: 0.16801619433198378 and parameters: {'x': 3.6209615025599566, 'y': 8.627559393521807, 'z': 1.4336880592190346}. Best is trial 0 with value: 0.16801619433198378.\u001b[0m\n",
      "\u001b[32m[I 2023-01-29 07:20:08,501]\u001b[0m Trial 80 finished with value: 0.16801619433198378 and parameters: {'x': 2.924981078732674, 'y': 4.0155135443689, 'z': 2.981949217238947}. Best is trial 0 with value: 0.16801619433198378.\u001b[0m\n",
      "\u001b[32m[I 2023-01-29 07:20:08,700]\u001b[0m Trial 81 finished with value: 0.16801619433198378 and parameters: {'x': 0.5632791367339113, 'y': 7.672992195817651, 'z': 0.27067426845933235}. Best is trial 0 with value: 0.16801619433198378.\u001b[0m\n",
      "\u001b[32m[I 2023-01-29 07:20:08,903]\u001b[0m Trial 82 finished with value: 0.16801619433198378 and parameters: {'x': 1.6945093908839761, 'y': 7.316051419007564, 'z': 0.872588784812999}. Best is trial 0 with value: 0.16801619433198378.\u001b[0m\n",
      "\u001b[32m[I 2023-01-29 07:20:09,108]\u001b[0m Trial 83 finished with value: 0.16801619433198378 and parameters: {'x': 2.349807224648464, 'y': 8.199397632619753, 'z': 0.022741453078924292}. Best is trial 0 with value: 0.16801619433198378.\u001b[0m\n",
      "\u001b[32m[I 2023-01-29 07:20:09,311]\u001b[0m Trial 84 finished with value: 0.16801619433198378 and parameters: {'x': 4.5982688390474, 'y': 9.975755714011942, 'z': 0.35263477197900017}. Best is trial 0 with value: 0.16801619433198378.\u001b[0m\n",
      "\u001b[32m[I 2023-01-29 07:20:09,513]\u001b[0m Trial 85 finished with value: 0.16801619433198378 and parameters: {'x': 2.5570109863595327, 'y': 0.6487171704015539, 'z': 1.1973871815761439}. Best is trial 0 with value: 0.16801619433198378.\u001b[0m\n",
      "\u001b[32m[I 2023-01-29 07:20:09,717]\u001b[0m Trial 86 finished with value: 0.16801619433198378 and parameters: {'x': 1.8602484659186374, 'y': 6.939210972778452, 'z': 0.5303652132746743}. Best is trial 0 with value: 0.16801619433198378.\u001b[0m\n",
      "\u001b[32m[I 2023-01-29 07:20:09,917]\u001b[0m Trial 87 finished with value: 0.16801619433198378 and parameters: {'x': 3.32835990087824, 'y': 7.43690907627915, 'z': 1.7613723914766404}. Best is trial 0 with value: 0.16801619433198378.\u001b[0m\n",
      "\u001b[32m[I 2023-01-29 07:20:10,119]\u001b[0m Trial 88 finished with value: 0.16801619433198378 and parameters: {'x': 0.33399096193093136, 'y': 0.3742278249922012, 'z': 2.397397563396961}. Best is trial 0 with value: 0.16801619433198378.\u001b[0m\n",
      "\u001b[32m[I 2023-01-29 07:20:10,320]\u001b[0m Trial 89 finished with value: 0.16801619433198378 and parameters: {'x': 1.2303301230932644, 'y': 7.918222172849919, 'z': 2.1048841346370595}. Best is trial 0 with value: 0.16801619433198378.\u001b[0m\n",
      "\u001b[32m[I 2023-01-29 07:20:10,521]\u001b[0m Trial 90 finished with value: 0.16801619433198378 and parameters: {'x': 3.8039652185990804, 'y': 6.586646595594015, 'z': 0.7013267465355041}. Best is trial 0 with value: 0.16801619433198378.\u001b[0m\n",
      "\u001b[32m[I 2023-01-29 07:20:10,724]\u001b[0m Trial 91 finished with value: 0.16801619433198378 and parameters: {'x': 3.026305452945498, 'y': 2.0330062814879186, 'z': 0.004682881033098912}. Best is trial 0 with value: 0.16801619433198378.\u001b[0m\n",
      "\u001b[32m[I 2023-01-29 07:20:10,925]\u001b[0m Trial 92 finished with value: 0.16801619433198378 and parameters: {'x': 4.164944332369382, 'y': 3.311030105371863, 'z': 0.2112162168350098}. Best is trial 0 with value: 0.16801619433198378.\u001b[0m\n",
      "\u001b[32m[I 2023-01-29 07:20:11,128]\u001b[0m Trial 93 finished with value: 0.16801619433198378 and parameters: {'x': 2.159769368323475, 'y': 1.0640890190130998, 'z': 1.2546141942309827}. Best is trial 0 with value: 0.16801619433198378.\u001b[0m\n",
      "\u001b[32m[I 2023-01-29 07:20:11,333]\u001b[0m Trial 94 finished with value: 0.16801619433198378 and parameters: {'x': 2.6128546356440485, 'y': 1.3752055301996413, 'z': 0.9449371502451664}. Best is trial 0 with value: 0.16801619433198378.\u001b[0m\n",
      "\u001b[32m[I 2023-01-29 07:20:11,540]\u001b[0m Trial 95 finished with value: 0.16801619433198378 and parameters: {'x': 4.666947905394128, 'y': 9.135536677111027, 'z': 0.5160617015947901}. Best is trial 0 with value: 0.16801619433198378.\u001b[0m\n",
      "\u001b[32m[I 2023-01-29 07:20:11,741]\u001b[0m Trial 96 finished with value: 0.16801619433198378 and parameters: {'x': 5.858136378858584, 'y': 9.36824813870352, 'z': 5.1233477782467}. Best is trial 0 with value: 0.16801619433198378.\u001b[0m\n",
      "\u001b[32m[I 2023-01-29 07:20:11,945]\u001b[0m Trial 97 finished with value: 0.16801619433198378 and parameters: {'x': 4.238686183249232, 'y': 8.788706415845185, 'z': 5.608501423759044}. Best is trial 0 with value: 0.16801619433198378.\u001b[0m\n",
      "\u001b[32m[I 2023-01-29 07:20:12,148]\u001b[0m Trial 98 finished with value: 0.16801619433198378 and parameters: {'x': 3.3327163679150233, 'y': 5.5215865715977035, 'z': 4.588158875014974}. Best is trial 0 with value: 0.16801619433198378.\u001b[0m\n",
      "\u001b[32m[I 2023-01-29 07:20:12,355]\u001b[0m Trial 99 finished with value: 0.16801619433198378 and parameters: {'x': 1.8531502929464687, 'y': 9.684776315873046, 'z': 4.166582902005338}. Best is trial 0 with value: 0.16801619433198378.\u001b[0m\n"
     ]
    },
    {
     "data": {
      "text/plain": [
       "{'x': 6.14440991083287, 'y': 1.8352769801072444, 'z': 4.032436107549383}"
      ]
     },
     "execution_count": 90,
     "metadata": {},
     "output_type": "execute_result"
    }
   ],
   "source": [
    "\n",
    "# dfs = pd.DataFrame()\n",
    "# ss = pd.DataFrame()\n",
    "\n",
    "# dfs['result'] = ss.apply(lambda row: (row['documentid'] in row['pot_doc']), axis=1)\n",
    "# print(dfs)\n",
    "# num_trues = dfs['result'].value_counts()[True]\n",
    "# print(num_trues)\n",
    "def objective(trial):\n",
    "    x = trial.suggest_float('x', 0, 10)\n",
    "    y = trial.suggest_float('y', 0, 10)\n",
    "    z = trial.suggest_float('z', 0, 10)\n",
    "    #a = trial.suggest_float('a', 0, 10)\n",
    "    return 1-compute_accuracy(x,y,z,0)\n",
    "\n",
    "study = optuna.create_study()\n",
    "study.optimize(objective, n_trials=100)\n",
    "\n",
    "study.best_params  # E.g. {'x': 2.002108042}\n",
    "\n"
   ]
  },
  {
   "cell_type": "code",
   "execution_count": 91,
   "metadata": {},
   "outputs": [
    {
     "name": "stdout",
     "output_type": "stream",
     "text": [
      "494 494\n"
     ]
    }
   ],
   "source": [
    "res = compute_accuracy2(study.best_params['x'], 1, study.best_params['y'], 0)\n",
    "\n",
    "real = list(y_test_df['documentid'])\n",
    "\n",
    "print(len(res), len(real))"
   ]
  },
  {
   "cell_type": "code",
   "execution_count": 92,
   "metadata": {},
   "outputs": [
    {
     "name": "stdout",
     "output_type": "stream",
     "text": [
      "84.0080971659919\n"
     ]
    }
   ],
   "source": [
    "def calculate_percentage(list_a, list_b):\n",
    "    common_elements = set(list_a) & set(list_b)\n",
    "    percentage = (len(common_elements) / len(list_a)) * 100\n",
    "    return percentage\n",
    "print(calculate_percentage(res,real))"
   ]
  }
 ],
 "metadata": {
  "kernelspec": {
   "display_name": "base",
   "language": "python",
   "name": "python3"
  },
  "language_info": {
   "codemirror_mode": {
    "name": "ipython",
    "version": 3
   },
   "file_extension": ".py",
   "mimetype": "text/x-python",
   "name": "python",
   "nbconvert_exporter": "python",
   "pygments_lexer": "ipython3",
   "version": "3.11.0"
  },
  "orig_nbformat": 4,
  "vscode": {
   "interpreter": {
    "hash": "9aec51e42af8da0c7c30aaf57f0f757435da4e088540033f4f1cafd61d7c10ec"
   }
  }
 },
 "nbformat": 4,
 "nbformat_minor": 2
}
