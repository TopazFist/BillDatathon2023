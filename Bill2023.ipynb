{
  "cells": [
    {
      "cell_type": "code",
      "execution_count": 25,
      "metadata": {
        "colab": {
          "base_uri": "https://localhost:8080/",
          "height": 602
        },
        "id": "Hf8ZWl-AAU6T",
        "outputId": "74b93865-7a0b-4fc5-dbf6-096342459169"
      },
      "outputs": [
        {
          "name": "stdout",
          "output_type": "stream",
          "text": [
            "        documentid      paymentid  amount       date  \\\n",
            "419  00d0639354292  00p0508924387     NaN  2018-3-10   \n",
            "\n",
            "                        vendor_name  \\\n",
            "419  UNIHAKKA INTERNATIONAL SDN BHD   \n",
            "\n",
            "                                        vendor_address  \n",
            "419  12, JALAN TAMPOI 7/4,KAWASAN PERINDUSTRIAN TAM...  \n",
            "          amount\n",
            "count  12.000000\n",
            "mean   15.275000\n",
            "std    22.947177\n",
            "min     6.200000\n",
            "25%     8.050000\n",
            "50%     8.700000\n",
            "75%    10.100000\n",
            "max    88.000000\n"
          ]
        }
      ],
      "source": [
        "# Exploratory Data Analysis of Users.csv\n",
        "\n",
        "import pandas as pd\n",
        "import numpy as np\n",
        "import matplotlib.pyplot as plt\n",
        "import matplotlib.image as mpimg\n",
        "import seaborn as sns\n",
        "from scipy.spatial import distance\n",
        "import os\n",
        "\n",
        "%matplotlib inline\n",
        "\n",
        "users_data = pd.read_csv(\"data/original/Users.csv\")\n",
        "print(users_data.loc[users_data[\"amount\"].isna()==True])\n",
        "uint_data = users_data.loc[users_data[\"vendor_name\"]==\"UNIHAKKA INTERNATIONAL SDN BHD\"]\n",
        "print(uint_data.describe())\n",
        "\n",
        "# Impute missing entry amount with $8.70"
      ]
    },
    {
      "cell_type": "code",
      "execution_count": 28,
      "metadata": {
        "colab": {
          "base_uri": "https://localhost:8080/"
        },
        "id": "YdmJuRj-F6Yg",
        "outputId": "6ab201e3-4beb-4778-cf91-13a0b1ff5dae"
      },
      "outputs": [
        {
          "name": "stdout",
          "output_type": "stream",
          "text": [
            "407\n",
            "458\n"
          ]
        },
        {
          "ename": "ValueError",
          "evalue": "The 1d arrays must have equal lengths.",
          "output_type": "error",
          "traceback": [
            "\u001b[0;31m---------------------------------------------------------------------------\u001b[0m",
            "\u001b[0;31mValueError\u001b[0m                                Traceback (most recent call last)",
            "Cell \u001b[0;32mIn[28], line 9\u001b[0m\n\u001b[1;32m      6\u001b[0m \u001b[39mdef\u001b[39;00m \u001b[39mhamming\u001b[39m(string1, string2):\n\u001b[1;32m      7\u001b[0m   \u001b[39mreturn\u001b[39;00m distance\u001b[39m.\u001b[39mhamming(\u001b[39mlist\u001b[39m(string1), \u001b[39mlist\u001b[39m(string2))\n\u001b[0;32m----> 9\u001b[0m \u001b[39mprint\u001b[39m(hamming(\u001b[39m\"\u001b[39;49m\u001b[39mcowbell\u001b[39;49m\u001b[39m\"\u001b[39;49m, \u001b[39m\"\u001b[39;49m\u001b[39mcobell\u001b[39;49m\u001b[39m\"\u001b[39;49m))\n",
            "Cell \u001b[0;32mIn[28], line 7\u001b[0m, in \u001b[0;36mhamming\u001b[0;34m(string1, string2)\u001b[0m\n\u001b[1;32m      6\u001b[0m \u001b[39mdef\u001b[39;00m \u001b[39mhamming\u001b[39m(string1, string2):\n\u001b[0;32m----> 7\u001b[0m   \u001b[39mreturn\u001b[39;00m distance\u001b[39m.\u001b[39;49mhamming(\u001b[39mlist\u001b[39;49m(string1), \u001b[39mlist\u001b[39;49m(string2))\n",
            "File \u001b[0;32m/opt/homebrew/lib/python3.9/site-packages/scipy/spatial/distance.py:728\u001b[0m, in \u001b[0;36mhamming\u001b[0;34m(u, v, w)\u001b[0m\n\u001b[1;32m    726\u001b[0m v \u001b[39m=\u001b[39m _validate_vector(v)\n\u001b[1;32m    727\u001b[0m \u001b[39mif\u001b[39;00m u\u001b[39m.\u001b[39mshape \u001b[39m!=\u001b[39m v\u001b[39m.\u001b[39mshape:\n\u001b[0;32m--> 728\u001b[0m     \u001b[39mraise\u001b[39;00m \u001b[39mValueError\u001b[39;00m(\u001b[39m'\u001b[39m\u001b[39mThe 1d arrays must have equal lengths.\u001b[39m\u001b[39m'\u001b[39m)\n\u001b[1;32m    729\u001b[0m u_ne_v \u001b[39m=\u001b[39m u \u001b[39m!=\u001b[39m v\n\u001b[1;32m    730\u001b[0m \u001b[39mif\u001b[39;00m w \u001b[39mis\u001b[39;00m \u001b[39mnot\u001b[39;00m \u001b[39mNone\u001b[39;00m:\n",
            "\u001b[0;31mValueError\u001b[0m: The 1d arrays must have equal lengths."
          ]
        }
      ],
      "source": [
        "print(users_data[\"vendor_name\"].nunique())\n",
        "print(users_data[\"vendor_address\"].nunique())\n",
        "# 407 unique vendor names\n",
        "# 458 unique vendor addresses\n",
        "# More locations then names\n",
        "def hamming(string1, string2):\n",
        "  return distance.hamming(list(string1), list(string2))\n",
        "\n",
        "print(hamming(\"cowbell\", \"cobell\"))\n"
      ]
    },
    {
      "cell_type": "code",
      "execution_count": 26,
      "metadata": {
        "colab": {
          "base_uri": "https://localhost:8080/",
          "height": 363
        },
        "id": "Zwa4IB49N1C6",
        "outputId": "2a3745e4-39cc-4f81-eb1c-002cb54e6f69"
      },
      "outputs": [
        {
          "ename": "ParserError",
          "evalue": "Error tokenizing data. C error: Expected 11 fields in line 4, saw 12\n",
          "output_type": "error",
          "traceback": [
            "\u001b[0;31m---------------------------------------------------------------------------\u001b[0m",
            "\u001b[0;31mParserError\u001b[0m                               Traceback (most recent call last)",
            "Cell \u001b[0;32mIn[26], line 6\u001b[0m\n\u001b[1;32m      4\u001b[0m columns \u001b[39m=\u001b[39m [\u001b[39m\"\u001b[39m\u001b[39mBB1\u001b[39m\u001b[39m\"\u001b[39m, \u001b[39m\"\u001b[39m\u001b[39mBB2\u001b[39m\u001b[39m\"\u001b[39m, \u001b[39m\"\u001b[39m\u001b[39mBB3\u001b[39m\u001b[39m\"\u001b[39m, \u001b[39m\"\u001b[39m\u001b[39mBB4\u001b[39m\u001b[39m\"\u001b[39m, \u001b[39m\"\u001b[39m\u001b[39mBB5\u001b[39m\u001b[39m\"\u001b[39m, \u001b[39m\"\u001b[39m\u001b[39mBB6\u001b[39m\u001b[39m\"\u001b[39m, \u001b[39m\"\u001b[39m\u001b[39mBB7\u001b[39m\u001b[39m\"\u001b[39m, \u001b[39m\"\u001b[39m\u001b[39mBB8\u001b[39m\u001b[39m\"\u001b[39m, \u001b[39m\"\u001b[39m\u001b[39mText_Main\u001b[39m\u001b[39m\"\u001b[39m, \u001b[39m\"\u001b[39m\u001b[39mText2\u001b[39m\u001b[39m\"\u001b[39m, \u001b[39m\"\u001b[39m\u001b[39mText3\u001b[39m\u001b[39m\"\u001b[39m,]\n\u001b[1;32m      5\u001b[0m \u001b[39mfor\u001b[39;00m filename \u001b[39min\u001b[39;00m os\u001b[39m.\u001b[39mlistdir(directory):\n\u001b[0;32m----> 6\u001b[0m     ocr_temp \u001b[39m=\u001b[39m pd\u001b[39m.\u001b[39;49mread_csv(os\u001b[39m.\u001b[39;49mpath\u001b[39m.\u001b[39;49mjoin(directory, filename), header\u001b[39m=\u001b[39;49m\u001b[39mNone\u001b[39;49;00m, names\u001b[39m=\u001b[39;49mcolumns)\n\u001b[1;32m      7\u001b[0m     \u001b[39mfor\u001b[39;00m textIdx \u001b[39min\u001b[39;00m \u001b[39mrange\u001b[39m(\u001b[39mlen\u001b[39m(ocr_temp[[\u001b[39m\"\u001b[39m\u001b[39mText2\u001b[39m\u001b[39m\"\u001b[39m]])):\n\u001b[1;32m      8\u001b[0m       \u001b[39mif\u001b[39;00m \u001b[39mtype\u001b[39m(ocr_temp\u001b[39m.\u001b[39miloc[textIdx, \u001b[39m9\u001b[39m])\u001b[39m==\u001b[39m\u001b[39mstr\u001b[39m:\n",
            "File \u001b[0;32m/opt/homebrew/lib/python3.9/site-packages/pandas/util/_decorators.py:311\u001b[0m, in \u001b[0;36mdeprecate_nonkeyword_arguments.<locals>.decorate.<locals>.wrapper\u001b[0;34m(*args, **kwargs)\u001b[0m\n\u001b[1;32m    305\u001b[0m \u001b[39mif\u001b[39;00m \u001b[39mlen\u001b[39m(args) \u001b[39m>\u001b[39m num_allow_args:\n\u001b[1;32m    306\u001b[0m     warnings\u001b[39m.\u001b[39mwarn(\n\u001b[1;32m    307\u001b[0m         msg\u001b[39m.\u001b[39mformat(arguments\u001b[39m=\u001b[39marguments),\n\u001b[1;32m    308\u001b[0m         \u001b[39mFutureWarning\u001b[39;00m,\n\u001b[1;32m    309\u001b[0m         stacklevel\u001b[39m=\u001b[39mstacklevel,\n\u001b[1;32m    310\u001b[0m     )\n\u001b[0;32m--> 311\u001b[0m \u001b[39mreturn\u001b[39;00m func(\u001b[39m*\u001b[39;49margs, \u001b[39m*\u001b[39;49m\u001b[39m*\u001b[39;49mkwargs)\n",
            "File \u001b[0;32m/opt/homebrew/lib/python3.9/site-packages/pandas/io/parsers/readers.py:680\u001b[0m, in \u001b[0;36mread_csv\u001b[0;34m(filepath_or_buffer, sep, delimiter, header, names, index_col, usecols, squeeze, prefix, mangle_dupe_cols, dtype, engine, converters, true_values, false_values, skipinitialspace, skiprows, skipfooter, nrows, na_values, keep_default_na, na_filter, verbose, skip_blank_lines, parse_dates, infer_datetime_format, keep_date_col, date_parser, dayfirst, cache_dates, iterator, chunksize, compression, thousands, decimal, lineterminator, quotechar, quoting, doublequote, escapechar, comment, encoding, encoding_errors, dialect, error_bad_lines, warn_bad_lines, on_bad_lines, delim_whitespace, low_memory, memory_map, float_precision, storage_options)\u001b[0m\n\u001b[1;32m    665\u001b[0m kwds_defaults \u001b[39m=\u001b[39m _refine_defaults_read(\n\u001b[1;32m    666\u001b[0m     dialect,\n\u001b[1;32m    667\u001b[0m     delimiter,\n\u001b[0;32m   (...)\u001b[0m\n\u001b[1;32m    676\u001b[0m     defaults\u001b[39m=\u001b[39m{\u001b[39m\"\u001b[39m\u001b[39mdelimiter\u001b[39m\u001b[39m\"\u001b[39m: \u001b[39m\"\u001b[39m\u001b[39m,\u001b[39m\u001b[39m\"\u001b[39m},\n\u001b[1;32m    677\u001b[0m )\n\u001b[1;32m    678\u001b[0m kwds\u001b[39m.\u001b[39mupdate(kwds_defaults)\n\u001b[0;32m--> 680\u001b[0m \u001b[39mreturn\u001b[39;00m _read(filepath_or_buffer, kwds)\n",
            "File \u001b[0;32m/opt/homebrew/lib/python3.9/site-packages/pandas/io/parsers/readers.py:581\u001b[0m, in \u001b[0;36m_read\u001b[0;34m(filepath_or_buffer, kwds)\u001b[0m\n\u001b[1;32m    578\u001b[0m     \u001b[39mreturn\u001b[39;00m parser\n\u001b[1;32m    580\u001b[0m \u001b[39mwith\u001b[39;00m parser:\n\u001b[0;32m--> 581\u001b[0m     \u001b[39mreturn\u001b[39;00m parser\u001b[39m.\u001b[39;49mread(nrows)\n",
            "File \u001b[0;32m/opt/homebrew/lib/python3.9/site-packages/pandas/io/parsers/readers.py:1250\u001b[0m, in \u001b[0;36mTextFileReader.read\u001b[0;34m(self, nrows)\u001b[0m\n\u001b[1;32m   1248\u001b[0m nrows \u001b[39m=\u001b[39m validate_integer(\u001b[39m\"\u001b[39m\u001b[39mnrows\u001b[39m\u001b[39m\"\u001b[39m, nrows)\n\u001b[1;32m   1249\u001b[0m \u001b[39mtry\u001b[39;00m:\n\u001b[0;32m-> 1250\u001b[0m     index, columns, col_dict \u001b[39m=\u001b[39m \u001b[39mself\u001b[39;49m\u001b[39m.\u001b[39;49m_engine\u001b[39m.\u001b[39;49mread(nrows)\n\u001b[1;32m   1251\u001b[0m \u001b[39mexcept\u001b[39;00m \u001b[39mException\u001b[39;00m:\n\u001b[1;32m   1252\u001b[0m     \u001b[39mself\u001b[39m\u001b[39m.\u001b[39mclose()\n",
            "File \u001b[0;32m/opt/homebrew/lib/python3.9/site-packages/pandas/io/parsers/c_parser_wrapper.py:225\u001b[0m, in \u001b[0;36mCParserWrapper.read\u001b[0;34m(self, nrows)\u001b[0m\n\u001b[1;32m    223\u001b[0m \u001b[39mtry\u001b[39;00m:\n\u001b[1;32m    224\u001b[0m     \u001b[39mif\u001b[39;00m \u001b[39mself\u001b[39m\u001b[39m.\u001b[39mlow_memory:\n\u001b[0;32m--> 225\u001b[0m         chunks \u001b[39m=\u001b[39m \u001b[39mself\u001b[39;49m\u001b[39m.\u001b[39;49m_reader\u001b[39m.\u001b[39;49mread_low_memory(nrows)\n\u001b[1;32m    226\u001b[0m         \u001b[39m# destructive to chunks\u001b[39;00m\n\u001b[1;32m    227\u001b[0m         data \u001b[39m=\u001b[39m _concatenate_chunks(chunks)\n",
            "File \u001b[0;32m/opt/homebrew/lib/python3.9/site-packages/pandas/_libs/parsers.pyx:805\u001b[0m, in \u001b[0;36mpandas._libs.parsers.TextReader.read_low_memory\u001b[0;34m()\u001b[0m\n",
            "File \u001b[0;32m/opt/homebrew/lib/python3.9/site-packages/pandas/_libs/parsers.pyx:861\u001b[0m, in \u001b[0;36mpandas._libs.parsers.TextReader._read_rows\u001b[0;34m()\u001b[0m\n",
            "File \u001b[0;32m/opt/homebrew/lib/python3.9/site-packages/pandas/_libs/parsers.pyx:847\u001b[0m, in \u001b[0;36mpandas._libs.parsers.TextReader._tokenize_rows\u001b[0;34m()\u001b[0m\n",
            "File \u001b[0;32m/opt/homebrew/lib/python3.9/site-packages/pandas/_libs/parsers.pyx:1960\u001b[0m, in \u001b[0;36mpandas._libs.parsers.raise_parser_error\u001b[0;34m()\u001b[0m\n",
            "\u001b[0;31mParserError\u001b[0m: Error tokenizing data. C error: Expected 11 fields in line 4, saw 12\n"
          ]
        }
      ],
      "source": [
        "# Cleaning OCR Data\n",
        "\n",
        "directory = 'data/original/ocr/'\n",
        "columns = [\"BB1\", \"BB2\", \"BB3\", \"BB4\", \"BB5\", \"BB6\", \"BB7\", \"BB8\", \"Text_Main\", \"Text2\", \"Text3\",]\n",
        "for filename in os.listdir(directory):\n",
        "  print(filename)\n",
        "  ocr_temp = pd.read_csv(os.path.join(directory, filename), header=None, names=columns)\n",
        "  for textIdx in range(len(ocr_temp[[\"Text2\"]])):\n",
        "    if type(ocr_temp.iloc[textIdx, 9])==str:\n",
        "      ocr_temp.iloc[textIdx, 8] += ocr_temp.iloc[textIdx, 9]\n",
        "  ocr_temp = ocr_temp.drop(labels=[\"Text2\",\"Text3\"], axis=1)\n",
        "  ocr_temp.to_csv(os.path.join('data/interim/ocr/', filename))\n",
        "\n",
        "\n",
        "# ocr_temp = pd.read_csv(\"data/ocr/00d0999799045.csv\", header=None, names=columns)\n",
        "# ocr_temp.head(10)\n",
        "# for textIdx in range(len(ocr_temp[[\"Text2\"]])):\n",
        "#   if type(ocr_temp.iloc[textIdx, 9])==str:\n",
        "#     ocr_temp.iloc[textIdx, 8] += ocr_temp.iloc[textIdx, 9]\n",
        "# ocr_temp = ocr_temp.drop(labels=[\"Text2\",\"Text3\"], axis=1) \n",
        "# ocr_temp.head()"
      ]
    }
  ],
  "metadata": {
    "colab": {
      "provenance": []
    },
    "kernelspec": {
      "display_name": "Python 3",
      "language": "python",
      "name": "python3"
    },
    "language_info": {
      "codemirror_mode": {
        "name": "ipython",
        "version": 3
      },
      "file_extension": ".py",
      "mimetype": "text/x-python",
      "name": "python",
      "nbconvert_exporter": "python",
      "pygments_lexer": "ipython3",
      "version": "3.9.13"
    },
    "vscode": {
      "interpreter": {
        "hash": "b0fa6594d8f4cbf19f97940f81e996739fb7646882a419484c72d19e05852a7e"
      }
    }
  },
  "nbformat": 4,
  "nbformat_minor": 0
}
