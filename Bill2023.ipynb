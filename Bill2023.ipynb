{
  "cells": [
    {
      "cell_type": "code",
      "execution_count": 25,
      "metadata": {
        "colab": {
          "base_uri": "https://localhost:8080/",
          "height": 602
        },
        "id": "Hf8ZWl-AAU6T",
        "outputId": "74b93865-7a0b-4fc5-dbf6-096342459169"
      },
      "outputs": [
        {
          "name": "stdout",
          "output_type": "stream",
          "text": [
            "        documentid      paymentid  amount       date  \\\n",
            "419  00d0639354292  00p0508924387     NaN  2018-3-10   \n",
            "\n",
            "                        vendor_name  \\\n",
            "419  UNIHAKKA INTERNATIONAL SDN BHD   \n",
            "\n",
            "                                        vendor_address  \n",
            "419  12, JALAN TAMPOI 7/4,KAWASAN PERINDUSTRIAN TAM...  \n",
            "          amount\n",
            "count  12.000000\n",
            "mean   15.275000\n",
            "std    22.947177\n",
            "min     6.200000\n",
            "25%     8.050000\n",
            "50%     8.700000\n",
            "75%    10.100000\n",
            "max    88.000000\n"
          ]
        }
      ],
      "source": [
        "# Exploratory Data Analysis of Users.csv\n",
        "\n",
        "import pandas as pd\n",
        "import numpy as np\n",
        "import matplotlib.pyplot as plt\n",
        "import matplotlib.image as mpimg\n",
        "import seaborn as sns\n",
        "from scipy.spatial import distance\n",
        "import os\n",
        "\n",
        "%matplotlib inline\n",
        "\n",
        "users_data = pd.read_csv(\"data/original/Users.csv\")\n",
        "print(users_data.loc[users_data[\"amount\"].isna()==True])\n",
        "uint_data = users_data.loc[users_data[\"vendor_name\"]==\"UNIHAKKA INTERNATIONAL SDN BHD\"]\n",
        "print(uint_data.describe())\n",
        "\n",
        "# Impute missing entry amount with $8.70"
      ]
    },
    {
      "cell_type": "code",
      "execution_count": 28,
      "metadata": {
        "colab": {
          "base_uri": "https://localhost:8080/"
        },
        "id": "YdmJuRj-F6Yg",
        "outputId": "6ab201e3-4beb-4778-cf91-13a0b1ff5dae"
      },
      "outputs": [
        {
          "name": "stdout",
          "output_type": "stream",
          "text": [
            "407\n",
            "458\n"
          ]
        },
        {
          "ename": "ValueError",
          "evalue": "The 1d arrays must have equal lengths.",
          "output_type": "error",
          "traceback": [
            "\u001b[0;31m---------------------------------------------------------------------------\u001b[0m",
            "\u001b[0;31mValueError\u001b[0m                                Traceback (most recent call last)",
            "Cell \u001b[0;32mIn[28], line 9\u001b[0m\n\u001b[1;32m      6\u001b[0m \u001b[39mdef\u001b[39;00m \u001b[39mhamming\u001b[39m(string1, string2):\n\u001b[1;32m      7\u001b[0m   \u001b[39mreturn\u001b[39;00m distance\u001b[39m.\u001b[39mhamming(\u001b[39mlist\u001b[39m(string1), \u001b[39mlist\u001b[39m(string2))\n\u001b[0;32m----> 9\u001b[0m \u001b[39mprint\u001b[39m(hamming(\u001b[39m\"\u001b[39;49m\u001b[39mcowbell\u001b[39;49m\u001b[39m\"\u001b[39;49m, \u001b[39m\"\u001b[39;49m\u001b[39mcobell\u001b[39;49m\u001b[39m\"\u001b[39;49m))\n",
            "Cell \u001b[0;32mIn[28], line 7\u001b[0m, in \u001b[0;36mhamming\u001b[0;34m(string1, string2)\u001b[0m\n\u001b[1;32m      6\u001b[0m \u001b[39mdef\u001b[39;00m \u001b[39mhamming\u001b[39m(string1, string2):\n\u001b[0;32m----> 7\u001b[0m   \u001b[39mreturn\u001b[39;00m distance\u001b[39m.\u001b[39;49mhamming(\u001b[39mlist\u001b[39;49m(string1), \u001b[39mlist\u001b[39;49m(string2))\n",
            "File \u001b[0;32m/opt/homebrew/lib/python3.9/site-packages/scipy/spatial/distance.py:728\u001b[0m, in \u001b[0;36mhamming\u001b[0;34m(u, v, w)\u001b[0m\n\u001b[1;32m    726\u001b[0m v \u001b[39m=\u001b[39m _validate_vector(v)\n\u001b[1;32m    727\u001b[0m \u001b[39mif\u001b[39;00m u\u001b[39m.\u001b[39mshape \u001b[39m!=\u001b[39m v\u001b[39m.\u001b[39mshape:\n\u001b[0;32m--> 728\u001b[0m     \u001b[39mraise\u001b[39;00m \u001b[39mValueError\u001b[39;00m(\u001b[39m'\u001b[39m\u001b[39mThe 1d arrays must have equal lengths.\u001b[39m\u001b[39m'\u001b[39m)\n\u001b[1;32m    729\u001b[0m u_ne_v \u001b[39m=\u001b[39m u \u001b[39m!=\u001b[39m v\n\u001b[1;32m    730\u001b[0m \u001b[39mif\u001b[39;00m w \u001b[39mis\u001b[39;00m \u001b[39mnot\u001b[39;00m \u001b[39mNone\u001b[39;00m:\n",
            "\u001b[0;31mValueError\u001b[0m: The 1d arrays must have equal lengths."
          ]
        }
      ],
      "source": [
        "print(users_data[\"vendor_name\"].nunique())\n",
        "print(users_data[\"vendor_address\"].nunique())\n",
        "# 407 unique vendor names\n",
        "# 458 unique vendor addresses\n",
        "# More locations then names\n",
        "def hamming(string1, string2):\n",
        "  return distance.hamming(list(string1), list(string2))\n",
        "\n",
        "print(hamming(\"cowbell\", \"cobell\"))\n"
      ]
    },
    {
      "cell_type": "code",
      "execution_count": 47,
      "metadata": {
        "colab": {
          "base_uri": "https://localhost:8080/",
          "height": 363
        },
        "id": "Zwa4IB49N1C6",
        "outputId": "2a3745e4-39cc-4f81-eb1c-002cb54e6f69"
      },
      "outputs": [],
      "source": [
        "# Cleaning OCR Data\n",
        "\n",
        "directory = 'data/original/ocr/'\n",
        "columns = [\"BB1\", \"BB2\", \"BB3\", \"BB4\", \"BB5\", \"BB6\", \"BB7\", \"BB8\", \"Text_Main\", \"Text2\", \"Text3\",\"Text4\"]\n",
        "for filename in os.listdir(directory):\n",
        "  try:\n",
        "    ocr_temp = pd.read_csv(os.path.join(directory, filename), header=None, names=columns)\n",
        "  except:\n",
        "    continue\n",
        "  if filename == \".DS_Store\":\n",
        "    continue\n",
        "  ocr_temp = pd.read_csv(os.path.join(directory, filename), header=None, names=columns)\n",
        "\n",
        "  ocr_temp[\"Text_Main\"] = ocr_temp[\"Text_Main\"].fillna('').astype(str)+ocr_temp[\"Text2\"].fillna('').astype(str)+ocr_temp[\"Text3\"].fillna('').astype(str)+ocr_temp[\"Text4\"].fillna('').astype(str)\n",
        "\n",
        "  ocr_temp[\"Text_Main\"].replace(\"\\'\",'')\n",
        "  ocr_temp[\"Text_Main\"].replace(\"\\\"\",'')\n",
        "  ocr_temp = ocr_temp.drop(labels=[\"Text2\",\"Text3\",\"Text4\"], axis=1)\n",
        "  ocr_temp.to_csv(os.path.join('data/interim/ocr/', filename))\n",
        "\n",
        "\n"
      ]
    }
  ],
  "metadata": {
    "colab": {
      "provenance": []
    },
    "kernelspec": {
      "display_name": "Python 3",
      "language": "python",
      "name": "python3"
    },
    "language_info": {
      "codemirror_mode": {
        "name": "ipython",
        "version": 3
      },
      "file_extension": ".py",
      "mimetype": "text/x-python",
      "name": "python",
      "nbconvert_exporter": "python",
      "pygments_lexer": "ipython3",
      "version": "3.8.9 (default, Apr 13 2022, 08:48:06) \n[Clang 13.1.6 (clang-1316.0.21.2.5)]"
    },
    "vscode": {
      "interpreter": {
        "hash": "31f2aee4e71d21fbe5cf8b01ff0e069b9275f58929596ceb00d14d90e3e16cd6"
      }
    }
  },
  "nbformat": 4,
  "nbformat_minor": 0
}
