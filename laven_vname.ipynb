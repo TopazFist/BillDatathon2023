{
 "cells": [
  {
   "cell_type": "code",
   "execution_count": 45,
   "metadata": {},
   "outputs": [],
   "source": [
    "import pandas as pd\n",
    "#from modules.lavenshtein import lavenshtein, get_laven\n",
    "from Levenshtein import distance\n",
    "import os\n",
    "from multiprocessing import Pool\n",
    "from tqdm import tqdm\n",
    "from modules.rev_helper import rev_helper"
   ]
  },
  {
   "cell_type": "code",
   "execution_count": 46,
   "metadata": {},
   "outputs": [],
   "source": [
    "columns = [\"BB1\", \"BB2\", \"BB3\", \"BB4\", \"BB5\", \"BB6\", \"BB7\", \"BB8\", \"Text_Main\"]\n",
    "columns_labels = [\"documentid\",\"pot_doc\",\"pot_name\",\"pot_price\",\"pot_date\",\"pot_address\",]\n",
    "ocrdir = 'data/interim/ocr/'\n",
    "levan_user = pd.DataFrame(columns=columns_labels)\n",
    "users_data = pd.read_csv(\"data/interim/Users.csv\")\n",
    "\n",
    "file_names = [os.path.splitext(file)[0] for file in list(os.listdir(ocrdir))]\n",
    "file_names = [x for x in file_names if x in users_data['documentid'].values]\n",
    "file_names = [file_name + '.csv' for file_name in file_names]\n",
    "\n",
    "with Pool() as p:\n",
    "    q = p.map(rev_helper, zip(file_names, [users_data for _ in range(len(os.listdir(ocrdir)))]))\n",
    "for qq in q:\n",
    "    levan_user.loc[len(levan_user)] = qq"
   ]
  },
  {
   "cell_type": "code",
   "execution_count": 47,
   "metadata": {},
   "outputs": [
    {
     "name": "stdout",
     "output_type": "stream",
     "text": [
      "494\n"
     ]
    }
   ],
   "source": [
    "new_df = levan_user.apply(lambda row: (row['documentid'] in row['pot_doc']), axis=1)\n",
    "count = (new_df == True).sum()\n",
    "print(count)"
   ]
  },
  {
   "cell_type": "code",
   "execution_count": 48,
   "metadata": {},
   "outputs": [
    {
     "data": {
      "text/plain": [
       "0      True\n",
       "1      True\n",
       "2      True\n",
       "3      True\n",
       "4      True\n",
       "       ... \n",
       "494    True\n",
       "495    True\n",
       "496    True\n",
       "497    True\n",
       "498    True\n",
       "Length: 499, dtype: bool"
      ]
     },
     "metadata": {},
     "output_type": "display_data"
    },
    {
     "name": "stdout",
     "output_type": "stream",
     "text": [
      "494\n"
     ]
    }
   ],
   "source": [
    "levan_user\n",
    "levan_user.to_csv(os.path.join('data/final/', \"final1.csv\"))\n",
    "#for row in levan_user.iterrows():\n",
    "#    print(len(row[1]['pot_doc']))\n",
    "new_df = levan_user.apply(lambda row:(row['documentid'] in row['pot_doc']),axis =1)\n",
    "display(new_df)\n",
    "print(new_df.sum())"
   ]
  }
 ],
 "metadata": {
  "kernelspec": {
   "display_name": "base",
   "language": "python",
   "name": "python3"
  },
  "language_info": {
   "codemirror_mode": {
    "name": "ipython",
    "version": 3
   },
   "file_extension": ".py",
   "mimetype": "text/x-python",
   "name": "python",
   "nbconvert_exporter": "python",
   "pygments_lexer": "ipython3",
   "version": "3.11.0"
  },
  "orig_nbformat": 4,
  "vscode": {
   "interpreter": {
    "hash": "9aec51e42af8da0c7c30aaf57f0f757435da4e088540033f4f1cafd61d7c10ec"
   }
  }
 },
 "nbformat": 4,
 "nbformat_minor": 2
}
