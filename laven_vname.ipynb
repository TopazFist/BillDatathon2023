{
 "cells": [
  {
   "cell_type": "code",
   "execution_count": 2,
   "metadata": {},
   "outputs": [],
   "source": [
    "import pandas as pd\n",
    "from modules.lavenshtein import lavenshtein"
   ]
  },
  {
   "cell_type": "code",
   "execution_count": 77,
   "metadata": {},
   "outputs": [],
   "source": [
    "import os\n",
    "\n",
    "def matching(user_str, text_col):\n",
    "    laven_lst = []\n",
    "    for i in range(len(text_col)):\n",
    "        char_count = 0\n",
    "        temp_laven = 0\n",
    "        j = i\n",
    "        temp_text = \"\"\n",
    "        while (char_count < len(user_str)) and j < len(text_col):\n",
    "            temp_text+=text_col.iloc[j]\n",
    "            char_count += len(text_col.iloc[j])\n",
    "            j+=1\n",
    "        temp_laven = lavenshtein(temp_text,user_str)\n",
    "        laven_lst.append(temp_laven/len(user_str))\n",
    "    return min(laven_lst)\n",
    "\n",
    "    \n",
    "def get_laven(value):\n",
    "    columns = [\"BB1\", \"BB2\", \"BB3\", \"BB4\", \"BB5\", \"BB6\", \"BB7\", \"BB8\", \"Text_Main\"]\n",
    "    columns_labels = [\"doc_id1\",\"lv1\",\"lp1\",\"ld1\",\"la1\",\n",
    "                            \"doc_id2\",\"lv2\",\"lp2\",\"ld2\",\"la2\",\n",
    "                            \"doc_id3\",\"lv3\",\"lp3\",\"ld3\",\"la3\",\n",
    "                            \"doc_id4\",\"lv4\",\"lp4\",\"ld4\",\"la4\",\n",
    "                            \"doc_id5\",\"lv5\",\"lp5\",\"ld5\",\"la5\"]\n",
    "    ocrdir = 'data/interim/ocr/'\n",
    "    levan_user = pd.DataFrame(columns=[\"doc_id\",\"levan_name\",\"levan_price\",\"levan_date\",\"levan_address\"])\n",
    "    #filename = \"00d0624439175.csv\"\n",
    "    for filename in os.listdir(ocrdir):\n",
    "        ocr_temp = pd.read_csv(os.path.join(ocrdir, filename), header=None, names=columns)  \n",
    "        text_col = ocr_temp[\"Text_Main\"]\n",
    "        levan_name = matching(value[\"vendor_name\"],text_col)\n",
    "        levan_price = matching(str(value[\"amount\"]),text_col)\n",
    "        levan_date = matching(value[\"date\"],text_col)\n",
    "        levan_address = matching(value[\"vendor_address\"],text_col)\n",
    "        levan_user.loc[levan_user.shape[0]]=[filename[:-4],levan_name,levan_price,levan_date,levan_address]\n",
    "        \n",
    "    smallest = levan_user.nsmallest(5, columns=\"levan_name\")\n",
    "    result = pd.Series(smallest.values.ravel(), name=0, index=columns_labels).T\n",
    "    \n",
    "    return result\n",
    "\n",
    "users_data = pd.read_csv(\"data/original/Users.csv\")\n",
    "final_df = pd.DataFrame(columns=[\"doc_id1\",\"lv1\",\"lp1\",\"ld1\",\"la1\"\n",
    "                            \"doc_id2\",\"lv2\",\"lp2\",\"ld2\",\"la2\",\n",
    "                            \"doc_id3\",\"lv3\",\"lp3\",\"ld3\",\"la3\",\n",
    "                            \"doc_id4\",\"lv4\",\"lp4\",\"ld4\",\"la4\",\n",
    "                            \"doc_id5\",\"lv5\",\"lp5\",\"ld5\",\"la5\"])\n",
    "result=((users_data.apply(get_laven, axis=1)))\n",
    "\n",
    "\n"
   ]
  },
  {
   "cell_type": "code",
   "execution_count": 82,
   "metadata": {},
   "outputs": [],
   "source": [
    "result[\"user_id\"] = users_data[\"documentid\"]\n",
    "result.to_csv(os.path.join('data/final/', \"final.csv\"))"
   ]
  },
  {
   "cell_type": "code",
   "execution_count": 81,
   "metadata": {},
   "outputs": [
    {
     "name": "stdout",
     "output_type": "stream",
     "text": [
      "         doc_id1  lv1  lp1  ld1  la1        doc_id2  lv2  lp2  ld2  la2  ...  \\\n",
      "0  00d0624439175    2    3    8   31  00d0876488640    2    4    8   31  ...   \n",
      "\n",
      "  lv4  lp4  ld4  la4        doc_id5 lv5  lp5  ld5  la5        user_id  \n",
      "0   2    3    7   25  00d0202365816   2    2    7   24  00d0624439175  \n",
      "\n",
      "[1 rows x 26 columns]\n"
     ]
    }
   ],
   "source": [
    "print(result)"
   ]
  }
 ],
 "metadata": {
  "kernelspec": {
   "display_name": "Python 3",
   "language": "python",
   "name": "python3"
  },
  "language_info": {
   "name": "python",
   "version": "3.8.9 (default, Apr 13 2022, 08:48:06) \n[Clang 13.1.6 (clang-1316.0.21.2.5)]"
  },
  "orig_nbformat": 4,
  "vscode": {
   "interpreter": {
    "hash": "31f2aee4e71d21fbe5cf8b01ff0e069b9275f58929596ceb00d14d90e3e16cd6"
   }
  }
 },
 "nbformat": 4,
 "nbformat_minor": 2
}
