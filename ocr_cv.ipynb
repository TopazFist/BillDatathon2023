{
 "cells": [
  {
   "attachments": {},
   "cell_type": "markdown",
   "metadata": {},
   "source": [
    "# Using OCR Bounding Boxes and Images to evaluate text confidence"
   ]
  },
  {
   "cell_type": "code",
   "execution_count": 1,
   "metadata": {},
   "outputs": [],
   "source": [
    "import cv2\n",
    "import numpy as np\n",
    "import matplotlib.pyplot as plt\n",
    "import pandas as pd"
   ]
  },
  {
   "cell_type": "code",
   "execution_count": 2,
   "metadata": {},
   "outputs": [
    {
     "name": "stderr",
     "output_type": "stream",
     "text": [
      "Corrupt JPEG data: bad Huffman code\n",
      "/var/folders/pz/bsrlw1051zq7wv21r5cq1y280000gn/T/ipykernel_12098/3792603332.py:16: UserWarning: Matplotlib is currently using module://matplotlib_inline.backend_inline, which is a non-GUI backend, so cannot show the figure.\n",
      "  fig.show()\n"
     ]
    },
    {
     "name": "stdout",
     "output_type": "stream",
     "text": [
      "Error in callback <function flush_figures at 0x13cbc68e0> (for post_execute):\n"
     ]
    },
    {
     "ename": "KeyboardInterrupt",
     "evalue": "",
     "output_type": "error",
     "traceback": [
      "\u001b[0;31m---------------------------------------------------------------------------\u001b[0m",
      "\u001b[0;31mKeyboardInterrupt\u001b[0m                         Traceback (most recent call last)",
      "File \u001b[0;32m~/miniforge3/lib/python3.11/site-packages/matplotlib_inline/backend_inline.py:126\u001b[0m, in \u001b[0;36mflush_figures\u001b[0;34m()\u001b[0m\n\u001b[1;32m    123\u001b[0m \u001b[39mif\u001b[39;00m InlineBackend\u001b[39m.\u001b[39minstance()\u001b[39m.\u001b[39mclose_figures:\n\u001b[1;32m    124\u001b[0m     \u001b[39m# ignore the tracking, just draw and close all figures\u001b[39;00m\n\u001b[1;32m    125\u001b[0m     \u001b[39mtry\u001b[39;00m:\n\u001b[0;32m--> 126\u001b[0m         \u001b[39mreturn\u001b[39;00m show(\u001b[39mTrue\u001b[39;49;00m)\n\u001b[1;32m    127\u001b[0m     \u001b[39mexcept\u001b[39;00m \u001b[39mException\u001b[39;00m \u001b[39mas\u001b[39;00m e:\n\u001b[1;32m    128\u001b[0m         \u001b[39m# safely show traceback if in IPython, else raise\u001b[39;00m\n\u001b[1;32m    129\u001b[0m         ip \u001b[39m=\u001b[39m get_ipython()\n",
      "File \u001b[0;32m~/miniforge3/lib/python3.11/site-packages/matplotlib_inline/backend_inline.py:90\u001b[0m, in \u001b[0;36mshow\u001b[0;34m(close, block)\u001b[0m\n\u001b[1;32m     88\u001b[0m \u001b[39mtry\u001b[39;00m:\n\u001b[1;32m     89\u001b[0m     \u001b[39mfor\u001b[39;00m figure_manager \u001b[39min\u001b[39;00m Gcf\u001b[39m.\u001b[39mget_all_fig_managers():\n\u001b[0;32m---> 90\u001b[0m         display(\n\u001b[1;32m     91\u001b[0m             figure_manager\u001b[39m.\u001b[39;49mcanvas\u001b[39m.\u001b[39;49mfigure,\n\u001b[1;32m     92\u001b[0m             metadata\u001b[39m=\u001b[39;49m_fetch_figure_metadata(figure_manager\u001b[39m.\u001b[39;49mcanvas\u001b[39m.\u001b[39;49mfigure)\n\u001b[1;32m     93\u001b[0m         )\n\u001b[1;32m     94\u001b[0m \u001b[39mfinally\u001b[39;00m:\n\u001b[1;32m     95\u001b[0m     show\u001b[39m.\u001b[39m_to_draw \u001b[39m=\u001b[39m []\n",
      "File \u001b[0;32m~/miniforge3/lib/python3.11/site-packages/IPython/core/display_functions.py:298\u001b[0m, in \u001b[0;36mdisplay\u001b[0;34m(include, exclude, metadata, transient, display_id, raw, clear, *objs, **kwargs)\u001b[0m\n\u001b[1;32m    296\u001b[0m     publish_display_data(data\u001b[39m=\u001b[39mobj, metadata\u001b[39m=\u001b[39mmetadata, \u001b[39m*\u001b[39m\u001b[39m*\u001b[39mkwargs)\n\u001b[1;32m    297\u001b[0m \u001b[39melse\u001b[39;00m:\n\u001b[0;32m--> 298\u001b[0m     format_dict, md_dict \u001b[39m=\u001b[39m \u001b[39mformat\u001b[39;49m(obj, include\u001b[39m=\u001b[39;49minclude, exclude\u001b[39m=\u001b[39;49mexclude)\n\u001b[1;32m    299\u001b[0m     \u001b[39mif\u001b[39;00m \u001b[39mnot\u001b[39;00m format_dict:\n\u001b[1;32m    300\u001b[0m         \u001b[39m# nothing to display (e.g. _ipython_display_ took over)\u001b[39;00m\n\u001b[1;32m    301\u001b[0m         \u001b[39mcontinue\u001b[39;00m\n",
      "File \u001b[0;32m~/miniforge3/lib/python3.11/site-packages/IPython/core/formatters.py:177\u001b[0m, in \u001b[0;36mDisplayFormatter.format\u001b[0;34m(self, obj, include, exclude)\u001b[0m\n\u001b[1;32m    175\u001b[0m md \u001b[39m=\u001b[39m \u001b[39mNone\u001b[39;00m\n\u001b[1;32m    176\u001b[0m \u001b[39mtry\u001b[39;00m:\n\u001b[0;32m--> 177\u001b[0m     data \u001b[39m=\u001b[39m formatter(obj)\n\u001b[1;32m    178\u001b[0m \u001b[39mexcept\u001b[39;00m:\n\u001b[1;32m    179\u001b[0m     \u001b[39m# FIXME: log the exception\u001b[39;00m\n\u001b[1;32m    180\u001b[0m     \u001b[39mraise\u001b[39;00m\n",
      "File \u001b[0;32m~/miniforge3/lib/python3.11/site-packages/decorator.py:232\u001b[0m, in \u001b[0;36mdecorate.<locals>.fun\u001b[0;34m(*args, **kw)\u001b[0m\n\u001b[1;32m    230\u001b[0m \u001b[39mif\u001b[39;00m \u001b[39mnot\u001b[39;00m kwsyntax:\n\u001b[1;32m    231\u001b[0m     args, kw \u001b[39m=\u001b[39m fix(args, kw, sig)\n\u001b[0;32m--> 232\u001b[0m \u001b[39mreturn\u001b[39;00m caller(func, \u001b[39m*\u001b[39;49m(extras \u001b[39m+\u001b[39;49m args), \u001b[39m*\u001b[39;49m\u001b[39m*\u001b[39;49mkw)\n",
      "File \u001b[0;32m~/miniforge3/lib/python3.11/site-packages/IPython/core/formatters.py:221\u001b[0m, in \u001b[0;36mcatch_format_error\u001b[0;34m(method, self, *args, **kwargs)\u001b[0m\n\u001b[1;32m    219\u001b[0m \u001b[39m\u001b[39m\u001b[39m\"\"\"show traceback on failed format call\"\"\"\u001b[39;00m\n\u001b[1;32m    220\u001b[0m \u001b[39mtry\u001b[39;00m:\n\u001b[0;32m--> 221\u001b[0m     r \u001b[39m=\u001b[39m method(\u001b[39mself\u001b[39;49m, \u001b[39m*\u001b[39;49margs, \u001b[39m*\u001b[39;49m\u001b[39m*\u001b[39;49mkwargs)\n\u001b[1;32m    222\u001b[0m \u001b[39mexcept\u001b[39;00m \u001b[39mNotImplementedError\u001b[39;00m:\n\u001b[1;32m    223\u001b[0m     \u001b[39m# don't warn on NotImplementedErrors\u001b[39;00m\n\u001b[1;32m    224\u001b[0m     \u001b[39mreturn\u001b[39;00m \u001b[39mself\u001b[39m\u001b[39m.\u001b[39m_check_return(\u001b[39mNone\u001b[39;00m, args[\u001b[39m0\u001b[39m])\n",
      "File \u001b[0;32m~/miniforge3/lib/python3.11/site-packages/IPython/core/formatters.py:338\u001b[0m, in \u001b[0;36mBaseFormatter.__call__\u001b[0;34m(self, obj)\u001b[0m\n\u001b[1;32m    336\u001b[0m     \u001b[39mpass\u001b[39;00m\n\u001b[1;32m    337\u001b[0m \u001b[39melse\u001b[39;00m:\n\u001b[0;32m--> 338\u001b[0m     \u001b[39mreturn\u001b[39;00m printer(obj)\n\u001b[1;32m    339\u001b[0m \u001b[39m# Finally look for special method names\u001b[39;00m\n\u001b[1;32m    340\u001b[0m method \u001b[39m=\u001b[39m get_real_method(obj, \u001b[39mself\u001b[39m\u001b[39m.\u001b[39mprint_method)\n",
      "File \u001b[0;32m~/miniforge3/lib/python3.11/site-packages/IPython/core/pylabtools.py:152\u001b[0m, in \u001b[0;36mprint_figure\u001b[0;34m(fig, fmt, bbox_inches, base64, **kwargs)\u001b[0m\n\u001b[1;32m    149\u001b[0m     \u001b[39mfrom\u001b[39;00m \u001b[39mmatplotlib\u001b[39;00m\u001b[39m.\u001b[39;00m\u001b[39mbackend_bases\u001b[39;00m \u001b[39mimport\u001b[39;00m FigureCanvasBase\n\u001b[1;32m    150\u001b[0m     FigureCanvasBase(fig)\n\u001b[0;32m--> 152\u001b[0m fig\u001b[39m.\u001b[39;49mcanvas\u001b[39m.\u001b[39;49mprint_figure(bytes_io, \u001b[39m*\u001b[39;49m\u001b[39m*\u001b[39;49mkw)\n\u001b[1;32m    153\u001b[0m data \u001b[39m=\u001b[39m bytes_io\u001b[39m.\u001b[39mgetvalue()\n\u001b[1;32m    154\u001b[0m \u001b[39mif\u001b[39;00m fmt \u001b[39m==\u001b[39m \u001b[39m'\u001b[39m\u001b[39msvg\u001b[39m\u001b[39m'\u001b[39m:\n",
      "File \u001b[0;32m~/miniforge3/lib/python3.11/site-packages/matplotlib/backend_bases.py:2318\u001b[0m, in \u001b[0;36mFigureCanvasBase.print_figure\u001b[0;34m(self, filename, dpi, facecolor, edgecolor, orientation, format, bbox_inches, pad_inches, bbox_extra_artists, backend, **kwargs)\u001b[0m\n\u001b[1;32m   2316\u001b[0m \u001b[39mif\u001b[39;00m bbox_inches:\n\u001b[1;32m   2317\u001b[0m     \u001b[39mif\u001b[39;00m bbox_inches \u001b[39m==\u001b[39m \u001b[39m\"\u001b[39m\u001b[39mtight\u001b[39m\u001b[39m\"\u001b[39m:\n\u001b[0;32m-> 2318\u001b[0m         bbox_inches \u001b[39m=\u001b[39m \u001b[39mself\u001b[39;49m\u001b[39m.\u001b[39;49mfigure\u001b[39m.\u001b[39;49mget_tightbbox(\n\u001b[1;32m   2319\u001b[0m             renderer, bbox_extra_artists\u001b[39m=\u001b[39;49mbbox_extra_artists)\n\u001b[1;32m   2320\u001b[0m         \u001b[39mif\u001b[39;00m pad_inches \u001b[39mis\u001b[39;00m \u001b[39mNone\u001b[39;00m:\n\u001b[1;32m   2321\u001b[0m             pad_inches \u001b[39m=\u001b[39m rcParams[\u001b[39m'\u001b[39m\u001b[39msavefig.pad_inches\u001b[39m\u001b[39m'\u001b[39m]\n",
      "File \u001b[0;32m~/miniforge3/lib/python3.11/site-packages/matplotlib/figure.py:1747\u001b[0m, in \u001b[0;36mFigureBase.get_tightbbox\u001b[0;34m(self, renderer, bbox_extra_artists)\u001b[0m\n\u001b[1;32m   1743\u001b[0m \u001b[39mif\u001b[39;00m ax\u001b[39m.\u001b[39mget_visible():\n\u001b[1;32m   1744\u001b[0m     \u001b[39m# some axes don't take the bbox_extra_artists kwarg so we\u001b[39;00m\n\u001b[1;32m   1745\u001b[0m     \u001b[39m# need this conditional....\u001b[39;00m\n\u001b[1;32m   1746\u001b[0m     \u001b[39mtry\u001b[39;00m:\n\u001b[0;32m-> 1747\u001b[0m         bbox \u001b[39m=\u001b[39m ax\u001b[39m.\u001b[39;49mget_tightbbox(\n\u001b[1;32m   1748\u001b[0m             renderer, bbox_extra_artists\u001b[39m=\u001b[39;49mbbox_extra_artists)\n\u001b[1;32m   1749\u001b[0m     \u001b[39mexcept\u001b[39;00m \u001b[39mTypeError\u001b[39;00m:\n\u001b[1;32m   1750\u001b[0m         bbox \u001b[39m=\u001b[39m ax\u001b[39m.\u001b[39mget_tightbbox(renderer)\n",
      "File \u001b[0;32m~/miniforge3/lib/python3.11/site-packages/matplotlib/axes/_base.py:4421\u001b[0m, in \u001b[0;36m_AxesBase.get_tightbbox\u001b[0;34m(self, renderer, call_axes_locator, bbox_extra_artists, for_layout_only)\u001b[0m\n\u001b[1;32m   4419\u001b[0m \u001b[39mfor\u001b[39;00m axis \u001b[39min\u001b[39;00m \u001b[39mself\u001b[39m\u001b[39m.\u001b[39m_axis_map\u001b[39m.\u001b[39mvalues():\n\u001b[1;32m   4420\u001b[0m     \u001b[39mif\u001b[39;00m \u001b[39mself\u001b[39m\u001b[39m.\u001b[39maxison \u001b[39mand\u001b[39;00m axis\u001b[39m.\u001b[39mget_visible():\n\u001b[0;32m-> 4421\u001b[0m         ba \u001b[39m=\u001b[39m martist\u001b[39m.\u001b[39;49m_get_tightbbox_for_layout_only(axis, renderer)\n\u001b[1;32m   4422\u001b[0m         \u001b[39mif\u001b[39;00m ba:\n\u001b[1;32m   4423\u001b[0m             bb\u001b[39m.\u001b[39mappend(ba)\n",
      "File \u001b[0;32m~/miniforge3/lib/python3.11/site-packages/matplotlib/artist.py:1378\u001b[0m, in \u001b[0;36m_get_tightbbox_for_layout_only\u001b[0;34m(obj, *args, **kwargs)\u001b[0m\n\u001b[1;32m   1372\u001b[0m \u001b[39m\u001b[39m\u001b[39m\"\"\"\u001b[39;00m\n\u001b[1;32m   1373\u001b[0m \u001b[39mMatplotlib's `.Axes.get_tightbbox` and `.Axis.get_tightbbox` support a\u001b[39;00m\n\u001b[1;32m   1374\u001b[0m \u001b[39m*for_layout_only* kwarg; this helper tries to use the kwarg but skips it\u001b[39;00m\n\u001b[1;32m   1375\u001b[0m \u001b[39mwhen encountering third-party subclasses that do not support it.\u001b[39;00m\n\u001b[1;32m   1376\u001b[0m \u001b[39m\"\"\"\u001b[39;00m\n\u001b[1;32m   1377\u001b[0m \u001b[39mtry\u001b[39;00m:\n\u001b[0;32m-> 1378\u001b[0m     \u001b[39mreturn\u001b[39;00m obj\u001b[39m.\u001b[39;49mget_tightbbox(\u001b[39m*\u001b[39;49margs, \u001b[39m*\u001b[39;49m\u001b[39m*\u001b[39;49m{\u001b[39m*\u001b[39;49m\u001b[39m*\u001b[39;49mkwargs, \u001b[39m\"\u001b[39;49m\u001b[39mfor_layout_only\u001b[39;49m\u001b[39m\"\u001b[39;49m: \u001b[39mTrue\u001b[39;49;00m})\n\u001b[1;32m   1379\u001b[0m \u001b[39mexcept\u001b[39;00m \u001b[39mTypeError\u001b[39;00m:\n\u001b[1;32m   1380\u001b[0m     \u001b[39mreturn\u001b[39;00m obj\u001b[39m.\u001b[39mget_tightbbox(\u001b[39m*\u001b[39margs, \u001b[39m*\u001b[39m\u001b[39m*\u001b[39mkwargs)\n",
      "File \u001b[0;32m~/miniforge3/lib/python3.11/site-packages/matplotlib/axis.py:1256\u001b[0m, in \u001b[0;36mAxis.get_tightbbox\u001b[0;34m(self, renderer, for_layout_only)\u001b[0m\n\u001b[1;32m   1253\u001b[0m \u001b[39mself\u001b[39m\u001b[39m.\u001b[39m_update_label_position(renderer)\n\u001b[1;32m   1255\u001b[0m \u001b[39m# go back to just this axis's tick labels\u001b[39;00m\n\u001b[0;32m-> 1256\u001b[0m tlb1, tlb2 \u001b[39m=\u001b[39m \u001b[39mself\u001b[39;49m\u001b[39m.\u001b[39;49m_get_ticklabel_bboxes(ticks_to_draw, renderer)\n\u001b[1;32m   1258\u001b[0m \u001b[39mself\u001b[39m\u001b[39m.\u001b[39m_update_offset_text_position(tlb1, tlb2)\n\u001b[1;32m   1259\u001b[0m \u001b[39mself\u001b[39m\u001b[39m.\u001b[39moffsetText\u001b[39m.\u001b[39mset_text(\u001b[39mself\u001b[39m\u001b[39m.\u001b[39mmajor\u001b[39m.\u001b[39mformatter\u001b[39m.\u001b[39mget_offset())\n",
      "File \u001b[0;32m~/miniforge3/lib/python3.11/site-packages/matplotlib/axis.py:1232\u001b[0m, in \u001b[0;36mAxis._get_ticklabel_bboxes\u001b[0;34m(self, ticks, renderer)\u001b[0m\n\u001b[1;32m   1230\u001b[0m \u001b[39mif\u001b[39;00m renderer \u001b[39mis\u001b[39;00m \u001b[39mNone\u001b[39;00m:\n\u001b[1;32m   1231\u001b[0m     renderer \u001b[39m=\u001b[39m \u001b[39mself\u001b[39m\u001b[39m.\u001b[39mfigure\u001b[39m.\u001b[39m_get_renderer()\n\u001b[0;32m-> 1232\u001b[0m \u001b[39mreturn\u001b[39;00m ([tick\u001b[39m.\u001b[39;49mlabel1\u001b[39m.\u001b[39;49mget_window_extent(renderer)\n\u001b[1;32m   1233\u001b[0m          \u001b[39mfor\u001b[39;49;00m tick \u001b[39min\u001b[39;49;00m ticks \u001b[39mif\u001b[39;49;00m tick\u001b[39m.\u001b[39;49mlabel1\u001b[39m.\u001b[39;49mget_visible()],\n\u001b[1;32m   1234\u001b[0m         [tick\u001b[39m.\u001b[39mlabel2\u001b[39m.\u001b[39mget_window_extent(renderer)\n\u001b[1;32m   1235\u001b[0m          \u001b[39mfor\u001b[39;00m tick \u001b[39min\u001b[39;00m ticks \u001b[39mif\u001b[39;00m tick\u001b[39m.\u001b[39mlabel2\u001b[39m.\u001b[39mget_visible()])\n",
      "File \u001b[0;32m~/miniforge3/lib/python3.11/site-packages/matplotlib/axis.py:1232\u001b[0m, in \u001b[0;36m<listcomp>\u001b[0;34m(.0)\u001b[0m\n\u001b[1;32m   1230\u001b[0m \u001b[39mif\u001b[39;00m renderer \u001b[39mis\u001b[39;00m \u001b[39mNone\u001b[39;00m:\n\u001b[1;32m   1231\u001b[0m     renderer \u001b[39m=\u001b[39m \u001b[39mself\u001b[39m\u001b[39m.\u001b[39mfigure\u001b[39m.\u001b[39m_get_renderer()\n\u001b[0;32m-> 1232\u001b[0m \u001b[39mreturn\u001b[39;00m ([tick\u001b[39m.\u001b[39;49mlabel1\u001b[39m.\u001b[39;49mget_window_extent(renderer)\n\u001b[1;32m   1233\u001b[0m          \u001b[39mfor\u001b[39;00m tick \u001b[39min\u001b[39;00m ticks \u001b[39mif\u001b[39;00m tick\u001b[39m.\u001b[39mlabel1\u001b[39m.\u001b[39mget_visible()],\n\u001b[1;32m   1234\u001b[0m         [tick\u001b[39m.\u001b[39mlabel2\u001b[39m.\u001b[39mget_window_extent(renderer)\n\u001b[1;32m   1235\u001b[0m          \u001b[39mfor\u001b[39;00m tick \u001b[39min\u001b[39;00m ticks \u001b[39mif\u001b[39;00m tick\u001b[39m.\u001b[39mlabel2\u001b[39m.\u001b[39mget_visible()])\n",
      "File \u001b[0;32m~/miniforge3/lib/python3.11/site-packages/matplotlib/text.py:915\u001b[0m, in \u001b[0;36mText.get_window_extent\u001b[0;34m(self, renderer, dpi)\u001b[0m\n\u001b[1;32m    910\u001b[0m     \u001b[39mraise\u001b[39;00m \u001b[39mRuntimeError\u001b[39;00m(\n\u001b[1;32m    911\u001b[0m         \u001b[39m\"\u001b[39m\u001b[39mCannot get window extent of text w/o renderer. You likely \u001b[39m\u001b[39m\"\u001b[39m\n\u001b[1;32m    912\u001b[0m         \u001b[39m\"\u001b[39m\u001b[39mwant to call \u001b[39m\u001b[39m'\u001b[39m\u001b[39mfigure.draw_without_rendering()\u001b[39m\u001b[39m'\u001b[39m\u001b[39m first.\u001b[39m\u001b[39m\"\u001b[39m)\n\u001b[1;32m    914\u001b[0m \u001b[39mwith\u001b[39;00m cbook\u001b[39m.\u001b[39m_setattr_cm(\u001b[39mself\u001b[39m\u001b[39m.\u001b[39mfigure, dpi\u001b[39m=\u001b[39mdpi):\n\u001b[0;32m--> 915\u001b[0m     bbox, info, descent \u001b[39m=\u001b[39m \u001b[39mself\u001b[39;49m\u001b[39m.\u001b[39;49m_get_layout(\u001b[39mself\u001b[39;49m\u001b[39m.\u001b[39;49m_renderer)\n\u001b[1;32m    916\u001b[0m     x, y \u001b[39m=\u001b[39m \u001b[39mself\u001b[39m\u001b[39m.\u001b[39mget_unitless_position()\n\u001b[1;32m    917\u001b[0m     x, y \u001b[39m=\u001b[39m \u001b[39mself\u001b[39m\u001b[39m.\u001b[39mget_transform()\u001b[39m.\u001b[39mtransform((x, y))\n",
      "File \u001b[0;32m~/miniforge3/lib/python3.11/site-packages/matplotlib/text.py:442\u001b[0m, in \u001b[0;36mText._get_layout\u001b[0;34m(self, renderer)\u001b[0m\n\u001b[1;32m    439\u001b[0m xmin \u001b[39m-\u001b[39m\u001b[39m=\u001b[39m offsetx\n\u001b[1;32m    440\u001b[0m ymin \u001b[39m-\u001b[39m\u001b[39m=\u001b[39m offsety\n\u001b[0;32m--> 442\u001b[0m bbox \u001b[39m=\u001b[39m Bbox\u001b[39m.\u001b[39;49mfrom_bounds(xmin, ymin, width, height)\n\u001b[1;32m    444\u001b[0m \u001b[39m# now rotate the positions around the first (x, y) position\u001b[39;00m\n\u001b[1;32m    445\u001b[0m xys \u001b[39m=\u001b[39m M\u001b[39m.\u001b[39mtransform(offset_layout) \u001b[39m-\u001b[39m (offsetx, offsety)\n",
      "File \u001b[0;32m~/miniforge3/lib/python3.11/site-packages/matplotlib/transforms.py:807\u001b[0m, in \u001b[0;36mBbox.from_bounds\u001b[0;34m(x0, y0, width, height)\u001b[0m\n\u001b[1;32m    800\u001b[0m \u001b[39m@staticmethod\u001b[39m\n\u001b[1;32m    801\u001b[0m \u001b[39mdef\u001b[39;00m \u001b[39mfrom_bounds\u001b[39m(x0, y0, width, height):\n\u001b[1;32m    802\u001b[0m \u001b[39m    \u001b[39m\u001b[39m\"\"\"\u001b[39;00m\n\u001b[1;32m    803\u001b[0m \u001b[39m    Create a new `Bbox` from *x0*, *y0*, *width* and *height*.\u001b[39;00m\n\u001b[1;32m    804\u001b[0m \n\u001b[1;32m    805\u001b[0m \u001b[39m    *width* and *height* may be negative.\u001b[39;00m\n\u001b[1;32m    806\u001b[0m \u001b[39m    \"\"\"\u001b[39;00m\n\u001b[0;32m--> 807\u001b[0m     \u001b[39mreturn\u001b[39;00m Bbox\u001b[39m.\u001b[39;49mfrom_extents(x0, y0, x0 \u001b[39m+\u001b[39;49m width, y0 \u001b[39m+\u001b[39;49m height)\n",
      "File \u001b[0;32m~/miniforge3/lib/python3.11/site-packages/matplotlib/transforms.py:826\u001b[0m, in \u001b[0;36mBbox.from_extents\u001b[0;34m(minpos, *args)\u001b[0m\n\u001b[1;32m    809\u001b[0m \u001b[39m@staticmethod\u001b[39m\n\u001b[1;32m    810\u001b[0m \u001b[39mdef\u001b[39;00m \u001b[39mfrom_extents\u001b[39m(\u001b[39m*\u001b[39margs, minpos\u001b[39m=\u001b[39m\u001b[39mNone\u001b[39;00m):\n\u001b[1;32m    811\u001b[0m \u001b[39m    \u001b[39m\u001b[39m\"\"\"\u001b[39;00m\n\u001b[1;32m    812\u001b[0m \u001b[39m    Create a new Bbox from *left*, *bottom*, *right* and *top*.\u001b[39;00m\n\u001b[1;32m    813\u001b[0m \n\u001b[0;32m   (...)\u001b[0m\n\u001b[1;32m    824\u001b[0m \u001b[39m       scales where negative bounds result in floating point errors.\u001b[39;00m\n\u001b[1;32m    825\u001b[0m \u001b[39m    \"\"\"\u001b[39;00m\n\u001b[0;32m--> 826\u001b[0m     bbox \u001b[39m=\u001b[39m Bbox(np\u001b[39m.\u001b[39;49mreshape(args, (\u001b[39m2\u001b[39;49m, \u001b[39m2\u001b[39;49m)))\n\u001b[1;32m    827\u001b[0m     \u001b[39mif\u001b[39;00m minpos \u001b[39mis\u001b[39;00m \u001b[39mnot\u001b[39;00m \u001b[39mNone\u001b[39;00m:\n\u001b[1;32m    828\u001b[0m         bbox\u001b[39m.\u001b[39m_minpos[:] \u001b[39m=\u001b[39m minpos\n",
      "File \u001b[0;32m~/miniforge3/lib/python3.11/site-packages/matplotlib/transforms.py:767\u001b[0m, in \u001b[0;36mBbox.__init__\u001b[0;34m(self, points, **kwargs)\u001b[0m\n\u001b[1;32m    764\u001b[0m     \u001b[39mraise\u001b[39;00m \u001b[39mValueError\u001b[39;00m(\u001b[39m'\u001b[39m\u001b[39mBbox points must be of the form \u001b[39m\u001b[39m'\u001b[39m\n\u001b[1;32m    765\u001b[0m                      \u001b[39m'\u001b[39m\u001b[39m\"\u001b[39m\u001b[39m[[x0, y0], [x1, y1]]\u001b[39m\u001b[39m\"\u001b[39m\u001b[39m.\u001b[39m\u001b[39m'\u001b[39m)\n\u001b[1;32m    766\u001b[0m \u001b[39mself\u001b[39m\u001b[39m.\u001b[39m_points \u001b[39m=\u001b[39m points\n\u001b[0;32m--> 767\u001b[0m \u001b[39mself\u001b[39m\u001b[39m.\u001b[39m_minpos \u001b[39m=\u001b[39m np\u001b[39m.\u001b[39marray([np\u001b[39m.\u001b[39minf, np\u001b[39m.\u001b[39minf])\n\u001b[1;32m    768\u001b[0m \u001b[39mself\u001b[39m\u001b[39m.\u001b[39m_ignore \u001b[39m=\u001b[39m \u001b[39mTrue\u001b[39;00m\n\u001b[1;32m    769\u001b[0m \u001b[39m# it is helpful in some contexts to know if the bbox is a\u001b[39;00m\n\u001b[1;32m    770\u001b[0m \u001b[39m# default or has been mutated; we store the orig points to\u001b[39;00m\n\u001b[1;32m    771\u001b[0m \u001b[39m# support the mutated methods\u001b[39;00m\n",
      "\u001b[0;31mKeyboardInterrupt\u001b[0m: "
     ]
    }
   ],
   "source": [
    "testfile = '00d0100894168'\n",
    "img = cv2.imread(f'data/original/img/{testfile}.jpg')\n",
    "imgdata = pd.read_csv(f\"data/interim/ocr/{testfile}.csv\")\n",
    "\n",
    "fig, ax = plt.subplots(5,5,figsize=(40,20))\n",
    "ctr = 0\n",
    "for row in imgdata.iterrows():\n",
    "    if int(row[1]['BB1']) < int(row[1]['BB3']) and int(row[1]['BB2']) < int(row[1]['BB6']):\n",
    "        slc = img[max(int(row[1]['BB2'])-5, 0):min(int(row[1]['BB6'])+5, img.shape[0]-1), \n",
    "            max(int(row[1]['BB1'])-5,0):min(int(row[1]['BB3'])+5, img.shape[1]-1)]\n",
    "        if ctr < 25:\n",
    "            ax[ctr//5][ctr%5].imshow(slc)\n",
    "            ctr += 1\n",
    "        if ctr == 21:\n",
    "            break\n",
    "fig.show()\n"
   ]
  },
  {
   "cell_type": "code",
   "execution_count": null,
   "metadata": {},
   "outputs": [],
   "source": [
    "import pytesseract as pts\n",
    "\n",
    "def clarity(slc, debug=False):\n",
    "    \"\"\"\n",
    "    Returns the percentage of confidence, on average, tesseract has for each word\n",
    "    \"\"\"\n",
    "    if debug: fig, ax = plt.subplots(1,3)\n",
    "    slc2 = cv2.GaussianBlur(slc, (9,9), 1)\n",
    "    slc2 = cv2.cvtColor(slc2, cv2.COLOR_BGR2GRAY)\n",
    "    if debug: ax[0].imshow(slc2)\n",
    "    slc3 = 255 - slc2\n",
    "    kernel = cv2.getStructuringElement(cv2.MORPH_RECT, (3,2))\n",
    "    slc3 = cv2.morphologyEx(slc3, cv2.MORPH_CLOSE, kernel, iterations=2)\n",
    "    kernel = cv2.getStructuringElement(cv2.MORPH_RECT, (2,5))\n",
    "    slc3 = 255 - cv2.morphologyEx(slc3, cv2.MORPH_CLOSE, kernel, iterations=0)\n",
    "    slc3 = slc3.astype(np.uint8)\n",
    "    if debug: ax[1].imshow(slc3)\n",
    "    _, slc3 = cv2.threshold(slc3, 200, 255, cv2.THRESH_BINARY_INV)\n",
    "    if debug: ax[2].imshow(slc3)\n",
    "    text = pts.image_to_data(cv2.cvtColor(slc3, cv2.COLOR_BGR2RGB), output_type='data.frame', config=\"--psm 7\")\n",
    "    if debug: plt.imshow(slc3)\n",
    "    text = text[text['text'].notna()]\n",
    "    if len(text) == 0:\n",
    "        return [0], [\"\"], ((0, 0, 1, 1),)\n",
    "    coords = []\n",
    "    for row in text.iterrows():\n",
    "        coords.append((int(row[1]['left']), \n",
    "            int(row[1]['top']), \n",
    "            int(row[1]['width'])+int(row[1]['left']), \n",
    "            int(row[1]['height'])+int(row[1]['top'])))\n",
    "\n",
    "    return list(text['conf']), list(text['text']), coords\n",
    "\n",
    "print(clarity(slc, debug=True))"
   ]
  },
  {
   "cell_type": "code",
   "execution_count": null,
   "metadata": {},
   "outputs": [],
   "source": [
    "res = []\n",
    "words = []\n",
    "bounds = []\n",
    "for row in imgdata.iterrows():\n",
    "    if int(row[1]['BB1']) < int(row[1]['BB3']) and int(row[1]['BB2']) < int(row[1]['BB6']):\n",
    "        slc = img[max(int(row[1]['BB2'])-5, 0):min(int(row[1]['BB6'])+5, img.shape[0]-1), \n",
    "            max(int(row[1]['BB1'])-5,0):min(int(row[1]['BB3'])+5, img.shape[1]-1)]\n",
    "        c, t, b = clarity(slc)\n",
    "        [res.append(s) for s in c]\n",
    "        [words.append(s) for s in t]\n",
    "        [bounds.append((s[0]+int(row[1]['BB1'])-5, s[1]+int(row[1]['BB2'])-5, s[2]+int(row[1]['BB1'])-5, s[3]+int(row[1]['BB2'])-5)) for s in b]\n",
    "plt.hist(res)\n",
    "plt.show()"
   ]
  },
  {
   "cell_type": "code",
   "execution_count": null,
   "metadata": {},
   "outputs": [],
   "source": [
    "fig, ax = plt.subplots(4,4,figsize=(30,30))\n",
    "ctr = 0\n",
    "print(bounds)\n",
    "for i in range(len(words)):\n",
    "    if res[i] < 10:\n",
    "        if ctr < 16:\n",
    "            ax[ctr//4][ctr%4].imshow(img[bounds[i][1]:bounds[i][3],bounds[i][0]:bounds[i][2]])\n",
    "            ax[ctr//4][ctr%4].set_title(words[i] + \" \" + str(res[i]))\n",
    "            ctr += 1\n",
    "fig, ax = plt.subplots(1,1)"
   ]
  },
  {
   "cell_type": "code",
   "execution_count": null,
   "metadata": {},
   "outputs": [],
   "source": [
    "import cv2\n",
    "import numpy as np\n",
    "import matplotlib.pyplot as plt\n",
    "import pandas as pd\n",
    "import os\n",
    "\n",
    "ocrdir = 'data/interim/ocr/'\n",
    "imgdir = 'data/original/img/'\n",
    "\n",
    "for filename in os.listdir(ocrdir):\n",
    "    img = cv2.imread(os.path.join(imgdir, filename[:-4]+\".jpg\"))\n",
    "    img = cv2.cvtColor(img, cv2.COLOR_BGR2GRAY)\n",
    "    img = cv2.GaussianBlur(img, (9,9), 1)\n",
    "    img = cv2.adaptiveThreshold(img, 255, cv2.ADAPTIVE_THRESH_MEAN_C, cv2.THRESH_BINARY_INV, 95, 15)\n",
    "    imgdata = pd.read_csv(os.path.join(ocrdir, filename))\n",
    "    confs = []\n",
    "    fig, ax = plt.subplots(3,3)\n",
    "    ctr = 0\n",
    "    for row in imgdata.iterrows():\n",
    "        slc = img[max(int(row[1]['BB2'])-5, 0):min(int(row[1]['BB6'])+5, img.shape[0]-1), \n",
    "            max(int(row[1]['BB1'])-5,0):min(int(row[1]['BB3'])+5, img.shape[1]-1)]\n",
    "        if ctr < 9:\n",
    "            ax[ctr//3][ctr%3].imshow(slc)\n",
    "            ctr += 1\n",
    "    break"
   ]
  },
  {
   "cell_type": "code",
   "execution_count": 16,
   "metadata": {},
   "outputs": [
    {
     "name": "stdout",
     "output_type": "stream",
     "text": [
      "00d0142736377.csv\n",
      "00d0770154989.csv\n",
      "00d0201817639.csv\n",
      "00d0243046961.csv\n",
      "00d0530724847.csv\n",
      "00d0114666542.csv\n",
      "00d0696518680.csv\n",
      "00d0164592408.csv\n",
      "00d0607552804.csv\n",
      "00d0602427476.csv\n",
      "00d0763228450.csv\n",
      "00d0724729985.csv\n",
      "00d0945045450.csv\n",
      "00d0910676977.csv\n",
      "00d0726102139.csv\n",
      "00d0206227401.csv\n",
      "00d0760612254.csv\n",
      "00d0206117546.csv\n",
      "00d0749666123.csv\n",
      "00d0139642641.csv\n",
      "[[96.289047, 82.829903, 89.555725, 91.210007, 96.005127, 96.813477, 92.097305, 92.919106, 69.670097, 95.956497, 96.669373, 96.044693, 96.151138, 96.238586, 80.429306, 93.057503, 91.586952, 96.290833, 96.660393, 96.495865, 95.890381, 96.204964, 94.410278, 94.803604, 92.800751, 94.809303, 92.60038, 90.948509, 96.469398, 96.596016, 96.180931, 93.850212, 93.258286, 87.536751, 96.143784, 96.021439, 93.733559, 96.568169, 95.714455, 96.46447, 95.757591, 96.438385, 91.120697, 91.120697, 61.908501, 84.435707, 61.208042, 76.197609, 77.903732, 87.127319, 90.696373, 90.603935, 90.603935, 90.080429, 93.261986, 66.944817, 74.82238, 92.725357, 95.809959, 93.808121, 88.036667, 95.33326, 96.144905, 90.555298, 96.18856, 46.945496, 95.42897, 96.133713, 81.922592, 81.922592, 96.525192, 95.381172, 96.736267, 96.399124, 92.129776, 92.129776, 95.045097, 96.055817, 96.996994, 84.027374, 84.027374, 95.144241, 89.205833, 95.530838, 85.257507, 87.331711, 87.040565, 95.690536, 95.690536, 96.830658, 93.144112, 89.850922, 96.726456, 95.06353, 95.83979, 96.065918, 96.232384, 94.869713, 96.527252, 95.694321, 96.485146, 87.521858, 79.037308, 79.037308, 96.548561, 95.505226, 95.893654, 96.401497, 96.928291, 79.908417, 64.614487, 88.968643, 83.303146, 94.926559], [91.423935, 96.206749, 90.037842, 31.072411, 37.189526, 93.226738, 23.609276, 96.843018, 92.486801, 95.797089, 93.223091, 50.631653, 89.962364, 90.992905, 90.992905, 96.459358, 94.749207, 93.678276, 95.454781, 85.106003, 94.470627, 96.234879, 92.776436, 90.547958, 96.715019, 96.239456, 96.446182, 95.438553, 75.430656, 95.635193, 80.423187, 66.609871, 79.091202, 86.96669, 87.518448, 88.39975, 91.383499, 89.696205, 83.386604, 50.007729, 60.418465, 89.254074, 96.335449, 96.543991, 96.771957, 90.089073, 87.040665, 9.807196, 89.772804, 95.491699, 94.936478, 95.952011, 93.990341, 93.380669, 90.299065, 70.672012, 77.100693, 96.829048, 93.183235, 92.391579, 91.504311, 96.930054, 96.977837, 93.14817, 96.518715, 93.299484, 82.0056, 83.153877, 83.153877, 63.73024, 95.956184, 93.459007, 7.84153, 7.84153, 57.566101, 95.05175, 89.062096, 96.153549, 85.475296, 90.42643], [93.973572, 93.973572, 96.085869, 95.961571, 96.079727, 95.818764, 77.366333, 91.900803, 96.994125, 96.441704, 67.69381, 95.552139, 95.534523, 95.792641, 95.251137, 94.773392, 95.706619, 95.706619, 96.155296, 91.794365, 91.794365, 96.57798, 39.339367, 94.957001, 95.522003, 96.0718, 96.0718, 96.182838, 96.32814, 93.242393, 78.298645, 95.563591, 95.060608, 85.860443, 50.655308, 95.987411, 96.01918, 86.427551, 93.770409, 94.396019, 94.396019, 78.94577, 90.349487, 96.629532, 85.245781, 60.3256, 60.3256, 96.375778, 93.0895, 90.536797, 96.443245, 96.554497, 89.048576, 95.985992, 94.484291, 93.596039, 94.479164, 92.189575, 93.296867, 92.976746, 95.823662, 96.055695, 89.567154, 90.789497, 96.370872, 95.512917, 89.481575, 89.481575, 10.181866, 96.022842, 91.517159, 90.639381, 93.666519, 84.821869, 26.230812, 96.70787, 96.394257, 96.045372, 87.681679, 42.47295, 93.949013, 92.724297, 94.340103, 95.570084, 31.259928, 96.629829, 96.679985, 96.493546, 96.403908, 96.060478, 26.472393, 94.978325, 94.978325, 93.142952, 85.24855], [90.774414, 95.763008, 95.288239, 36.140549, 96.093048, 96.676582, 96.802185, 45.305901, 57.455486, 90.064659, 89.32283, 89.32283, 95.492599, 92.757835, 86.338264, 93.168755, 88.688148, 39.492607, 96.526337, 87.421219, 90.62632, 84.497498, 94.689178, 95.233292, 96.138756, 95.707687, 95.960312, 45.25943, 36.777077, 96.070549, 96.515121, 35.241112, 92.778343, 95.587303, 65.909149, 95.967651, 95.967651, 88.506454, 43.41814, 95.787964, 33.912155, 86.077957, 94.262428, 66.217186, 72.369987, 94.547668, 95.884048, 38.866306, 91.496384, 58.889885, 77.289253, 92.44899, 96.826027, 1.782713, 85.663643, 93.626114, 96.558029, 38.261208, 70.490959, 88.742889, 84.814903, 95.492493, 29.607592, 53.231354, 96.362114, 93.571449, 95.950096, 95.188293, 92.286499, 93.840996, 96.335091, 96.117638, 81.27269, 88.220741, 95.92173, 95.984253, 95.189468, 48.347324, 94.684563, 84.072105, 96.285561, 96.446289, 94.068596, 78.017181, 78.017181, 76.230331, 89.149437, 0.0, 42.00061, 75.700981, 85.031929, 91.009979, 88.600723, 92.819908, 28.004742, 95.980743, 19.714832, 95.80368, 95.342369, 60.763062, 96.542603, 82.441772, 89.08316], [96.291473, 96.458344, 96.458344, 76.517174, 96.219551, 93.261108, 86.006477, 96.485054, 91.522812, 96.690643, 92.859108, 91.625565, 92.621269, 60.090797, 93.167038, 95.692436, 96.16349, 95.582108, 95.582108, 95.901474, 93.486954, 96.133415, 93.167442, 71.120316, 47.989941, 89.186172, 90.78315, 84.920158, 96.161034, 96.161034, 95.306664, 96.586708, 87.024117, 96.576302, 88.502899, 88.502899, 91.996758, 69.464729, 69.464729, 87.982681, 93.409966, 96.479713, 96.307838, 94.692337, 90.225998, 92.895409, 93.989456, 93.989456, 94.181427, 94.952454, 96.819397, 96.374496, 96.471466, 90.449501, 74.620811, 86.486076, 86.486076, 93.156319, 95.359879, 90.825508, 96.104881, 96.504677, 96.176384, 96.802437, 75.451363, 75.451363, 93.115517, 86.508705, 92.755348, 85.999588, 79.158478, 96.023689, 96.325897, 96.48642, 93.519646, 93.466354, 92.819901, 76.05722, 92.407265, 96.817123, 84.017708, 86.701759, 76.077103, 89.692101, 90.449173, 96.218857, 96.529495, 95.496513, 94.111046], [95.573395, 84.264755, 96.606819, 3.865623, 69.153526, 91.637413, 91.476166, 63.199066, 90.415215, 96.91597, 92.891487, 59.504868, 81.845581, 92.980591, 0.0, 51.772911, 45.241669, 83.653183, 48.079056, 46.995159, 0.0, 61.34922, 93.812889, 93.191803, 7.667828, 55.764271, 94.428642, 96.628044, 57.145454, 96.09655, 44.967632, 45.081181, 94.490601, 32.07394, 83.113167, 51.49144, 94.723297, 96.85218, 88.545372, 91.596718, 72.42746, 93.90123, 93.024078, 0.0, 94.408669, 95.852226, 78.873199, 42.955627, 31.881138, 48.581753, 96.029404, 72.785088, 94.875175, 84.796677, 88.480705, 81.859634, 87.119766, 89.806709, 38.889141, 96.961006, 73.841476, 84.845421, 70.489357, 96.172722, 60.773071, 60.773071, 85.700264, 93.161491, 88.245705, 96.691406, 93.222275, 88.320389, 5.349255, 43.006126, 70.905884, 90.810188, 95.479103], [95.721169, 93.572502, 92.875572, 89.699837, 95.646881, 88.232521, 88.232521, 47.49707, 93.30529, 93.171761, 52.256187, 0.0, 61.91573, 92.300674, 96.195457, 93.294495, 89.694801, 89.694801, 95.95816, 39.553432, 95.224823, 91.206863, 88.646965, 18.607893, 96.555733, 92.868645, 86.709572, 0.0, 86.434029, 9.96767, 52.924973, 63.945187, 94.087799, 79.784538, 96.530579, 95.672264, 95.414116, 83.087219, 96.873474, 53.02422, 90.955322, 11.796722, 77.29953, 96.000565, 94.687096, 85.519127, 72.282547, 79.58197, 70.102676, 47.686497, 47.686497, 73.393326, 86.767204, 78.252884, 86.589348, 96.611572, 5.017805, 28.733206, 0.0, 95.111664, 94.918327, 65.745132, 96.578911, 96.323181, 92.906433, 50.422344, 90.946434, 64.787804, 67.134216, 92.007202, 85.622704, 88.59967, 93.505043, 93.18103, 12.089615, 18.236351, 91.105637, 0.0, 0.0, 62.295383, 51.414543, 56.772476, 4.974556, 80.31424, 64.464417], [96.579262, 96.446587, 93.139801, 91.708603, 95.813644, 95.864388, 80.216614, 85.156654, 0.0, 95.545067, 92.385513, 95.388138, 96.056763, 96.580994, 96.199722, 91.810616, 91.291092, 96.61338, 96.595291, 94.809418, 87.153343, 95.467201, 96.510452, 96.086052, 91.746361, 95.522217, 92.816803, 52.251137, 95.682846, 96.137924, 96.151649, 90.122154, 95.45002, 28.855715, 28.855715, 95.800537, 96.049767, 94.586807, 94.586807, 95.933716, 95.810226, 91.154587, 96.039795, 95.199371, 96.190292, 96.194229, 79.613327, 96.200958, 95.447021, 96.189651, 54.875416, 89.972534, 89.663757, 65.884277, 90.748459, 85.302071, 89.237755, 83.29351, 90.031578, 96.530693, 96.002907, 96.850487, 95.995125, 80.167595, 88.906113, 47.308899, 92.421089, 92.421089, 95.802589, 95.867638, 60.652245, 95.915909, 93.253998, 91.94101, 93.254387, 93.105316, 75.347076, 96.644455, 39.992104, 95.350449, 96.067429, 92.311012, 96.217209, 96.217209, 89.512726, 93.232796, 88.074989, 96.750481, 77.715736, 96.077232, 62.273102, 94.314751, 96.565254, 96.503433, 60.906082, 93.211845, 96.124321, 92.758621, 87.236794, 96.018021, 96.742348, 93.891457, 94.854591, 91.894577, 91.894577, 89.883888, 93.15625, 82.238937, 82.238937, 95.587296, 83.787964, 83.787964, 94.446671, 31.323948, 31.323948, 96.216675, 85.10199, 83.408539, 83.408539, 96.425194, 96.06366, 58.948483, 96.619049, 96.328857, 96.683762, 96.15947, 94.749474, 95.244667, 95.858948, 95.858948, 96.00515, 96.181595, 95.152435, 83.794739, 96.085907, 96.380074, 90.441284, 72.038269, 26.570826, 83.419228, 91.449577, 93.71785, 93.71785, 95.795792, 96.711494, 92.960411, 64.10553, 64.110992, 95.7929], [93.87146, 96.061729, 95.033508, 96.276398, 91.836998, 93.874908, 93.214134, 91.429955, 96.670593, 93.127533, 93.268837, 82.936852, 96.758667, 96.970276, 96.520668, 96.45813, 96.803856, 90.373596, 96.533501, 96.13401, 95.362068, 96.647911, 96.20845, 96.384972, 96.416611, 96.705559, 96.29615, 57.563629, 87.14962, 95.834084, 37.853592, 89.807442, 94.471901, 96.631683, 96.72113, 60.435287, 96.902847, 96.172829, 80.209351, 80.460884, 96.176804, 96.230515, 94.061958, 64.592216, 74.850441, 53.180904, 96.312538, 88.911629, 96.281975, 95.772629, 83.558929, 96.456322, 96.605026, 96.396362, 93.109825, 91.862091, 95.865097, 96.51487, 92.952751, 92.799339, 95.924835, 91.915512, 87.050797, 44.091263, 87.536102, 93.591049, 47.671761, 0.0, 91.868843, 96.350327, 96.361084], [88.911736, 83.002815, 95.533722, 93.053062, 0.0, 0.0, 28.842964, 75.733398, 29.823986, 0.0, 91.906929, 41.5686, 53.217373, 15.875359, 28.494339, 0.0, 7.111797, 71.457108, 79.937714, 0.0, 18.565598, 85.426811, 0.0, 10.168848, 15.246658, 35.654457, 47.551788, 72.114349, 35.633621, 76.712242, 0.0, 75.581604, 23.152256, 96.175072, 35.109768, 26.365051, 75.426552, 0.0, 4.016695, 45.786957, 26.827116, 41.977486, 47.792953, 0.0, 55.953651, 38.422379, 96.368279, 0.0, 95.461128, 62.530594, 70.226875, 91.663773, 72.812096, 83.326866, 59.220093, 82.440742, 60.005947, 71.687523, 81.765236, 0.0, 81.378525, 22.00551, 75.093292, 44.962952, 52.955063, 69.331841, 0.168953, 28.165836, 17.406406, 22.158398, 38.857517, 62.45068, 64.285217, 0.0, 0.0, 78.911926, 78.911926, 40.964424, 22.252785, 80.607727, 7.593155, 52.080902, 63.281891, 76.375328, 71.669922, 93.883614, 0.0, 39.855862, 87.79599, 26.516762, 96.219978, 48.534691, 3.261023, 0.0], [94.206139, 96.175392, 90.858208, 90.103294, 92.755638, 58.167923, 70.587852, 96.536163, 83.629036, 93.015244, 86.367645, 93.431007, 92.11129, 96.213654, 96.579178, 92.526703, 77.935043, 95.474777, 56.376068, 75.926048, 95.90593, 92.181473, 93.277397, 90.67028, 64.031113, 85.573158, 57.298855, 17.070465, 45.103397, 57.696846, 96.574257, 57.778858, 95.4664, 87.946732, 94.176414, 0.0, 45.281025, 96.645218, 89.47081, 68.373779, 81.158585, 96.386139, 95.986038, 95.837883, 72.662102, 32.260979, 94.838448, 96.26841, 95.048363, 96.461594, 88.098526, 78.728546, 96.386299, 93.530655, 90.006653, 71.234451, 96.239365, 96.566353, 94.641586, 87.849846, 15.165682, 95.805618, 86.882431, 87.10437, 52.315956, 95.890892, 94.801941, 96.944611, 96.469383, 72.137718, 87.111206, 60.711891, 95.243263, 70.383057, 71.079468, 50.760571, 4.948473, 40.59547, 67.441597, 48.370346, 80.682671, 50.63456, 50.63456, 44.868332, 89.988014, 31.469755, 0.0, 11.141043, 71.257187, 71.257187, 53.375221, 96.12352, 96.217278, 94.650093, 94.513939, 96.173378, 95.460434, 90.60009, 95.80014, 0.0, 0.0, 96.322372, 86.116943, 3.66188, 96.640633, 94.409225, 61.849022, 32.143364, 95.539726, 95.581642, 58.692635, 96.524178, 59.761208, 94.559891, 95.150604, 95.993813, 93.674355, 96.319435, 79.644279, 96.031975, 56.703297, 96.395317, 96.712029, 85.300705, 94.058556, 93.122025, 70.739578, 88.653603, 51.153526, 63.634151, 96.75843, 93.865051, 49.883747, 68.650345, 9.767227, 9.767227, 94.969482, 84.647018, 92.468269, 86.265945], [11.006384, 89.783844, 93.665741, 92.184593, 25.549784, 54.853054, 94.851517, 13.032808, 78.906509, 95.600967, 93.03405, 42.21669, 46.22979, 91.013702, 96.725464, 76.699448, 96.125679, 93.209007, 84.412994, 68.148666, 0.0, 58.537521, 1.3834, 79.888519, 61.103519, 0.0, 68.848961, 61.48951, 11.342926, 83.078369, 68.854179, 48.38047, 63.49844, 88.745697, 88.745697, 78.763092, 39.696136, 94.066566, 64.314377, 0.0, 1.696663, 28.309555, 13.971491, 95.050407, 3.366585, 75.877052, 0.0, 24.029989, 94.331787, 67.798088, 26.658487, 71.931854, 81.929756, 0.0, 0.0, 69.687897, 66.89341, 69.153412, 96.006775, 91.657028, 68.380714, 92.505104, 88.269653, 76.364899, 55.294731, 19.177303, 92.910072, 88.586975, 95.03817, 96.636528, 93.124245, 0.0, 95.767952, 51.671837, 93.179092, 47.442966, 91.629959, 93.642929, 42.089001, 93.355446, 92.713226, 92.297874, 39.540707, 83.673637, 47.958931, 60.361095, 95.812332, 94.421478, 1.398125, 51.60133, 82.77272, 80.192596, 89.695107, 53.739716, 85.194557, 0.0, 83.167427, 61.734905, 91.160095, 88.104523, 26.284914, 93.277443, 83.714699, 87.333488, 35.25412, 58.275566, 13.077488, 33.684959, 82.710281, 17.357082, 93.325691, 95.859879, 95.874268, 92.832893, 94.643105], [96.380196, 45.18177, 90.164215, 95.458412, 91.096085, 60.9515, 80.059639, 1.840086, 92.641228, 88.332649, 33.500137, 93.185684, 58.810329, 92.727669, 96.205307, 91.068008, 0.0, 75.802727, 75.802727, 90.555832, 61.767963, 95.777733, 78.316513, 20.475842, 77.03363, 84.744469, 65.426933, 95.52932, 95.601387, 95.559937, 82.595436, 95.788406, 6.817446, 88.688774, 58.171188, 10.321579, 77.315598, 87.223267, 94.079536, 95.654922, 0.0, 88.697266, 75.751572, 95.016212, 93.447922, 68.318481, 77.385864, 89.779366, 96.861717, 95.773262, 91.920647, 72.182083, 89.683678, 26.318121, 78.621605, 38.975376, 87.8396, 86.922302, 39.744835, 92.991875, 85.096779, 74.392891, 58.657272, 84.600288, 90.658493, 90.658493, 93.413689, 92.782341, 22.498169, 26.657276, 89.472015, 71.038483, 90.120377, 89.798759, 91.23391, 93.097237, 26.910645, 76.510559, 91.775948, 79.744888, 60.548351, 76.005104, 91.389336, 93.37204, 93.37204, 72.185364, 90.466423, 86.677109, 96.803558, 87.98761, 87.008224, 95.106911, 60.601429, 74.688171, 94.588959, 66.068352, 91.310074, 0.0, 96.208397, 80.713501, 93.995361, 0.956116, 88.853981, 76.788986, 67.688583, 27.593555, 96.356438, 92.820923, 79.832733, 57.22044, 37.592602, 56.677242, 88.286652, 87.596619, 89.930565, 91.875977, 95.806496, 91.53756, 96.788589, 95.412506, 96.470276, 58.211678, 0.0, 90.390869, 15.326786], [93.791534, 90.054657, 35.24971, 95.922661, 71.051628, 32.912296, 0.0, 3.713713, 94.601631, 82.797554, 57.08939, 0.0, 77.310089, 25.336319, 62.262589, 91.823318, 91.823318, 49.049259, 70.155518, 33.400818, 87.753838, 96.037033, 88.456177, 0.0, 0.0, 49.222637, 88.244804, 38.827991, 59.47308, 86.446739, 54.983002, 14.341822, 94.755173, 93.099358, 43.523521, 95.448669, 46.76012, 27.706448, 63.409866, 96.37236, 48.340691, 14.334955, 71.023438, 0.0, 60.398499, 96.714378, 95.23867, 95.556046, 49.19558, 84.589951, 77.195869, 89.606529, 75.935448, 45.388916, 62.216499, 38.272209, 87.99334, 85.398163, 67.550323, 55.874062, 0.0, 0.0, 67.864372, 78.126999, 0.0, 73.190979, 47.875244, 82.058708, 91.871849, 34.123283, 70.389343, 95.306641, 92.945763, 14.602413, 89.71936, 74.135056, 74.135056, 0.0, 93.137451, 90.633438, 85.04599, 72.438995, 78.389832, 49.964325, 96.582787, 74.544289, 93.856506, 47.119949, 95.63063, 96.593781, 70.216431, 71.685135, 62.959999, 88.224312, 31.076956, 95.441841, 0.0, 72.080887, 57.23584, 91.769371, 77.171967, 48.86718, 15.204144, 88.467789, 95.154274, 89.94458, 12.514172, 92.325775, 95.802856, 92.650879, 54.610485, 40.806637, 25.999918, 0.0, 78.139977, 39.629307, 72.996681, 94.537781, 50.553169, 69.756195, 81.801201, 49.657997, 48.763855, 15.743713, 79.264252, 67.624954, 50.003777, 91.260971, 70.911346, 10.192242], [94.14061, 94.853165, 96.830757, 82.73616, 70.199173, 92.726135, 91.458107, 91.832077, 91.382629, 71.272659, 90.085091, 89.592903, 96.780357, 93.067451, 90.806465, 27.871346, 57.713425, 94.91069, 92.974846, 91.638336, 96.044327, 94.009956, 94.009956, 84.563393, 90.894897, 94.958542, 94.958542, 95.421387, 95.857552, 71.605057, 96.72187, 91.494484, 96.258446, 38.233341, 96.186661, 95.480484, 95.480484, 62.408264, 5.922689, 80.13517, 80.13517, 94.908203, 94.908203, 79.143707, 79.143707, 86.071205, 0.0, 81.471107, 94.461174, 94.461174, 87.668236, 92.303276, 52.220654, 22.998085, 38.759747, 20.539837, 68.393494, 94.990845, 93.252686, 70.647797, 92.720947, 92.720947, 62.476177, 95.938118, 93.522049, 90.661255, 95.526703, 91.737686, 91.870537, 47.232391, 96.897095, 96.002045, 96.922493, 95.79969, 79.073547, 96.431915, 90.756592, 95.747292, 61.151871, 67.937141, 81.497162, 0.0, 89.597778, 35.910038, 90.71418, 96.874504, 95.354309, 27.382298, 88.005936, 86.378128, 86.378128, 94.747185, 87.877777, 77.043396, 92.054787, 19.040308, 25.149197, 88.694717, 94.713417, 96.524208, 90.680664, 91.695564, 93.193024, 92.726799, 93.033455, 96.081306, 96.471504, 96.471504, 95.1287, 95.111488, 96.3396, 95.800179, 95.964134, 84.740158, 83.028236, 83.028236, 86.940514, 91.599052, 96.650635, 85.43708, 96.442719, 95.388939, 95.388939, 95.250717, 96.061699, 92.711815, 92.711815, 96.501381, 95.837151, 92.335953, 91.468529, 96.157974, 96.641525, 93.289085, 89.12542, 96.086197, 70.367645, 70.367645, 92.988724, 87.946159], [91.709656, 95.824974, 96.242271, 91.594765, 91.871536, 93.210915, 92.60524, 92.369446, 91.881096, 83.673279, 92.871002, 92.871002, 62.839085, 93.259445, 52.798428, 84.813881, 92.956726, 93.206474, 93.191681, 90.22348, 96.347282, 96.633354, 94.470657, 95.461983, 96.595001, 95.932243, 95.906738, 96.32592, 96.08831, 91.639938, 96.158707, 85.77124, 92.672607, 0.0, 96.37558, 95.910057, 96.167091, 83.251923, 63.342777, 6.067677, 96.50087, 96.471512, 96.476479, 75.756546, 41.716152, 41.716152, 88.49704, 95.071747, 96.662849, 96.72303, 96.253624, 91.162567, 66.571136, 85.757828, 91.704697, 72.014923, 90.907059, 73.798462, 96.654984, 96.464249, 72.958466, 73.303978, 61.033775, 92.495461, 94.20726, 75.569183, 96.462807, 96.772209, 96.200264, 95.909492, 87.559784, 70.875145, 83.41935, 83.41935, 95.42852, 95.598564, 73.152908, 68.349174, 68.349174, 34.192127, 84.956108, 95.180206, 95.525169, 76.62851, 76.62851, 93.249252, 90.244034, 91.97654, 96.496651, 96.171577, 93.992027, 93.992027, 95.8535, 95.824226, 95.97316, 76.152039, 76.152039, 89.956375, 92.775093, 92.649208, 91.263687, 83.017944, 95.764404, 95.764404, 96.059113, 95.091705, 96.256706, 95.560417, 95.560417, 96.534744, 93.149109, 90.854294, 48.540226, 95.591949, 95.591949, 92.801636, 92.801636, 96.097298, 96.466942, 91.7733, 82.558495], [95.27462, 95.27462, 93.25309, 87.698212, 96.891685, 95.414085, 47.606049, 66.247551, 52.184467, 88.405945, 73.618301, 84.501167, 95.861771, 88.124283, 82.212585, 92.131012, 22.205038, 95.976326, 95.498566, 95.498566, 94.581062, 95.793045, 95.694321, 89.790688, 91.369156, 96.650528, 96.198433, 87.965431, 0.0, 83.199883, 96.382782, 94.364204, 95.09774, 34.714027, 34.714027, 94.706245, 95.517807, 91.985794, 86.56144, 96.659073, 93.435951, 44.237709, 91.290184, 73.028038, 25.300137, 93.520302, 25.13381, 70.133202, 92.252739, 92.776474, 80.438522, 0.0, 62.012177, 87.28537, 95.994278, 91.951057, 94.985168, 96.777397, 96.929176, 76.045456, 76.045456, 96.669266, 38.271107, 76.876625, 96.028122, 94.827332, 94.079163, 85.767738, 88.993233, 78.369316, 93.273079, 45.374718, 83.880737, 77.428665, 96.557198, 48.987316, 95.545395, 94.912956, 95.168236, 83.1894, 95.353996, 95.435532, 95.441086, 93.276596, 85.340805, 95.771248, 95.353203, 95.771141, 96.354904, 95.024895, 84.591042, 96.077415, 87.4758, 87.649414, 28.972641, 89.573013, 50.079788, 96.851326, 95.015877, 95.869659, 96.124504, 96.124504, 79.008698, 63.703835, 91.79615, 77.901718, 95.039047], [89.814407, 94.515732, 95.877945, 95.877945, 96.189224, 96.862465, 96.454765, 96.795029, 90.661407, 96.419449, 92.783119, 92.442764, 87.90966, 93.110313, 88.648483, 95.649055, 95.649055, 92.307365, 94.645454, 93.937653, 94.702362, 93.15786, 63.985954, 63.985954, 87.210693, 52.185966, 88.810867, 90.709366, 96.70697, 96.369812, 94.181847, 82.629333, 82.629333, 92.954659, 90.536446, 95.058067, 90.565712, 96.618172, 96.43644, 77.030869, 77.030869, 82.719933, 92.273659, 96.87014, 96.229431, 83.408836, 83.358658, 74.842339, 75.35144, 75.35144, 51.937027, 0.0, 0.0, 91.149818, 95.227188, 90.961143, 90.471901, 95.3181, 88.759285, 88.759285, 92.760696, 96.651039, 94.070557, 96.927742, 96.787704, 96.559883, 93.174255, 93.174255, 96.798828, 96.900658, 95.880615, 95.880615, 96.298264, 96.432686, 96.217308, 96.364357, 90.922615, 95.923004, 87.007538, 62.162594, 96.505249, 63.839775, 94.395378, 92.038757, 73.897636, 77.536118, 51.125366, 94.158218, 96.308533], [94.306648, 89.889992, 92.11142, 4.338627, 67.68615, 78.679878, 20.724134, 77.427467, 72.811096, 27.349339, 0.0, 74.398918, 78.253525, 79.173882, 91.609695, 53.559044, 82.558517, 87.496445, 0.0, 64.353287, 80.335136, 93.961708, 87.384018, 69.652786, 96.50016, 69.392868, 90.425468, 80.313309, 24.251471, 88.959206, 95.840607, 92.46035, 74.267044, 95.533363, 74.508453, 93.219872, 77.237785, 96.201248, 91.069992, 44.225044, 46.811745, 22.109188, 79.123169, 10.665388, 96.327866, 58.126938, 86.94313, 89.495438, 0.0, 65.431808, 38.772362, 83.156357, 93.317337, 95.720085, 85.671219, 95.898376, 0.0, 11.360664, 79.552597, 90.317451, 94.589218, 93.974915, 68.772522, 92.669579, 57.77211, 0.0, 72.373871, 89.298645, 0.0, 91.15287, 33.022919, 89.393036, 93.663986, 72.5112, 87.737625, 91.35936, 65.69355, 90.221214, 67.355316, 96.715279, 96.007141, 73.123161, 27.265068, 67.867966, 96.184158, 95.628365, 88.877548, 96.450836, 79.990273], [91.218697, 96.771194, 96.123787, 96.950653, 96.351379, 96.795898, 96.500923, 96.166168, 88.465248, 68.738525, 96.62484, 88.776237, 81.044067, 90.312111, 50.574268, 96.8293, 96.13765, 92.713509, 92.713509, 88.516609, 88.516609, 91.283249, 78.889656, 77.319252, 93.792694, 66.680992, 92.958466, 95.820938, 96.169724, 4.978981, 4.978981, 96.492584, 96.639084, 91.348061, 79.674072, 89.423149, 89.423149, 96.534096, 93.745728, 86.255325, 86.255325, 93.224602, 82.454414, 71.281975, 90.604897, 95.856941, 96.838341, 96.471153, 96.854744, 92.835289, 91.709068, 96.43042, 96.827545, 96.398392, 94.904022, 96.832603, 93.797188, 96.375908, 96.600479, 88.972816, 94.921837, 96.353271, 85.076485, 85.076485, 84.116501, 89.635979, 80.792656, 96.482025, 92.905602, 92.905602, 74.186211, 94.973183, 84.213943, 84.213943, 92.004753, 94.72406, 94.72406, 17.809525, 78.424362, 96.698051, 93.095535, 93.095535, 86.334427, 96.339836, 96.396461, 96.449989, 96.354195, 96.314621, 96.314621, 96.414597, 89.792488]]\n"
     ]
    }
   ],
   "source": [
    "import cv2\n",
    "import numpy as np\n",
    "import matplotlib.pyplot as plt\n",
    "import pandas as pd\n",
    "import os\n",
    "import pytesseract as pts\n",
    "from cvread import cvread\n",
    "from tqdm import tqdm\n",
    "from multiprocessing import Pool\n",
    "\n",
    "ocrdir = 'data/interim/ocr/'\n",
    "imgdir = 'data/original/img/'\n",
    "\n",
    "data = []\n",
    "confs = []\n",
    "files = 0\n",
    "    \n",
    "with Pool() as p:\n",
    "    result = p.map(cvread, list(os.listdir(ocrdir)[:20]))\n",
    "\n",
    "print(result)"
   ]
  },
  {
   "cell_type": "code",
   "execution_count": 17,
   "metadata": {},
   "outputs": [
    {
     "data": {
      "text/plain": [
       "(array([ 80.,  14.,  21.,  16.,  14.,  33.,  18.,  23.,  29.,  40.,  45.,\n",
       "         30.,  52.,  47.,  72.,  84.,  86., 149., 309., 942.]),\n",
       " array([ 0.       ,  4.8498497,  9.6996994, 14.5495491, 19.3993988,\n",
       "        24.2492485, 29.0990982, 33.9489479, 38.7987976, 43.6486473,\n",
       "        48.498497 , 53.3483467, 58.1981964, 63.0480461, 67.8978958,\n",
       "        72.7477455, 77.5975952, 82.4474449, 87.2972946, 92.1471443,\n",
       "        96.996994 ]),\n",
       " <BarContainer object of 20 artists>)"
      ]
     },
     "execution_count": 17,
     "metadata": {},
     "output_type": "execute_result"
    },
    {
     "data": {
      "image/png": "[encoded data removed]",
      "text/plain": [
       "<Figure size 640x480 with 1 Axes>"
      ]
     },
     "metadata": {},
     "output_type": "display_data"
    }
   ],
   "source": [
    "big = []\n",
    "for r in result:\n",
    "    for rr in r:\n",
    "        big.append(rr)\n",
    "plt.hist(big, bins=20)"
   ]
  }
 ],
 "metadata": {
  "kernelspec": {
   "display_name": "base",
   "language": "python",
   "name": "python3"
  },
  "language_info": {
   "codemirror_mode": {
    "name": "ipython",
    "version": 3
   },
   "file_extension": ".py",
   "mimetype": "text/x-python",
   "name": "python",
   "nbconvert_exporter": "python",
   "pygments_lexer": "ipython3",
   "version": "3.11.0"
  },
  "orig_nbformat": 4,
  "vscode": {
   "interpreter": {
    "hash": "9aec51e42af8da0c7c30aaf57f0f757435da4e088540033f4f1cafd61d7c10ec"
   }
  }
 },
 "nbformat": 4,
 "nbformat_minor": 2
}
